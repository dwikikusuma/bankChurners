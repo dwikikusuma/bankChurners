{
 "cells": [
  {
   "cell_type": "code",
   "execution_count": 1,
   "metadata": {},
   "outputs": [],
   "source": [
    "import pandas as pd\n",
    "import numpy as np\n",
    "\n",
    "import seaborn as sns\n",
    "import matplotlib.pyplot as plt\n",
    "\n",
    "from sklearn.preprocessing import PolynomialFeatures,StandardScaler, MinMaxScaler\n",
    "from sklearn.metrics import roc_curve, auc\n",
    "\n",
    "from sklearn.model_selection import train_test_split\n",
    "from sklearn.model_selection import cross_val_score, StratifiedKFold\n",
    "from sklearn.linear_model import LogisticRegression\n",
    "from sklearn.neighbors import KNeighborsClassifier\n",
    "from sklearn.tree import DecisionTreeClassifier\n",
    "from sklearn.ensemble import RandomForestClassifier,GradientBoostingClassifier\n",
    "#from sklearn.pipeline import Pipeline\n",
    "from sklearn.impute import SimpleImputer\n",
    "from sklearn.feature_selection import RFE\n",
    "from sklearn.model_selection import GridSearchCV, StratifiedKFold,RandomizedSearchCV,learning_curve, validation_curve\n",
    "from sklearn.preprocessing import OneHotEncoder\n",
    "from sklearn.preprocessing import StandardScaler\n",
    "\n",
    "from sklearn.compose import ColumnTransformer\n",
    "from scipy import stats\n",
    "from sklearn.metrics import precision_recall_curve,confusion_matrix, classification_report, f1_score, recall_score, precision_score, plot_confusion_matrix, auc,plot_roc_curve, roc_curve\n",
    "import category_encoders as ce\n",
    "from sklearn.preprocessing import MinMaxScaler, StandardScaler, RobustScaler\n",
    "from imblearn.pipeline import Pipeline\n",
    "from imblearn.over_sampling import RandomOverSampler, SMOTE\n",
    "from imblearn.under_sampling import RandomUnderSampler\n",
    "\n",
    "from scipy.stats import mannwhitneyu\n",
    "\n",
    "import pingouin as pg\n",
    "from sklearn.metrics import SCORERS,accuracy_score, plot_precision_recall_curve,mean_squared_error\n",
    "import category_encoders as ce\n",
    "import warnings\n",
    "warnings.filterwarnings('ignore')\n",
    "\n"
   ]
  },
  {
   "cell_type": "code",
   "execution_count": 3,
   "metadata": {},
   "outputs": [
    {
     "data": {
      "text/html": [
       "<div>\n",
       "<style scoped>\n",
       "    .dataframe tbody tr th:only-of-type {\n",
       "        vertical-align: middle;\n",
       "    }\n",
       "\n",
       "    .dataframe tbody tr th {\n",
       "        vertical-align: top;\n",
       "    }\n",
       "\n",
       "    .dataframe thead th {\n",
       "        text-align: right;\n",
       "    }\n",
       "</style>\n",
       "<table border=\"1\" class=\"dataframe\">\n",
       "  <thead>\n",
       "    <tr style=\"text-align: right;\">\n",
       "      <th></th>\n",
       "      <th>CLIENTNUM</th>\n",
       "      <th>Attrition_Flag</th>\n",
       "      <th>Customer_Age</th>\n",
       "      <th>Gender</th>\n",
       "      <th>Dependent_count</th>\n",
       "      <th>Education_Level</th>\n",
       "      <th>Marital_Status</th>\n",
       "      <th>Income_Category</th>\n",
       "      <th>Card_Category</th>\n",
       "      <th>Months_on_book</th>\n",
       "      <th>...</th>\n",
       "      <th>Credit_Limit</th>\n",
       "      <th>Total_Revolving_Bal</th>\n",
       "      <th>Avg_Open_To_Buy</th>\n",
       "      <th>Total_Amt_Chng_Q4_Q1</th>\n",
       "      <th>Total_Trans_Amt</th>\n",
       "      <th>Total_Trans_Ct</th>\n",
       "      <th>Total_Ct_Chng_Q4_Q1</th>\n",
       "      <th>Avg_Utilization_Ratio</th>\n",
       "      <th>Naive_Bayes_Classifier_Attrition_Flag_Card_Category_Contacts_Count_12_mon_Dependent_count_Education_Level_Months_Inactive_12_mon_1</th>\n",
       "      <th>Naive_Bayes_Classifier_Attrition_Flag_Card_Category_Contacts_Count_12_mon_Dependent_count_Education_Level_Months_Inactive_12_mon_2</th>\n",
       "    </tr>\n",
       "  </thead>\n",
       "  <tbody>\n",
       "    <tr>\n",
       "      <th>0</th>\n",
       "      <td>768805383</td>\n",
       "      <td>Existing Customer</td>\n",
       "      <td>45</td>\n",
       "      <td>M</td>\n",
       "      <td>3</td>\n",
       "      <td>High School</td>\n",
       "      <td>Married</td>\n",
       "      <td>$60K - $80K</td>\n",
       "      <td>Blue</td>\n",
       "      <td>39</td>\n",
       "      <td>...</td>\n",
       "      <td>12691.0</td>\n",
       "      <td>777</td>\n",
       "      <td>11914.0</td>\n",
       "      <td>1.335</td>\n",
       "      <td>1144</td>\n",
       "      <td>42</td>\n",
       "      <td>1.625</td>\n",
       "      <td>0.061</td>\n",
       "      <td>0.000093</td>\n",
       "      <td>0.99991</td>\n",
       "    </tr>\n",
       "    <tr>\n",
       "      <th>1</th>\n",
       "      <td>818770008</td>\n",
       "      <td>Existing Customer</td>\n",
       "      <td>49</td>\n",
       "      <td>F</td>\n",
       "      <td>5</td>\n",
       "      <td>Graduate</td>\n",
       "      <td>Single</td>\n",
       "      <td>Less than $40K</td>\n",
       "      <td>Blue</td>\n",
       "      <td>44</td>\n",
       "      <td>...</td>\n",
       "      <td>8256.0</td>\n",
       "      <td>864</td>\n",
       "      <td>7392.0</td>\n",
       "      <td>1.541</td>\n",
       "      <td>1291</td>\n",
       "      <td>33</td>\n",
       "      <td>3.714</td>\n",
       "      <td>0.105</td>\n",
       "      <td>0.000057</td>\n",
       "      <td>0.99994</td>\n",
       "    </tr>\n",
       "    <tr>\n",
       "      <th>2</th>\n",
       "      <td>713982108</td>\n",
       "      <td>Existing Customer</td>\n",
       "      <td>51</td>\n",
       "      <td>M</td>\n",
       "      <td>3</td>\n",
       "      <td>Graduate</td>\n",
       "      <td>Married</td>\n",
       "      <td>$80K - $120K</td>\n",
       "      <td>Blue</td>\n",
       "      <td>36</td>\n",
       "      <td>...</td>\n",
       "      <td>3418.0</td>\n",
       "      <td>0</td>\n",
       "      <td>3418.0</td>\n",
       "      <td>2.594</td>\n",
       "      <td>1887</td>\n",
       "      <td>20</td>\n",
       "      <td>2.333</td>\n",
       "      <td>0.000</td>\n",
       "      <td>0.000021</td>\n",
       "      <td>0.99998</td>\n",
       "    </tr>\n",
       "    <tr>\n",
       "      <th>3</th>\n",
       "      <td>769911858</td>\n",
       "      <td>Existing Customer</td>\n",
       "      <td>40</td>\n",
       "      <td>F</td>\n",
       "      <td>4</td>\n",
       "      <td>High School</td>\n",
       "      <td>Unknown</td>\n",
       "      <td>Less than $40K</td>\n",
       "      <td>Blue</td>\n",
       "      <td>34</td>\n",
       "      <td>...</td>\n",
       "      <td>3313.0</td>\n",
       "      <td>2517</td>\n",
       "      <td>796.0</td>\n",
       "      <td>1.405</td>\n",
       "      <td>1171</td>\n",
       "      <td>20</td>\n",
       "      <td>2.333</td>\n",
       "      <td>0.760</td>\n",
       "      <td>0.000134</td>\n",
       "      <td>0.99987</td>\n",
       "    </tr>\n",
       "    <tr>\n",
       "      <th>4</th>\n",
       "      <td>709106358</td>\n",
       "      <td>Existing Customer</td>\n",
       "      <td>40</td>\n",
       "      <td>M</td>\n",
       "      <td>3</td>\n",
       "      <td>Uneducated</td>\n",
       "      <td>Married</td>\n",
       "      <td>$60K - $80K</td>\n",
       "      <td>Blue</td>\n",
       "      <td>21</td>\n",
       "      <td>...</td>\n",
       "      <td>4716.0</td>\n",
       "      <td>0</td>\n",
       "      <td>4716.0</td>\n",
       "      <td>2.175</td>\n",
       "      <td>816</td>\n",
       "      <td>28</td>\n",
       "      <td>2.500</td>\n",
       "      <td>0.000</td>\n",
       "      <td>0.000022</td>\n",
       "      <td>0.99998</td>\n",
       "    </tr>\n",
       "  </tbody>\n",
       "</table>\n",
       "<p>5 rows × 23 columns</p>\n",
       "</div>"
      ],
      "text/plain": [
       "   CLIENTNUM     Attrition_Flag  Customer_Age Gender  Dependent_count  \\\n",
       "0  768805383  Existing Customer            45      M                3   \n",
       "1  818770008  Existing Customer            49      F                5   \n",
       "2  713982108  Existing Customer            51      M                3   \n",
       "3  769911858  Existing Customer            40      F                4   \n",
       "4  709106358  Existing Customer            40      M                3   \n",
       "\n",
       "  Education_Level Marital_Status Income_Category Card_Category  \\\n",
       "0     High School        Married     $60K - $80K          Blue   \n",
       "1        Graduate         Single  Less than $40K          Blue   \n",
       "2        Graduate        Married    $80K - $120K          Blue   \n",
       "3     High School        Unknown  Less than $40K          Blue   \n",
       "4      Uneducated        Married     $60K - $80K          Blue   \n",
       "\n",
       "   Months_on_book  ...  Credit_Limit  Total_Revolving_Bal  Avg_Open_To_Buy  \\\n",
       "0              39  ...       12691.0                  777          11914.0   \n",
       "1              44  ...        8256.0                  864           7392.0   \n",
       "2              36  ...        3418.0                    0           3418.0   \n",
       "3              34  ...        3313.0                 2517            796.0   \n",
       "4              21  ...        4716.0                    0           4716.0   \n",
       "\n",
       "   Total_Amt_Chng_Q4_Q1  Total_Trans_Amt  Total_Trans_Ct  Total_Ct_Chng_Q4_Q1  \\\n",
       "0                 1.335             1144              42                1.625   \n",
       "1                 1.541             1291              33                3.714   \n",
       "2                 2.594             1887              20                2.333   \n",
       "3                 1.405             1171              20                2.333   \n",
       "4                 2.175              816              28                2.500   \n",
       "\n",
       "   Avg_Utilization_Ratio  \\\n",
       "0                  0.061   \n",
       "1                  0.105   \n",
       "2                  0.000   \n",
       "3                  0.760   \n",
       "4                  0.000   \n",
       "\n",
       "   Naive_Bayes_Classifier_Attrition_Flag_Card_Category_Contacts_Count_12_mon_Dependent_count_Education_Level_Months_Inactive_12_mon_1  \\\n",
       "0                                           0.000093                                                                                    \n",
       "1                                           0.000057                                                                                    \n",
       "2                                           0.000021                                                                                    \n",
       "3                                           0.000134                                                                                    \n",
       "4                                           0.000022                                                                                    \n",
       "\n",
       "   Naive_Bayes_Classifier_Attrition_Flag_Card_Category_Contacts_Count_12_mon_Dependent_count_Education_Level_Months_Inactive_12_mon_2  \n",
       "0                                            0.99991                                                                                   \n",
       "1                                            0.99994                                                                                   \n",
       "2                                            0.99998                                                                                   \n",
       "3                                            0.99987                                                                                   \n",
       "4                                            0.99998                                                                                   \n",
       "\n",
       "[5 rows x 23 columns]"
      ]
     },
     "execution_count": 3,
     "metadata": {},
     "output_type": "execute_result"
    }
   ],
   "source": [
    "bank = pd.read_csv('BankChurners.csv')\n",
    "bank.head()"
   ]
  },
  {
   "cell_type": "code",
   "execution_count": null,
   "metadata": {},
   "outputs": [],
   "source": []
  },
  {
   "cell_type": "code",
   "execution_count": 4,
   "metadata": {},
   "outputs": [],
   "source": [
    "df = bank.drop(['CLIENTNUM','Naive_Bayes_Classifier_Attrition_Flag_Card_Category_Contacts_Count_12_mon_Dependent_count_Education_Level_Months_Inactive_12_mon_2',\n",
    "               'Naive_Bayes_Classifier_Attrition_Flag_Card_Category_Contacts_Count_12_mon_Dependent_count_Education_Level_Months_Inactive_12_mon_1'],\n",
    "               axis=1,).copy()"
   ]
  },
  {
   "cell_type": "code",
   "execution_count": null,
   "metadata": {},
   "outputs": [],
   "source": [
    "select avg(Customer_Age)\n",
    "from BankChurners\n",
    "where marital_status == 'Married'\n",
    "groupby attrition_flag"
   ]
  },
  {
   "cell_type": "code",
   "execution_count": null,
   "metadata": {},
   "outputs": [],
   "source": []
  },
  {
   "cell_type": "markdown",
   "metadata": {},
   "source": [
    "## Data Cleansing"
   ]
  },
  {
   "cell_type": "code",
   "execution_count": 5,
   "metadata": {},
   "outputs": [
    {
     "data": {
      "text/plain": [
       "Attrition_Flag               object\n",
       "Customer_Age                  int64\n",
       "Gender                       object\n",
       "Dependent_count               int64\n",
       "Education_Level              object\n",
       "Marital_Status               object\n",
       "Income_Category              object\n",
       "Card_Category                object\n",
       "Months_on_book                int64\n",
       "Total_Relationship_Count      int64\n",
       "Months_Inactive_12_mon        int64\n",
       "Contacts_Count_12_mon         int64\n",
       "Credit_Limit                float64\n",
       "Total_Revolving_Bal           int64\n",
       "Avg_Open_To_Buy             float64\n",
       "Total_Amt_Chng_Q4_Q1        float64\n",
       "Total_Trans_Amt               int64\n",
       "Total_Trans_Ct                int64\n",
       "Total_Ct_Chng_Q4_Q1         float64\n",
       "Avg_Utilization_Ratio       float64\n",
       "dtype: object"
      ]
     },
     "execution_count": 5,
     "metadata": {},
     "output_type": "execute_result"
    }
   ],
   "source": [
    "df.dtypes"
   ]
  },
  {
   "cell_type": "code",
   "execution_count": 6,
   "metadata": {},
   "outputs": [
    {
     "data": {
      "text/html": [
       "<div>\n",
       "<style scoped>\n",
       "    .dataframe tbody tr th:only-of-type {\n",
       "        vertical-align: middle;\n",
       "    }\n",
       "\n",
       "    .dataframe tbody tr th {\n",
       "        vertical-align: top;\n",
       "    }\n",
       "\n",
       "    .dataframe thead th {\n",
       "        text-align: right;\n",
       "    }\n",
       "</style>\n",
       "<table border=\"1\" class=\"dataframe\">\n",
       "  <thead>\n",
       "    <tr style=\"text-align: right;\">\n",
       "      <th></th>\n",
       "      <th>Attrition_Flag</th>\n",
       "      <th>Customer_Age</th>\n",
       "      <th>Gender</th>\n",
       "      <th>Dependent_count</th>\n",
       "      <th>Education_Level</th>\n",
       "      <th>Marital_Status</th>\n",
       "      <th>Income_Category</th>\n",
       "      <th>Card_Category</th>\n",
       "      <th>Months_on_book</th>\n",
       "      <th>Total_Relationship_Count</th>\n",
       "      <th>Months_Inactive_12_mon</th>\n",
       "      <th>Contacts_Count_12_mon</th>\n",
       "      <th>Credit_Limit</th>\n",
       "      <th>Total_Revolving_Bal</th>\n",
       "      <th>Avg_Open_To_Buy</th>\n",
       "      <th>Total_Amt_Chng_Q4_Q1</th>\n",
       "      <th>Total_Trans_Amt</th>\n",
       "      <th>Total_Trans_Ct</th>\n",
       "      <th>Total_Ct_Chng_Q4_Q1</th>\n",
       "      <th>Avg_Utilization_Ratio</th>\n",
       "    </tr>\n",
       "  </thead>\n",
       "  <tbody>\n",
       "    <tr>\n",
       "      <th>0</th>\n",
       "      <td>Existing Customer</td>\n",
       "      <td>45</td>\n",
       "      <td>M</td>\n",
       "      <td>3</td>\n",
       "      <td>High School</td>\n",
       "      <td>Married</td>\n",
       "      <td>$60K - $80K</td>\n",
       "      <td>Blue</td>\n",
       "      <td>39</td>\n",
       "      <td>5</td>\n",
       "      <td>1</td>\n",
       "      <td>3</td>\n",
       "      <td>12691.0</td>\n",
       "      <td>777</td>\n",
       "      <td>11914.0</td>\n",
       "      <td>1.335</td>\n",
       "      <td>1144</td>\n",
       "      <td>42</td>\n",
       "      <td>1.625</td>\n",
       "      <td>0.061</td>\n",
       "    </tr>\n",
       "    <tr>\n",
       "      <th>1</th>\n",
       "      <td>Existing Customer</td>\n",
       "      <td>49</td>\n",
       "      <td>F</td>\n",
       "      <td>5</td>\n",
       "      <td>Graduate</td>\n",
       "      <td>Single</td>\n",
       "      <td>Less than $40K</td>\n",
       "      <td>Blue</td>\n",
       "      <td>44</td>\n",
       "      <td>6</td>\n",
       "      <td>1</td>\n",
       "      <td>2</td>\n",
       "      <td>8256.0</td>\n",
       "      <td>864</td>\n",
       "      <td>7392.0</td>\n",
       "      <td>1.541</td>\n",
       "      <td>1291</td>\n",
       "      <td>33</td>\n",
       "      <td>3.714</td>\n",
       "      <td>0.105</td>\n",
       "    </tr>\n",
       "    <tr>\n",
       "      <th>2</th>\n",
       "      <td>Existing Customer</td>\n",
       "      <td>51</td>\n",
       "      <td>M</td>\n",
       "      <td>3</td>\n",
       "      <td>Graduate</td>\n",
       "      <td>Married</td>\n",
       "      <td>$80K - $120K</td>\n",
       "      <td>Blue</td>\n",
       "      <td>36</td>\n",
       "      <td>4</td>\n",
       "      <td>1</td>\n",
       "      <td>0</td>\n",
       "      <td>3418.0</td>\n",
       "      <td>0</td>\n",
       "      <td>3418.0</td>\n",
       "      <td>2.594</td>\n",
       "      <td>1887</td>\n",
       "      <td>20</td>\n",
       "      <td>2.333</td>\n",
       "      <td>0.000</td>\n",
       "    </tr>\n",
       "    <tr>\n",
       "      <th>3</th>\n",
       "      <td>Existing Customer</td>\n",
       "      <td>40</td>\n",
       "      <td>F</td>\n",
       "      <td>4</td>\n",
       "      <td>High School</td>\n",
       "      <td>Unknown</td>\n",
       "      <td>Less than $40K</td>\n",
       "      <td>Blue</td>\n",
       "      <td>34</td>\n",
       "      <td>3</td>\n",
       "      <td>4</td>\n",
       "      <td>1</td>\n",
       "      <td>3313.0</td>\n",
       "      <td>2517</td>\n",
       "      <td>796.0</td>\n",
       "      <td>1.405</td>\n",
       "      <td>1171</td>\n",
       "      <td>20</td>\n",
       "      <td>2.333</td>\n",
       "      <td>0.760</td>\n",
       "    </tr>\n",
       "    <tr>\n",
       "      <th>4</th>\n",
       "      <td>Existing Customer</td>\n",
       "      <td>40</td>\n",
       "      <td>M</td>\n",
       "      <td>3</td>\n",
       "      <td>Uneducated</td>\n",
       "      <td>Married</td>\n",
       "      <td>$60K - $80K</td>\n",
       "      <td>Blue</td>\n",
       "      <td>21</td>\n",
       "      <td>5</td>\n",
       "      <td>1</td>\n",
       "      <td>0</td>\n",
       "      <td>4716.0</td>\n",
       "      <td>0</td>\n",
       "      <td>4716.0</td>\n",
       "      <td>2.175</td>\n",
       "      <td>816</td>\n",
       "      <td>28</td>\n",
       "      <td>2.500</td>\n",
       "      <td>0.000</td>\n",
       "    </tr>\n",
       "  </tbody>\n",
       "</table>\n",
       "</div>"
      ],
      "text/plain": [
       "      Attrition_Flag  Customer_Age Gender  Dependent_count Education_Level  \\\n",
       "0  Existing Customer            45      M                3     High School   \n",
       "1  Existing Customer            49      F                5        Graduate   \n",
       "2  Existing Customer            51      M                3        Graduate   \n",
       "3  Existing Customer            40      F                4     High School   \n",
       "4  Existing Customer            40      M                3      Uneducated   \n",
       "\n",
       "  Marital_Status Income_Category Card_Category  Months_on_book  \\\n",
       "0        Married     $60K - $80K          Blue              39   \n",
       "1         Single  Less than $40K          Blue              44   \n",
       "2        Married    $80K - $120K          Blue              36   \n",
       "3        Unknown  Less than $40K          Blue              34   \n",
       "4        Married     $60K - $80K          Blue              21   \n",
       "\n",
       "   Total_Relationship_Count  Months_Inactive_12_mon  Contacts_Count_12_mon  \\\n",
       "0                         5                       1                      3   \n",
       "1                         6                       1                      2   \n",
       "2                         4                       1                      0   \n",
       "3                         3                       4                      1   \n",
       "4                         5                       1                      0   \n",
       "\n",
       "   Credit_Limit  Total_Revolving_Bal  Avg_Open_To_Buy  Total_Amt_Chng_Q4_Q1  \\\n",
       "0       12691.0                  777          11914.0                 1.335   \n",
       "1        8256.0                  864           7392.0                 1.541   \n",
       "2        3418.0                    0           3418.0                 2.594   \n",
       "3        3313.0                 2517            796.0                 1.405   \n",
       "4        4716.0                    0           4716.0                 2.175   \n",
       "\n",
       "   Total_Trans_Amt  Total_Trans_Ct  Total_Ct_Chng_Q4_Q1  Avg_Utilization_Ratio  \n",
       "0             1144              42                1.625                  0.061  \n",
       "1             1291              33                3.714                  0.105  \n",
       "2             1887              20                2.333                  0.000  \n",
       "3             1171              20                2.333                  0.760  \n",
       "4              816              28                2.500                  0.000  "
      ]
     },
     "execution_count": 6,
     "metadata": {},
     "output_type": "execute_result"
    }
   ],
   "source": [
    "df.head()"
   ]
  },
  {
   "cell_type": "code",
   "execution_count": 7,
   "metadata": {},
   "outputs": [
    {
     "data": {
      "text/plain": [
       "Attrition_Flag              0.0\n",
       "Customer_Age                0.0\n",
       "Gender                      0.0\n",
       "Dependent_count             0.0\n",
       "Education_Level             0.0\n",
       "Marital_Status              0.0\n",
       "Income_Category             0.0\n",
       "Card_Category               0.0\n",
       "Months_on_book              0.0\n",
       "Total_Relationship_Count    0.0\n",
       "Months_Inactive_12_mon      0.0\n",
       "Contacts_Count_12_mon       0.0\n",
       "Credit_Limit                0.0\n",
       "Total_Revolving_Bal         0.0\n",
       "Avg_Open_To_Buy             0.0\n",
       "Total_Amt_Chng_Q4_Q1        0.0\n",
       "Total_Trans_Amt             0.0\n",
       "Total_Trans_Ct              0.0\n",
       "Total_Ct_Chng_Q4_Q1         0.0\n",
       "Avg_Utilization_Ratio       0.0\n",
       "dtype: float64"
      ]
     },
     "execution_count": 7,
     "metadata": {},
     "output_type": "execute_result"
    }
   ],
   "source": [
    "df.isna().sum()/len(df)*100"
   ]
  },
  {
   "cell_type": "code",
   "execution_count": 8,
   "metadata": {},
   "outputs": [
    {
     "data": {
      "text/plain": [
       "<AxesSubplot:>"
      ]
     },
     "execution_count": 8,
     "metadata": {},
     "output_type": "execute_result"
    },
    {
     "data": {
      "image/png": "[encoded data removed]",
      "text/plain": [
       "<Figure size 432x288 with 2 Axes>"
      ]
     },
     "metadata": {
      "needs_background": "light"
     },
     "output_type": "display_data"
    }
   ],
   "source": [
    "sns.heatmap(df.isna())"
   ]
  },
  {
   "cell_type": "markdown",
   "metadata": {},
   "source": [
    "<h3> Tidak terdapat data null di dalam dataset sehingga ridak di perlukannya imputationpada dataset "
   ]
  },
  {
   "cell_type": "markdown",
   "metadata": {},
   "source": [
    "## Check outliers"
   ]
  },
  {
   "cell_type": "code",
   "execution_count": 9,
   "metadata": {},
   "outputs": [
    {
     "data": {
      "text/plain": [
       "Attrition_Flag               object\n",
       "Customer_Age                  int64\n",
       "Gender                       object\n",
       "Dependent_count               int64\n",
       "Education_Level              object\n",
       "Marital_Status               object\n",
       "Income_Category              object\n",
       "Card_Category                object\n",
       "Months_on_book                int64\n",
       "Total_Relationship_Count      int64\n",
       "Months_Inactive_12_mon        int64\n",
       "Contacts_Count_12_mon         int64\n",
       "Credit_Limit                float64\n",
       "Total_Revolving_Bal           int64\n",
       "Avg_Open_To_Buy             float64\n",
       "Total_Amt_Chng_Q4_Q1        float64\n",
       "Total_Trans_Amt               int64\n",
       "Total_Trans_Ct                int64\n",
       "Total_Ct_Chng_Q4_Q1         float64\n",
       "Avg_Utilization_Ratio       float64\n",
       "dtype: object"
      ]
     },
     "execution_count": 9,
     "metadata": {},
     "output_type": "execute_result"
    }
   ],
   "source": [
    "df.dtypes"
   ]
  },
  {
   "cell_type": "code",
   "execution_count": 10,
   "metadata": {},
   "outputs": [
    {
     "data": {
      "image/png": "[encoded data removed]",
      "text/plain": [
       "<Figure size 2160x2160 with 13 Axes>"
      ]
     },
     "metadata": {
      "needs_background": "light"
     },
     "output_type": "display_data"
    }
   ],
   "source": [
    "plt.figure(figsize=(30,30))\n",
    "plt.subplot(721)\n",
    "sns.boxplot(df['Dependent_count'])\n",
    "plt.subplot(722)\n",
    "sns.boxplot(df['Months_on_book'])\n",
    "plt.subplot(723)\n",
    "sns.boxplot(df['Total_Relationship_Count'])\n",
    "plt.subplot(724)\n",
    "sns.boxplot(df['Months_Inactive_12_mon'])\n",
    "plt.subplot(725)\n",
    "sns.boxplot(df['Contacts_Count_12_mon'])\n",
    "plt.subplot(726)\n",
    "sns.boxplot(df['Credit_Limit'])\n",
    "plt.subplot(727)\n",
    "sns.boxplot(df['Total_Revolving_Bal'])\n",
    "plt.subplot(728)\n",
    "sns.boxplot(df['Avg_Open_To_Buy'])\n",
    "plt.subplot(729)\n",
    "sns.boxplot(df['Total_Amt_Chng_Q4_Q1'])\n",
    "plt.subplot(7,2,10)\n",
    "sns.boxplot(df['Total_Trans_Amt'])\n",
    "plt.subplot(7,2,11)\n",
    "sns.boxplot(df['Total_Trans_Ct'])\n",
    "plt.subplot(7,2,12)\n",
    "sns.boxplot(df['Total_Ct_Chng_Q4_Q1'])\n",
    "plt.subplot(7,2,13)\n",
    "sns.boxplot(df['Avg_Utilization_Ratio'])\n",
    "plt.show()"
   ]
  },
  {
   "cell_type": "markdown",
   "metadata": {},
   "source": [
    "Dari Boxplot di atas terdapat beberapa kolom yang memiliki outlier yang cukup banyak:\n",
    "- Total_trans_Amt\n",
    "- Total_Ct_Change_Q4_Q3\n",
    "- Total_Ct_Change_Q4_Q1\n",
    "- Avg_open_to_buy\n",
    "- Credit_Limit\n",
    "- Months_on_Book\n"
   ]
  },
  {
   "cell_type": "code",
   "execution_count": 11,
   "metadata": {},
   "outputs": [
    {
     "data": {
      "text/html": [
       "<div>\n",
       "<style scoped>\n",
       "    .dataframe tbody tr th:only-of-type {\n",
       "        vertical-align: middle;\n",
       "    }\n",
       "\n",
       "    .dataframe tbody tr th {\n",
       "        vertical-align: top;\n",
       "    }\n",
       "\n",
       "    .dataframe thead th {\n",
       "        text-align: right;\n",
       "    }\n",
       "</style>\n",
       "<table border=\"1\" class=\"dataframe\">\n",
       "  <thead>\n",
       "    <tr style=\"text-align: right;\">\n",
       "      <th></th>\n",
       "      <th>name</th>\n",
       "      <th>percentile</th>\n",
       "    </tr>\n",
       "  </thead>\n",
       "  <tbody>\n",
       "    <tr>\n",
       "      <th>0</th>\n",
       "      <td>Months_on_book</td>\n",
       "      <td>3.81%</td>\n",
       "    </tr>\n",
       "    <tr>\n",
       "      <th>1</th>\n",
       "      <td>Credit_Limit</td>\n",
       "      <td>9.72%</td>\n",
       "    </tr>\n",
       "    <tr>\n",
       "      <th>2</th>\n",
       "      <td>Total_Amt_Chng_Q4_Q1</td>\n",
       "      <td>3.9%</td>\n",
       "    </tr>\n",
       "    <tr>\n",
       "      <th>3</th>\n",
       "      <td>Total_Ct_Chng_Q4_Q1</td>\n",
       "      <td>3.91%</td>\n",
       "    </tr>\n",
       "    <tr>\n",
       "      <th>4</th>\n",
       "      <td>Total_Trans_Amt</td>\n",
       "      <td>8.85%</td>\n",
       "    </tr>\n",
       "    <tr>\n",
       "      <th>5</th>\n",
       "      <td>Months_Inactive_12_mon</td>\n",
       "      <td>3.27%</td>\n",
       "    </tr>\n",
       "    <tr>\n",
       "      <th>6</th>\n",
       "      <td>Contacts_Count_12_mon</td>\n",
       "      <td>6.21%</td>\n",
       "    </tr>\n",
       "  </tbody>\n",
       "</table>\n",
       "</div>"
      ],
      "text/plain": [
       "                     name percentile\n",
       "0          Months_on_book      3.81%\n",
       "1            Credit_Limit      9.72%\n",
       "2    Total_Amt_Chng_Q4_Q1       3.9%\n",
       "3     Total_Ct_Chng_Q4_Q1      3.91%\n",
       "4         Total_Trans_Amt      8.85%\n",
       "5  Months_Inactive_12_mon      3.27%\n",
       "6   Contacts_Count_12_mon      6.21%"
      ]
     },
     "execution_count": 11,
     "metadata": {},
     "output_type": "execute_result"
    }
   ],
   "source": [
    "# ceknilai outlier\n",
    "# data outlier using iqr\n",
    "def iqr(cols):\n",
    "    col = cols.split(' ')\n",
    "    name = []\n",
    "    tmp = []\n",
    "    for i in col:\n",
    "        s = df[i]\n",
    "        a = pd.DataFrame(s)\n",
    "        Q1 = a.describe()[i]['25%']\n",
    "        Q3 = a.describe()[i]['75%']\n",
    "        IQR = Q3 - Q1 \n",
    "        UF = Q3 + (1.5 * IQR)\n",
    "        LF= Q1 - (1.5 * IQR)\n",
    "\n",
    "        b = a[(a[i] < LF) | (a[i] > UF) ]\n",
    "        a = a[a[i] < LF]\n",
    "        c = a[a[i] > UF]\n",
    "        e =str(round((len(b)/len(df)*100),2)) + '%'\n",
    "        \n",
    "        tmp.append(e)\n",
    "        name.append(i)\n",
    "    res = pd.DataFrame({'name':name, 'percentile':tmp})\n",
    "        \n",
    "    return res\n",
    "iqr('Months_on_book Credit_Limit Total_Amt_Chng_Q4_Q1 Total_Ct_Chng_Q4_Q1 Total_Trans_Amt Months_Inactive_12_mon Contacts_Count_12_mon')"
   ]
  },
  {
   "cell_type": "markdown",
   "metadata": {},
   "source": [
    "<h3> akan membuat kolom baru dimana dapat menandakan apakah rowtersebut termasuk outliers atau tidak"
   ]
  },
  {
   "cell_type": "code",
   "execution_count": 12,
   "metadata": {},
   "outputs": [],
   "source": [
    "col = 'Months_on_book Credit_Limit Total_Amt_Chng_Q4_Q1 Total_Ct_Chng_Q4_Q1 Total_Trans_Amt Months_Inactive_12_mon Contacts_Count_12_mon'.split()\n",
    "\n",
    "for i in col:\n",
    "    Q1 = df[i].quantile(0.25)\n",
    "    Q3 = df[i].quantile(0.75)\n",
    "    IQR = Q3 - Q1\n",
    "\n",
    "\n",
    "    conditions  = [ (df[i] < (Q1 - 1.5 * IQR)) |(df[i] > (Q3 + 1.5 * IQR)),\n",
    "                   (df[i] > (Q1 - 1.5 * IQR)) |(df[i] < (Q3 + 1.5 * IQR)) ]\n",
    "    choices     = [ 1,0 ]\n",
    "    # 1 outlier\n",
    "    # 0 tidak\n",
    "\n",
    "    df[i+'_ol_lab'] = np.select(conditions, choices)\n"
   ]
  },
  {
   "cell_type": "code",
   "execution_count": 13,
   "metadata": {},
   "outputs": [
    {
     "data": {
      "text/html": [
       "<div>\n",
       "<style scoped>\n",
       "    .dataframe tbody tr th:only-of-type {\n",
       "        vertical-align: middle;\n",
       "    }\n",
       "\n",
       "    .dataframe tbody tr th {\n",
       "        vertical-align: top;\n",
       "    }\n",
       "\n",
       "    .dataframe thead th {\n",
       "        text-align: right;\n",
       "    }\n",
       "</style>\n",
       "<table border=\"1\" class=\"dataframe\">\n",
       "  <thead>\n",
       "    <tr style=\"text-align: right;\">\n",
       "      <th></th>\n",
       "      <th>Months_on_book_ol_lab</th>\n",
       "      <th>Credit_Limit_ol_lab</th>\n",
       "      <th>Total_Amt_Chng_Q4_Q1_ol_lab</th>\n",
       "      <th>Total_Ct_Chng_Q4_Q1_ol_lab</th>\n",
       "      <th>Total_Trans_Amt_ol_lab</th>\n",
       "      <th>Months_Inactive_12_mon_ol_lab</th>\n",
       "      <th>Contacts_Count_12_mon_ol_lab</th>\n",
       "    </tr>\n",
       "  </thead>\n",
       "  <tbody>\n",
       "    <tr>\n",
       "      <th>0</th>\n",
       "      <td>0</td>\n",
       "      <td>0</td>\n",
       "      <td>1</td>\n",
       "      <td>1</td>\n",
       "      <td>0</td>\n",
       "      <td>0</td>\n",
       "      <td>0</td>\n",
       "    </tr>\n",
       "    <tr>\n",
       "      <th>1</th>\n",
       "      <td>0</td>\n",
       "      <td>0</td>\n",
       "      <td>1</td>\n",
       "      <td>1</td>\n",
       "      <td>0</td>\n",
       "      <td>0</td>\n",
       "      <td>0</td>\n",
       "    </tr>\n",
       "    <tr>\n",
       "      <th>2</th>\n",
       "      <td>0</td>\n",
       "      <td>0</td>\n",
       "      <td>1</td>\n",
       "      <td>1</td>\n",
       "      <td>0</td>\n",
       "      <td>0</td>\n",
       "      <td>1</td>\n",
       "    </tr>\n",
       "    <tr>\n",
       "      <th>3</th>\n",
       "      <td>0</td>\n",
       "      <td>0</td>\n",
       "      <td>1</td>\n",
       "      <td>1</td>\n",
       "      <td>0</td>\n",
       "      <td>0</td>\n",
       "      <td>0</td>\n",
       "    </tr>\n",
       "    <tr>\n",
       "      <th>4</th>\n",
       "      <td>0</td>\n",
       "      <td>0</td>\n",
       "      <td>1</td>\n",
       "      <td>1</td>\n",
       "      <td>0</td>\n",
       "      <td>0</td>\n",
       "      <td>1</td>\n",
       "    </tr>\n",
       "    <tr>\n",
       "      <th>...</th>\n",
       "      <td>...</td>\n",
       "      <td>...</td>\n",
       "      <td>...</td>\n",
       "      <td>...</td>\n",
       "      <td>...</td>\n",
       "      <td>...</td>\n",
       "      <td>...</td>\n",
       "    </tr>\n",
       "    <tr>\n",
       "      <th>10122</th>\n",
       "      <td>0</td>\n",
       "      <td>0</td>\n",
       "      <td>0</td>\n",
       "      <td>0</td>\n",
       "      <td>1</td>\n",
       "      <td>0</td>\n",
       "      <td>0</td>\n",
       "    </tr>\n",
       "    <tr>\n",
       "      <th>10123</th>\n",
       "      <td>0</td>\n",
       "      <td>0</td>\n",
       "      <td>0</td>\n",
       "      <td>0</td>\n",
       "      <td>1</td>\n",
       "      <td>0</td>\n",
       "      <td>0</td>\n",
       "    </tr>\n",
       "    <tr>\n",
       "      <th>10124</th>\n",
       "      <td>0</td>\n",
       "      <td>0</td>\n",
       "      <td>0</td>\n",
       "      <td>0</td>\n",
       "      <td>1</td>\n",
       "      <td>0</td>\n",
       "      <td>0</td>\n",
       "    </tr>\n",
       "    <tr>\n",
       "      <th>10125</th>\n",
       "      <td>0</td>\n",
       "      <td>0</td>\n",
       "      <td>0</td>\n",
       "      <td>0</td>\n",
       "      <td>0</td>\n",
       "      <td>0</td>\n",
       "      <td>0</td>\n",
       "    </tr>\n",
       "    <tr>\n",
       "      <th>10126</th>\n",
       "      <td>0</td>\n",
       "      <td>0</td>\n",
       "      <td>0</td>\n",
       "      <td>0</td>\n",
       "      <td>1</td>\n",
       "      <td>0</td>\n",
       "      <td>0</td>\n",
       "    </tr>\n",
       "  </tbody>\n",
       "</table>\n",
       "<p>10127 rows × 7 columns</p>\n",
       "</div>"
      ],
      "text/plain": [
       "       Months_on_book_ol_lab  Credit_Limit_ol_lab  \\\n",
       "0                          0                    0   \n",
       "1                          0                    0   \n",
       "2                          0                    0   \n",
       "3                          0                    0   \n",
       "4                          0                    0   \n",
       "...                      ...                  ...   \n",
       "10122                      0                    0   \n",
       "10123                      0                    0   \n",
       "10124                      0                    0   \n",
       "10125                      0                    0   \n",
       "10126                      0                    0   \n",
       "\n",
       "       Total_Amt_Chng_Q4_Q1_ol_lab  Total_Ct_Chng_Q4_Q1_ol_lab  \\\n",
       "0                                1                           1   \n",
       "1                                1                           1   \n",
       "2                                1                           1   \n",
       "3                                1                           1   \n",
       "4                                1                           1   \n",
       "...                            ...                         ...   \n",
       "10122                            0                           0   \n",
       "10123                            0                           0   \n",
       "10124                            0                           0   \n",
       "10125                            0                           0   \n",
       "10126                            0                           0   \n",
       "\n",
       "       Total_Trans_Amt_ol_lab  Months_Inactive_12_mon_ol_lab  \\\n",
       "0                           0                              0   \n",
       "1                           0                              0   \n",
       "2                           0                              0   \n",
       "3                           0                              0   \n",
       "4                           0                              0   \n",
       "...                       ...                            ...   \n",
       "10122                       1                              0   \n",
       "10123                       1                              0   \n",
       "10124                       1                              0   \n",
       "10125                       0                              0   \n",
       "10126                       1                              0   \n",
       "\n",
       "       Contacts_Count_12_mon_ol_lab  \n",
       "0                                 0  \n",
       "1                                 0  \n",
       "2                                 1  \n",
       "3                                 0  \n",
       "4                                 1  \n",
       "...                             ...  \n",
       "10122                             0  \n",
       "10123                             0  \n",
       "10124                             0  \n",
       "10125                             0  \n",
       "10126                             0  \n",
       "\n",
       "[10127 rows x 7 columns]"
      ]
     },
     "execution_count": 13,
     "metadata": {},
     "output_type": "execute_result"
    }
   ],
   "source": [
    "df[['Months_on_book_ol_lab', 'Credit_Limit_ol_lab',\n",
    "       'Total_Amt_Chng_Q4_Q1_ol_lab', 'Total_Ct_Chng_Q4_Q1_ol_lab',\n",
    "       'Total_Trans_Amt_ol_lab', 'Months_Inactive_12_mon_ol_lab',\n",
    "       'Contacts_Count_12_mon_ol_lab']]"
   ]
  },
  {
   "cell_type": "code",
   "execution_count": null,
   "metadata": {},
   "outputs": [],
   "source": [
    "# pottt"
   ]
  },
  {
   "cell_type": "markdown",
   "metadata": {},
   "source": [
    "## Data Splitting"
   ]
  },
  {
   "cell_type": "code",
   "execution_count": 14,
   "metadata": {},
   "outputs": [],
   "source": [
    "x = df.drop('Attrition_Flag',axis=1)\n",
    "y= np.where(df['Attrition_Flag']=='Attrited Customer',1,0)"
   ]
  },
  {
   "cell_type": "code",
   "execution_count": 15,
   "metadata": {},
   "outputs": [],
   "source": [
    "x_train,x_test,y_train,y_test = train_test_split(x,y,stratify=y,test_size=.2,random_state=2020)"
   ]
  },
  {
   "cell_type": "code",
   "execution_count": 16,
   "metadata": {},
   "outputs": [],
   "source": [
    "def summary(df):\n",
    "    col = []\n",
    "    d_type = []\n",
    "    uniques = []\n",
    "    n_uniques = []\n",
    "    \n",
    "    \n",
    "    for i in df.columns:\n",
    "        col.append(i)\n",
    "        d_type.append(df[i].dtypes)\n",
    "        uniques.append(df[i].unique()[:5])\n",
    "        n_uniques.append(df[i].nunique())\n",
    "    \n",
    "    return pd.DataFrame({'Column': col, 'd_type': d_type, 'unique_sample': uniques, 'n_uniques': n_uniques})"
   ]
  },
  {
   "cell_type": "code",
   "execution_count": 17,
   "metadata": {},
   "outputs": [
    {
     "data": {
      "text/html": [
       "<div>\n",
       "<style scoped>\n",
       "    .dataframe tbody tr th:only-of-type {\n",
       "        vertical-align: middle;\n",
       "    }\n",
       "\n",
       "    .dataframe tbody tr th {\n",
       "        vertical-align: top;\n",
       "    }\n",
       "\n",
       "    .dataframe thead th {\n",
       "        text-align: right;\n",
       "    }\n",
       "</style>\n",
       "<table border=\"1\" class=\"dataframe\">\n",
       "  <thead>\n",
       "    <tr style=\"text-align: right;\">\n",
       "      <th></th>\n",
       "      <th>Column</th>\n",
       "      <th>d_type</th>\n",
       "      <th>unique_sample</th>\n",
       "      <th>n_uniques</th>\n",
       "    </tr>\n",
       "  </thead>\n",
       "  <tbody>\n",
       "    <tr>\n",
       "      <th>0</th>\n",
       "      <td>Attrition_Flag</td>\n",
       "      <td>object</td>\n",
       "      <td>[Existing Customer, Attrited Customer]</td>\n",
       "      <td>2</td>\n",
       "    </tr>\n",
       "    <tr>\n",
       "      <th>1</th>\n",
       "      <td>Customer_Age</td>\n",
       "      <td>int64</td>\n",
       "      <td>[45, 49, 51, 40, 44]</td>\n",
       "      <td>45</td>\n",
       "    </tr>\n",
       "    <tr>\n",
       "      <th>2</th>\n",
       "      <td>Gender</td>\n",
       "      <td>object</td>\n",
       "      <td>[M, F]</td>\n",
       "      <td>2</td>\n",
       "    </tr>\n",
       "    <tr>\n",
       "      <th>3</th>\n",
       "      <td>Dependent_count</td>\n",
       "      <td>int64</td>\n",
       "      <td>[3, 5, 4, 2, 0]</td>\n",
       "      <td>6</td>\n",
       "    </tr>\n",
       "    <tr>\n",
       "      <th>4</th>\n",
       "      <td>Education_Level</td>\n",
       "      <td>object</td>\n",
       "      <td>[High School, Graduate, Uneducated, Unknown, C...</td>\n",
       "      <td>7</td>\n",
       "    </tr>\n",
       "    <tr>\n",
       "      <th>5</th>\n",
       "      <td>Marital_Status</td>\n",
       "      <td>object</td>\n",
       "      <td>[Married, Single, Unknown, Divorced]</td>\n",
       "      <td>4</td>\n",
       "    </tr>\n",
       "    <tr>\n",
       "      <th>6</th>\n",
       "      <td>Income_Category</td>\n",
       "      <td>object</td>\n",
       "      <td>[$60K - $80K, Less than $40K, $80K - $120K, $4...</td>\n",
       "      <td>6</td>\n",
       "    </tr>\n",
       "    <tr>\n",
       "      <th>7</th>\n",
       "      <td>Card_Category</td>\n",
       "      <td>object</td>\n",
       "      <td>[Blue, Gold, Silver, Platinum]</td>\n",
       "      <td>4</td>\n",
       "    </tr>\n",
       "    <tr>\n",
       "      <th>8</th>\n",
       "      <td>Months_on_book</td>\n",
       "      <td>int64</td>\n",
       "      <td>[39, 44, 36, 34, 21]</td>\n",
       "      <td>44</td>\n",
       "    </tr>\n",
       "    <tr>\n",
       "      <th>9</th>\n",
       "      <td>Total_Relationship_Count</td>\n",
       "      <td>int64</td>\n",
       "      <td>[5, 6, 4, 3, 2]</td>\n",
       "      <td>6</td>\n",
       "    </tr>\n",
       "    <tr>\n",
       "      <th>10</th>\n",
       "      <td>Months_Inactive_12_mon</td>\n",
       "      <td>int64</td>\n",
       "      <td>[1, 4, 2, 3, 6]</td>\n",
       "      <td>7</td>\n",
       "    </tr>\n",
       "    <tr>\n",
       "      <th>11</th>\n",
       "      <td>Contacts_Count_12_mon</td>\n",
       "      <td>int64</td>\n",
       "      <td>[3, 2, 0, 1, 4]</td>\n",
       "      <td>7</td>\n",
       "    </tr>\n",
       "    <tr>\n",
       "      <th>12</th>\n",
       "      <td>Credit_Limit</td>\n",
       "      <td>float64</td>\n",
       "      <td>[12691.0, 8256.0, 3418.0, 3313.0, 4716.0]</td>\n",
       "      <td>6205</td>\n",
       "    </tr>\n",
       "    <tr>\n",
       "      <th>13</th>\n",
       "      <td>Total_Revolving_Bal</td>\n",
       "      <td>int64</td>\n",
       "      <td>[777, 864, 0, 2517, 1247]</td>\n",
       "      <td>1974</td>\n",
       "    </tr>\n",
       "    <tr>\n",
       "      <th>14</th>\n",
       "      <td>Avg_Open_To_Buy</td>\n",
       "      <td>float64</td>\n",
       "      <td>[11914.0, 7392.0, 3418.0, 796.0, 4716.0]</td>\n",
       "      <td>6813</td>\n",
       "    </tr>\n",
       "    <tr>\n",
       "      <th>15</th>\n",
       "      <td>Total_Amt_Chng_Q4_Q1</td>\n",
       "      <td>float64</td>\n",
       "      <td>[1.335, 1.541, 2.594, 1.405, 2.175]</td>\n",
       "      <td>1158</td>\n",
       "    </tr>\n",
       "    <tr>\n",
       "      <th>16</th>\n",
       "      <td>Total_Trans_Amt</td>\n",
       "      <td>int64</td>\n",
       "      <td>[1144, 1291, 1887, 1171, 816]</td>\n",
       "      <td>5033</td>\n",
       "    </tr>\n",
       "    <tr>\n",
       "      <th>17</th>\n",
       "      <td>Total_Trans_Ct</td>\n",
       "      <td>int64</td>\n",
       "      <td>[42, 33, 20, 28, 24]</td>\n",
       "      <td>126</td>\n",
       "    </tr>\n",
       "    <tr>\n",
       "      <th>18</th>\n",
       "      <td>Total_Ct_Chng_Q4_Q1</td>\n",
       "      <td>float64</td>\n",
       "      <td>[1.625, 3.714, 2.333, 2.5, 0.846]</td>\n",
       "      <td>830</td>\n",
       "    </tr>\n",
       "    <tr>\n",
       "      <th>19</th>\n",
       "      <td>Avg_Utilization_Ratio</td>\n",
       "      <td>float64</td>\n",
       "      <td>[0.061, 0.105, 0.0, 0.76, 0.311]</td>\n",
       "      <td>964</td>\n",
       "    </tr>\n",
       "    <tr>\n",
       "      <th>20</th>\n",
       "      <td>Months_on_book_ol_lab</td>\n",
       "      <td>int32</td>\n",
       "      <td>[0, 1]</td>\n",
       "      <td>2</td>\n",
       "    </tr>\n",
       "    <tr>\n",
       "      <th>21</th>\n",
       "      <td>Credit_Limit_ol_lab</td>\n",
       "      <td>int32</td>\n",
       "      <td>[0, 1]</td>\n",
       "      <td>2</td>\n",
       "    </tr>\n",
       "    <tr>\n",
       "      <th>22</th>\n",
       "      <td>Total_Amt_Chng_Q4_Q1_ol_lab</td>\n",
       "      <td>int32</td>\n",
       "      <td>[1, 0]</td>\n",
       "      <td>2</td>\n",
       "    </tr>\n",
       "    <tr>\n",
       "      <th>23</th>\n",
       "      <td>Total_Ct_Chng_Q4_Q1_ol_lab</td>\n",
       "      <td>int32</td>\n",
       "      <td>[1, 0]</td>\n",
       "      <td>2</td>\n",
       "    </tr>\n",
       "    <tr>\n",
       "      <th>24</th>\n",
       "      <td>Total_Trans_Amt_ol_lab</td>\n",
       "      <td>int32</td>\n",
       "      <td>[0, 1]</td>\n",
       "      <td>2</td>\n",
       "    </tr>\n",
       "    <tr>\n",
       "      <th>25</th>\n",
       "      <td>Months_Inactive_12_mon_ol_lab</td>\n",
       "      <td>int32</td>\n",
       "      <td>[0, 1]</td>\n",
       "      <td>2</td>\n",
       "    </tr>\n",
       "    <tr>\n",
       "      <th>26</th>\n",
       "      <td>Contacts_Count_12_mon_ol_lab</td>\n",
       "      <td>int32</td>\n",
       "      <td>[0, 1]</td>\n",
       "      <td>2</td>\n",
       "    </tr>\n",
       "  </tbody>\n",
       "</table>\n",
       "</div>"
      ],
      "text/plain": [
       "                           Column   d_type  \\\n",
       "0                  Attrition_Flag   object   \n",
       "1                    Customer_Age    int64   \n",
       "2                          Gender   object   \n",
       "3                 Dependent_count    int64   \n",
       "4                 Education_Level   object   \n",
       "5                  Marital_Status   object   \n",
       "6                 Income_Category   object   \n",
       "7                   Card_Category   object   \n",
       "8                  Months_on_book    int64   \n",
       "9        Total_Relationship_Count    int64   \n",
       "10         Months_Inactive_12_mon    int64   \n",
       "11          Contacts_Count_12_mon    int64   \n",
       "12                   Credit_Limit  float64   \n",
       "13            Total_Revolving_Bal    int64   \n",
       "14                Avg_Open_To_Buy  float64   \n",
       "15           Total_Amt_Chng_Q4_Q1  float64   \n",
       "16                Total_Trans_Amt    int64   \n",
       "17                 Total_Trans_Ct    int64   \n",
       "18            Total_Ct_Chng_Q4_Q1  float64   \n",
       "19          Avg_Utilization_Ratio  float64   \n",
       "20          Months_on_book_ol_lab    int32   \n",
       "21            Credit_Limit_ol_lab    int32   \n",
       "22    Total_Amt_Chng_Q4_Q1_ol_lab    int32   \n",
       "23     Total_Ct_Chng_Q4_Q1_ol_lab    int32   \n",
       "24         Total_Trans_Amt_ol_lab    int32   \n",
       "25  Months_Inactive_12_mon_ol_lab    int32   \n",
       "26   Contacts_Count_12_mon_ol_lab    int32   \n",
       "\n",
       "                                        unique_sample  n_uniques  \n",
       "0              [Existing Customer, Attrited Customer]          2  \n",
       "1                                [45, 49, 51, 40, 44]         45  \n",
       "2                                              [M, F]          2  \n",
       "3                                     [3, 5, 4, 2, 0]          6  \n",
       "4   [High School, Graduate, Uneducated, Unknown, C...          7  \n",
       "5                [Married, Single, Unknown, Divorced]          4  \n",
       "6   [$60K - $80K, Less than $40K, $80K - $120K, $4...          6  \n",
       "7                      [Blue, Gold, Silver, Platinum]          4  \n",
       "8                                [39, 44, 36, 34, 21]         44  \n",
       "9                                     [5, 6, 4, 3, 2]          6  \n",
       "10                                    [1, 4, 2, 3, 6]          7  \n",
       "11                                    [3, 2, 0, 1, 4]          7  \n",
       "12          [12691.0, 8256.0, 3418.0, 3313.0, 4716.0]       6205  \n",
       "13                          [777, 864, 0, 2517, 1247]       1974  \n",
       "14           [11914.0, 7392.0, 3418.0, 796.0, 4716.0]       6813  \n",
       "15                [1.335, 1.541, 2.594, 1.405, 2.175]       1158  \n",
       "16                      [1144, 1291, 1887, 1171, 816]       5033  \n",
       "17                               [42, 33, 20, 28, 24]        126  \n",
       "18                  [1.625, 3.714, 2.333, 2.5, 0.846]        830  \n",
       "19                   [0.061, 0.105, 0.0, 0.76, 0.311]        964  \n",
       "20                                             [0, 1]          2  \n",
       "21                                             [0, 1]          2  \n",
       "22                                             [1, 0]          2  \n",
       "23                                             [1, 0]          2  \n",
       "24                                             [0, 1]          2  \n",
       "25                                             [0, 1]          2  \n",
       "26                                             [0, 1]          2  "
      ]
     },
     "execution_count": 17,
     "metadata": {},
     "output_type": "execute_result"
    }
   ],
   "source": [
    "summary(df)"
   ]
  },
  {
   "cell_type": "markdown",
   "metadata": {},
   "source": []
  },
  {
   "cell_type": "markdown",
   "metadata": {},
   "source": [
    "## Cek distribution for scaling"
   ]
  },
  {
   "cell_type": "markdown",
   "metadata": {},
   "source": [
    "melihat apakah distribusi data berubah atau tidak setelah di lakukan scaling pada dataset"
   ]
  },
  {
   "cell_type": "code",
   "execution_count": 18,
   "metadata": {},
   "outputs": [
    {
     "data": {
      "text/plain": [
       "Index(['Customer_Age', 'Dependent_count', 'Months_on_book',\n",
       "       'Total_Relationship_Count', 'Months_Inactive_12_mon',\n",
       "       'Contacts_Count_12_mon', 'Credit_Limit', 'Total_Revolving_Bal',\n",
       "       'Avg_Open_To_Buy', 'Total_Amt_Chng_Q4_Q1', 'Total_Trans_Amt',\n",
       "       'Total_Trans_Ct', 'Total_Ct_Chng_Q4_Q1', 'Avg_Utilization_Ratio',\n",
       "       'Months_on_book_ol_lab', 'Credit_Limit_ol_lab',\n",
       "       'Total_Amt_Chng_Q4_Q1_ol_lab', 'Total_Ct_Chng_Q4_Q1_ol_lab',\n",
       "       'Total_Trans_Amt_ol_lab', 'Months_Inactive_12_mon_ol_lab',\n",
       "       'Contacts_Count_12_mon_ol_lab'],\n",
       "      dtype='object')"
      ]
     },
     "execution_count": 18,
     "metadata": {},
     "output_type": "execute_result"
    }
   ],
   "source": [
    "## column yang mempunyai Outliers\n",
    "df_out = df[[ 'Customer_Age', 'Dependent_count',\n",
    "       'Months_on_book', 'Total_Relationship_Count', 'Months_Inactive_12_mon',\n",
    "       'Contacts_Count_12_mon', 'Credit_Limit', 'Total_Revolving_Bal',\n",
    "       'Avg_Open_To_Buy', 'Total_Amt_Chng_Q4_Q1', 'Total_Trans_Amt',\n",
    "       'Total_Trans_Ct', 'Total_Ct_Chng_Q4_Q1', 'Avg_Utilization_Ratio',\n",
    "       'Months_on_book_ol_lab', 'Credit_Limit_ol_lab',\n",
    "       'Total_Amt_Chng_Q4_Q1_ol_lab', 'Total_Ct_Chng_Q4_Q1_ol_lab',\n",
    "       'Total_Trans_Amt_ol_lab', 'Months_Inactive_12_mon_ol_lab',\n",
    "       'Contacts_Count_12_mon_ol_lab']]\n",
    "cols = df_out.columns\n",
    "cols"
   ]
  },
  {
   "cell_type": "code",
   "execution_count": 19,
   "metadata": {},
   "outputs": [
    {
     "data": {
      "text/html": [
       "<div>\n",
       "<style scoped>\n",
       "    .dataframe tbody tr th:only-of-type {\n",
       "        vertical-align: middle;\n",
       "    }\n",
       "\n",
       "    .dataframe tbody tr th {\n",
       "        vertical-align: top;\n",
       "    }\n",
       "\n",
       "    .dataframe thead th {\n",
       "        text-align: right;\n",
       "    }\n",
       "</style>\n",
       "<table border=\"1\" class=\"dataframe\">\n",
       "  <thead>\n",
       "    <tr style=\"text-align: right;\">\n",
       "      <th></th>\n",
       "      <th>Customer_Age</th>\n",
       "      <th>Dependent_count</th>\n",
       "      <th>Months_on_book</th>\n",
       "      <th>Total_Relationship_Count</th>\n",
       "      <th>Months_Inactive_12_mon</th>\n",
       "      <th>Contacts_Count_12_mon</th>\n",
       "      <th>Credit_Limit</th>\n",
       "      <th>Total_Revolving_Bal</th>\n",
       "      <th>Avg_Open_To_Buy</th>\n",
       "      <th>Total_Amt_Chng_Q4_Q1</th>\n",
       "      <th>...</th>\n",
       "      <th>Total_Trans_Ct</th>\n",
       "      <th>Total_Ct_Chng_Q4_Q1</th>\n",
       "      <th>Avg_Utilization_Ratio</th>\n",
       "      <th>Months_on_book_ol_lab</th>\n",
       "      <th>Credit_Limit_ol_lab</th>\n",
       "      <th>Total_Amt_Chng_Q4_Q1_ol_lab</th>\n",
       "      <th>Total_Ct_Chng_Q4_Q1_ol_lab</th>\n",
       "      <th>Total_Trans_Amt_ol_lab</th>\n",
       "      <th>Months_Inactive_12_mon_ol_lab</th>\n",
       "      <th>Contacts_Count_12_mon_ol_lab</th>\n",
       "    </tr>\n",
       "  </thead>\n",
       "  <tbody>\n",
       "    <tr>\n",
       "      <th>0</th>\n",
       "      <td>-0.165406</td>\n",
       "      <td>0.503368</td>\n",
       "      <td>0.384621</td>\n",
       "      <td>0.763943</td>\n",
       "      <td>-1.327136</td>\n",
       "      <td>0.492404</td>\n",
       "      <td>0.446622</td>\n",
       "      <td>-0.473422</td>\n",
       "      <td>0.488971</td>\n",
       "      <td>2.623494</td>\n",
       "      <td>...</td>\n",
       "      <td>-0.973895</td>\n",
       "      <td>3.834003</td>\n",
       "      <td>-0.775882</td>\n",
       "      <td>-0.199064</td>\n",
       "      <td>-0.32806</td>\n",
       "      <td>4.963665</td>\n",
       "      <td>4.957140</td>\n",
       "      <td>-0.311551</td>\n",
       "      <td>-0.183819</td>\n",
       "      <td>-0.257341</td>\n",
       "    </tr>\n",
       "    <tr>\n",
       "      <th>1</th>\n",
       "      <td>0.333570</td>\n",
       "      <td>2.043199</td>\n",
       "      <td>1.010715</td>\n",
       "      <td>1.407306</td>\n",
       "      <td>-1.327136</td>\n",
       "      <td>-0.411616</td>\n",
       "      <td>-0.041367</td>\n",
       "      <td>-0.366667</td>\n",
       "      <td>-0.008486</td>\n",
       "      <td>3.563293</td>\n",
       "      <td>...</td>\n",
       "      <td>-1.357340</td>\n",
       "      <td>12.608573</td>\n",
       "      <td>-0.616276</td>\n",
       "      <td>-0.199064</td>\n",
       "      <td>-0.32806</td>\n",
       "      <td>4.963665</td>\n",
       "      <td>4.957140</td>\n",
       "      <td>-0.311551</td>\n",
       "      <td>-0.183819</td>\n",
       "      <td>-0.257341</td>\n",
       "    </tr>\n",
       "    <tr>\n",
       "      <th>2</th>\n",
       "      <td>0.583058</td>\n",
       "      <td>0.503368</td>\n",
       "      <td>0.008965</td>\n",
       "      <td>0.120579</td>\n",
       "      <td>-1.327136</td>\n",
       "      <td>-2.219655</td>\n",
       "      <td>-0.573698</td>\n",
       "      <td>-1.426858</td>\n",
       "      <td>-0.445658</td>\n",
       "      <td>8.367214</td>\n",
       "      <td>...</td>\n",
       "      <td>-1.911206</td>\n",
       "      <td>6.807864</td>\n",
       "      <td>-0.997155</td>\n",
       "      <td>-0.199064</td>\n",
       "      <td>-0.32806</td>\n",
       "      <td>4.963665</td>\n",
       "      <td>4.957140</td>\n",
       "      <td>-0.311551</td>\n",
       "      <td>-0.183819</td>\n",
       "      <td>3.885892</td>\n",
       "    </tr>\n",
       "    <tr>\n",
       "      <th>3</th>\n",
       "      <td>-0.789126</td>\n",
       "      <td>1.273283</td>\n",
       "      <td>-0.241473</td>\n",
       "      <td>-0.522785</td>\n",
       "      <td>1.641478</td>\n",
       "      <td>-1.315636</td>\n",
       "      <td>-0.585251</td>\n",
       "      <td>1.661686</td>\n",
       "      <td>-0.734100</td>\n",
       "      <td>2.942843</td>\n",
       "      <td>...</td>\n",
       "      <td>-1.911206</td>\n",
       "      <td>6.807864</td>\n",
       "      <td>1.759686</td>\n",
       "      <td>-0.199064</td>\n",
       "      <td>-0.32806</td>\n",
       "      <td>4.963665</td>\n",
       "      <td>4.957140</td>\n",
       "      <td>-0.311551</td>\n",
       "      <td>-0.183819</td>\n",
       "      <td>-0.257341</td>\n",
       "    </tr>\n",
       "    <tr>\n",
       "      <th>4</th>\n",
       "      <td>-0.789126</td>\n",
       "      <td>0.503368</td>\n",
       "      <td>-1.869317</td>\n",
       "      <td>0.763943</td>\n",
       "      <td>-1.327136</td>\n",
       "      <td>-2.219655</td>\n",
       "      <td>-0.430877</td>\n",
       "      <td>-1.426858</td>\n",
       "      <td>-0.302868</td>\n",
       "      <td>6.455682</td>\n",
       "      <td>...</td>\n",
       "      <td>-1.570365</td>\n",
       "      <td>7.509325</td>\n",
       "      <td>-0.997155</td>\n",
       "      <td>-0.199064</td>\n",
       "      <td>-0.32806</td>\n",
       "      <td>4.963665</td>\n",
       "      <td>4.957140</td>\n",
       "      <td>-0.311551</td>\n",
       "      <td>-0.183819</td>\n",
       "      <td>3.885892</td>\n",
       "    </tr>\n",
       "    <tr>\n",
       "      <th>...</th>\n",
       "      <td>...</td>\n",
       "      <td>...</td>\n",
       "      <td>...</td>\n",
       "      <td>...</td>\n",
       "      <td>...</td>\n",
       "      <td>...</td>\n",
       "      <td>...</td>\n",
       "      <td>...</td>\n",
       "      <td>...</td>\n",
       "      <td>...</td>\n",
       "      <td>...</td>\n",
       "      <td>...</td>\n",
       "      <td>...</td>\n",
       "      <td>...</td>\n",
       "      <td>...</td>\n",
       "      <td>...</td>\n",
       "      <td>...</td>\n",
       "      <td>...</td>\n",
       "      <td>...</td>\n",
       "      <td>...</td>\n",
       "      <td>...</td>\n",
       "    </tr>\n",
       "    <tr>\n",
       "      <th>10122</th>\n",
       "      <td>0.458314</td>\n",
       "      <td>-0.266547</td>\n",
       "      <td>0.509840</td>\n",
       "      <td>-0.522785</td>\n",
       "      <td>-0.337598</td>\n",
       "      <td>0.492404</td>\n",
       "      <td>-0.509330</td>\n",
       "      <td>0.844455</td>\n",
       "      <td>-0.584929</td>\n",
       "      <td>-0.259771</td>\n",
       "      <td>...</td>\n",
       "      <td>2.221481</td>\n",
       "      <td>0.608119</td>\n",
       "      <td>0.678714</td>\n",
       "      <td>-0.199064</td>\n",
       "      <td>-0.32806</td>\n",
       "      <td>-0.201464</td>\n",
       "      <td>-0.201729</td>\n",
       "      <td>3.209744</td>\n",
       "      <td>-0.183819</td>\n",
       "      <td>-0.257341</td>\n",
       "    </tr>\n",
       "    <tr>\n",
       "      <th>10123</th>\n",
       "      <td>-0.664382</td>\n",
       "      <td>-0.266547</td>\n",
       "      <td>-1.368442</td>\n",
       "      <td>0.120579</td>\n",
       "      <td>-0.337598</td>\n",
       "      <td>0.492404</td>\n",
       "      <td>-0.479181</td>\n",
       "      <td>1.255524</td>\n",
       "      <td>-0.591639</td>\n",
       "      <td>0.201004</td>\n",
       "      <td>...</td>\n",
       "      <td>0.176440</td>\n",
       "      <td>-0.122745</td>\n",
       "      <td>0.856458</td>\n",
       "      <td>-0.199064</td>\n",
       "      <td>-0.32806</td>\n",
       "      <td>-0.201464</td>\n",
       "      <td>-0.201729</td>\n",
       "      <td>3.209744</td>\n",
       "      <td>-0.183819</td>\n",
       "      <td>-0.257341</td>\n",
       "    </tr>\n",
       "    <tr>\n",
       "      <th>10124</th>\n",
       "      <td>-0.290150</td>\n",
       "      <td>-1.036462</td>\n",
       "      <td>0.008965</td>\n",
       "      <td>0.763943</td>\n",
       "      <td>0.651940</td>\n",
       "      <td>1.396424</td>\n",
       "      <td>-0.354626</td>\n",
       "      <td>-1.426858</td>\n",
       "      <td>-0.226632</td>\n",
       "      <td>0.269436</td>\n",
       "      <td>...</td>\n",
       "      <td>-0.207005</td>\n",
       "      <td>0.444305</td>\n",
       "      <td>-0.997155</td>\n",
       "      <td>-0.199064</td>\n",
       "      <td>-0.32806</td>\n",
       "      <td>-0.201464</td>\n",
       "      <td>-0.201729</td>\n",
       "      <td>3.209744</td>\n",
       "      <td>-0.183819</td>\n",
       "      <td>-0.257341</td>\n",
       "    </tr>\n",
       "    <tr>\n",
       "      <th>10125</th>\n",
       "      <td>-2.036565</td>\n",
       "      <td>-0.266547</td>\n",
       "      <td>0.008965</td>\n",
       "      <td>0.120579</td>\n",
       "      <td>0.651940</td>\n",
       "      <td>0.492404</td>\n",
       "      <td>-0.368710</td>\n",
       "      <td>-1.426858</td>\n",
       "      <td>-0.240713</td>\n",
       "      <td>-1.026208</td>\n",
       "      <td>...</td>\n",
       "      <td>-0.121795</td>\n",
       "      <td>0.041070</td>\n",
       "      <td>-0.997155</td>\n",
       "      <td>-0.199064</td>\n",
       "      <td>-0.32806</td>\n",
       "      <td>-0.201464</td>\n",
       "      <td>-0.201729</td>\n",
       "      <td>-0.311551</td>\n",
       "      <td>-0.183819</td>\n",
       "      <td>-0.257341</td>\n",
       "    </tr>\n",
       "    <tr>\n",
       "      <th>10126</th>\n",
       "      <td>-0.414894</td>\n",
       "      <td>-0.266547</td>\n",
       "      <td>-1.368442</td>\n",
       "      <td>1.407306</td>\n",
       "      <td>-0.337598</td>\n",
       "      <td>1.396424</td>\n",
       "      <td>0.193220</td>\n",
       "      <td>0.979433</td>\n",
       "      <td>0.105372</td>\n",
       "      <td>-0.259771</td>\n",
       "      <td>...</td>\n",
       "      <td>-0.164400</td>\n",
       "      <td>-0.265557</td>\n",
       "      <td>-0.311572</td>\n",
       "      <td>-0.199064</td>\n",
       "      <td>-0.32806</td>\n",
       "      <td>-0.201464</td>\n",
       "      <td>-0.201729</td>\n",
       "      <td>3.209744</td>\n",
       "      <td>-0.183819</td>\n",
       "      <td>-0.257341</td>\n",
       "    </tr>\n",
       "  </tbody>\n",
       "</table>\n",
       "<p>10127 rows × 21 columns</p>\n",
       "</div>"
      ],
      "text/plain": [
       "       Customer_Age  Dependent_count  Months_on_book  \\\n",
       "0         -0.165406         0.503368        0.384621   \n",
       "1          0.333570         2.043199        1.010715   \n",
       "2          0.583058         0.503368        0.008965   \n",
       "3         -0.789126         1.273283       -0.241473   \n",
       "4         -0.789126         0.503368       -1.869317   \n",
       "...             ...              ...             ...   \n",
       "10122      0.458314        -0.266547        0.509840   \n",
       "10123     -0.664382        -0.266547       -1.368442   \n",
       "10124     -0.290150        -1.036462        0.008965   \n",
       "10125     -2.036565        -0.266547        0.008965   \n",
       "10126     -0.414894        -0.266547       -1.368442   \n",
       "\n",
       "       Total_Relationship_Count  Months_Inactive_12_mon  \\\n",
       "0                      0.763943               -1.327136   \n",
       "1                      1.407306               -1.327136   \n",
       "2                      0.120579               -1.327136   \n",
       "3                     -0.522785                1.641478   \n",
       "4                      0.763943               -1.327136   \n",
       "...                         ...                     ...   \n",
       "10122                 -0.522785               -0.337598   \n",
       "10123                  0.120579               -0.337598   \n",
       "10124                  0.763943                0.651940   \n",
       "10125                  0.120579                0.651940   \n",
       "10126                  1.407306               -0.337598   \n",
       "\n",
       "       Contacts_Count_12_mon  Credit_Limit  Total_Revolving_Bal  \\\n",
       "0                   0.492404      0.446622            -0.473422   \n",
       "1                  -0.411616     -0.041367            -0.366667   \n",
       "2                  -2.219655     -0.573698            -1.426858   \n",
       "3                  -1.315636     -0.585251             1.661686   \n",
       "4                  -2.219655     -0.430877            -1.426858   \n",
       "...                      ...           ...                  ...   \n",
       "10122               0.492404     -0.509330             0.844455   \n",
       "10123               0.492404     -0.479181             1.255524   \n",
       "10124               1.396424     -0.354626            -1.426858   \n",
       "10125               0.492404     -0.368710            -1.426858   \n",
       "10126               1.396424      0.193220             0.979433   \n",
       "\n",
       "       Avg_Open_To_Buy  Total_Amt_Chng_Q4_Q1  ...  Total_Trans_Ct  \\\n",
       "0             0.488971              2.623494  ...       -0.973895   \n",
       "1            -0.008486              3.563293  ...       -1.357340   \n",
       "2            -0.445658              8.367214  ...       -1.911206   \n",
       "3            -0.734100              2.942843  ...       -1.911206   \n",
       "4            -0.302868              6.455682  ...       -1.570365   \n",
       "...                ...                   ...  ...             ...   \n",
       "10122        -0.584929             -0.259771  ...        2.221481   \n",
       "10123        -0.591639              0.201004  ...        0.176440   \n",
       "10124        -0.226632              0.269436  ...       -0.207005   \n",
       "10125        -0.240713             -1.026208  ...       -0.121795   \n",
       "10126         0.105372             -0.259771  ...       -0.164400   \n",
       "\n",
       "       Total_Ct_Chng_Q4_Q1  Avg_Utilization_Ratio  Months_on_book_ol_lab  \\\n",
       "0                 3.834003              -0.775882              -0.199064   \n",
       "1                12.608573              -0.616276              -0.199064   \n",
       "2                 6.807864              -0.997155              -0.199064   \n",
       "3                 6.807864               1.759686              -0.199064   \n",
       "4                 7.509325              -0.997155              -0.199064   \n",
       "...                    ...                    ...                    ...   \n",
       "10122             0.608119               0.678714              -0.199064   \n",
       "10123            -0.122745               0.856458              -0.199064   \n",
       "10124             0.444305              -0.997155              -0.199064   \n",
       "10125             0.041070              -0.997155              -0.199064   \n",
       "10126            -0.265557              -0.311572              -0.199064   \n",
       "\n",
       "       Credit_Limit_ol_lab  Total_Amt_Chng_Q4_Q1_ol_lab  \\\n",
       "0                 -0.32806                     4.963665   \n",
       "1                 -0.32806                     4.963665   \n",
       "2                 -0.32806                     4.963665   \n",
       "3                 -0.32806                     4.963665   \n",
       "4                 -0.32806                     4.963665   \n",
       "...                    ...                          ...   \n",
       "10122             -0.32806                    -0.201464   \n",
       "10123             -0.32806                    -0.201464   \n",
       "10124             -0.32806                    -0.201464   \n",
       "10125             -0.32806                    -0.201464   \n",
       "10126             -0.32806                    -0.201464   \n",
       "\n",
       "       Total_Ct_Chng_Q4_Q1_ol_lab  Total_Trans_Amt_ol_lab  \\\n",
       "0                        4.957140               -0.311551   \n",
       "1                        4.957140               -0.311551   \n",
       "2                        4.957140               -0.311551   \n",
       "3                        4.957140               -0.311551   \n",
       "4                        4.957140               -0.311551   \n",
       "...                           ...                     ...   \n",
       "10122                   -0.201729                3.209744   \n",
       "10123                   -0.201729                3.209744   \n",
       "10124                   -0.201729                3.209744   \n",
       "10125                   -0.201729               -0.311551   \n",
       "10126                   -0.201729                3.209744   \n",
       "\n",
       "       Months_Inactive_12_mon_ol_lab  Contacts_Count_12_mon_ol_lab  \n",
       "0                          -0.183819                     -0.257341  \n",
       "1                          -0.183819                     -0.257341  \n",
       "2                          -0.183819                      3.885892  \n",
       "3                          -0.183819                     -0.257341  \n",
       "4                          -0.183819                      3.885892  \n",
       "...                              ...                           ...  \n",
       "10122                      -0.183819                     -0.257341  \n",
       "10123                      -0.183819                     -0.257341  \n",
       "10124                      -0.183819                     -0.257341  \n",
       "10125                      -0.183819                     -0.257341  \n",
       "10126                      -0.183819                     -0.257341  \n",
       "\n",
       "[10127 rows x 21 columns]"
      ]
     },
     "execution_count": 19,
     "metadata": {},
     "output_type": "execute_result"
    }
   ],
   "source": [
    "standar = StandardScaler()\n",
    "x_standard = standar.fit_transform(df_out)\n",
    "x_standard = pd.DataFrame(x_standard, columns=cols)\n",
    "x_standard"
   ]
  },
  {
   "cell_type": "code",
   "execution_count": 20,
   "metadata": {},
   "outputs": [
    {
     "data": {
      "image/png": "[encoded data removed]",
      "text/plain": [
       "<Figure size 2160x2160 with 13 Axes>"
      ]
     },
     "metadata": {
      "needs_background": "light"
     },
     "output_type": "display_data"
    }
   ],
   "source": [
    "plt.figure(figsize=(30,30))\n",
    "plt.subplot(721)\n",
    "sns.histplot(df['Dependent_count'])\n",
    "plt.subplot(722)\n",
    "sns.histplot(df['Months_on_book'])\n",
    "plt.subplot(723)\n",
    "sns.histplot(df['Total_Relationship_Count'])\n",
    "plt.subplot(724)\n",
    "sns.histplot(df['Months_Inactive_12_mon'])\n",
    "plt.subplot(725)\n",
    "sns.histplot(df['Contacts_Count_12_mon'])\n",
    "plt.subplot(726)\n",
    "sns.histplot(df['Credit_Limit'])\n",
    "plt.subplot(727)\n",
    "sns.histplot(df['Total_Revolving_Bal'])\n",
    "plt.subplot(728)\n",
    "sns.histplot(df['Avg_Open_To_Buy'])\n",
    "plt.subplot(729)\n",
    "sns.histplot(df['Total_Amt_Chng_Q4_Q1'])\n",
    "plt.subplot(7,2,10)\n",
    "sns.histplot(df['Total_Trans_Amt'])\n",
    "plt.subplot(7,2,11)\n",
    "sns.histplot(df['Total_Trans_Ct'])\n",
    "plt.subplot(7,2,12)\n",
    "sns.histplot(df['Total_Ct_Chng_Q4_Q1'])\n",
    "plt.subplot(7,2,13)\n",
    "sns.histplot(df['Avg_Utilization_Ratio'])\n",
    "# ----------------------------------------\n",
    "\n",
    "plt.tight_layout()\n",
    "plt.show()"
   ]
  },
  {
   "cell_type": "code",
   "execution_count": 21,
   "metadata": {},
   "outputs": [
    {
     "data": {
      "image/png": "[encoded data removed]",
      "text/plain": [
       "<Figure size 2160x2160 with 13 Axes>"
      ]
     },
     "metadata": {
      "needs_background": "light"
     },
     "output_type": "display_data"
    }
   ],
   "source": [
    "plt.figure(figsize=(30,30))\n",
    "plt.subplot(721)\n",
    "sns.histplot(x_standard['Dependent_count'])\n",
    "plt.subplot(722)\n",
    "sns.histplot(x_standard['Months_on_book'])\n",
    "plt.subplot(723)\n",
    "sns.histplot(x_standard['Total_Relationship_Count'])\n",
    "plt.subplot(724)\n",
    "sns.histplot(x_standard['Months_Inactive_12_mon'])\n",
    "plt.subplot(725)\n",
    "sns.histplot(x_standard['Contacts_Count_12_mon'])\n",
    "plt.subplot(726)\n",
    "sns.histplot(x_standard['Credit_Limit'])\n",
    "plt.subplot(727)\n",
    "sns.histplot(x_standard['Total_Revolving_Bal'])\n",
    "plt.subplot(728)\n",
    "sns.histplot(x_standard['Avg_Open_To_Buy'])\n",
    "plt.subplot(729)\n",
    "sns.histplot(x_standard['Total_Amt_Chng_Q4_Q1'])\n",
    "plt.subplot(7,2,10)\n",
    "sns.histplot(x_standard['Total_Trans_Amt'])\n",
    "plt.subplot(7,2,11)\n",
    "sns.histplot(x_standard['Total_Trans_Ct'])\n",
    "plt.subplot(7,2,12)\n",
    "sns.histplot(x_standard['Total_Ct_Chng_Q4_Q1'])\n",
    "plt.subplot(7,2,13)\n",
    "sns.histplot(x_standard['Avg_Utilization_Ratio'])\n",
    "plt.tight_layout()\n",
    "plt.show()"
   ]
  },
  {
   "cell_type": "markdown",
   "metadata": {},
   "source": [
    "Distribusi pada data tidak mengalami perubahan sehingga aman untuk di lakukan scaling"
   ]
  },
  {
   "cell_type": "markdown",
   "metadata": {},
   "source": [
    "<h1>Modeling"
   ]
  },
  {
   "cell_type": "markdown",
   "metadata": {},
   "source": [
    "model yang dibuat akan di gunakan untuk melakukan predict pada customer apakah mereka Chunr atau Retain sehingga model ini masuk ke dalam Classification\n",
    "<br>\n",
    "pada project ini kita akan mencoba menggunakan 4 model\n",
    "- Logistic Regression\n",
    "- KNN\n",
    "- Decision tree\n",
    "- Random Forest\n",
    "<br>\n",
    "\n",
    "dengan focus:\n",
    "- kita menggunakan pr curve karena akan fokus pada 1 class saja(Churn)\n",
    "- dengan focus pada recall (recall= truepositives / truepositives+falsenegatives)kita akan fokus pada recall karena fokus kepada customer yang churn mengeluarkan cost lebih jika melakukan treatment kepada customer yang di predict churn tetapi actualnya retain\n",
    "\n",
    "pada pengujian model ini kita akan melakukan:\n",
    "- menggunakan model default unutk di jadikna benchmark\n",
    "- melakukan hyper parameter tunning menggunakan Grid Search\n",
    "- membandingkan model"
   ]
  },
  {
   "cell_type": "markdown",
   "metadata": {},
   "source": [
    "# Logistic Regression"
   ]
  },
  {
   "cell_type": "markdown",
   "metadata": {},
   "source": [
    "Encoder:\n",
    "- onehot:\n",
    "    - Attrition_Flag\n",
    "    - Gender\n",
    "    - Marital Status\n",
    "    \n",
    "- Ordinal:\n",
    "    - Education Level\n",
    "    - income-Category\n",
    "    - Card_Category\n",
    "    "
   ]
  },
  {
   "cell_type": "markdown",
   "metadata": {},
   "source": [
    "## Data Preprocess"
   ]
  },
  {
   "cell_type": "code",
   "execution_count": 22,
   "metadata": {},
   "outputs": [],
   "source": [
    "## Object column\n",
    "# lr_pipe_obj = Pipeline([\n",
    "\n",
    "#     ('onehot', OneHotEncoder(drop='first')),\n",
    "# ])\n",
    "# Mapping column\n",
    "ordinal_mapping = [\n",
    "    {\n",
    "        'col':'Education_Level',\n",
    "        'mapping':{'Unknown':0,'Uneducated':1,'High School':2,'College':3,'Graduate':4,'Post-Graduate':5,'Doctorate':6}\n",
    "    },\n",
    "    {\n",
    "        'col':'Income_Category',\n",
    "        'mapping':{'Unknown':0,'Less than $40K':1, '$40K - $60K':2,'$60K - $80K':3,'$80K - $120K':4,'$120K +':5}\n",
    "    },\n",
    "    {\n",
    "        'col':'Card_Category',\n",
    "        'mapping':{'Blue':1,'Silver':2,'Gold':3,'Platinum':4}\n",
    "    }\n",
    "]\n",
    "\n",
    "ordinal_encoder = ce.OrdinalEncoder(cols = ['Education_Level','Income_Category','Card_Category'],mapping= ordinal_mapping)\n",
    "\n",
    "# Column Transfo\n",
    "# scaling column pur numweric\n",
    "lr_transformer = ColumnTransformer([\n",
    "    ('one_hot', OneHotEncoder(drop='first'),['Gender','Marital_Status']),\n",
    "    ('or_pipe', ordinal_encoder, ['Education_Level','Income_Category','Card_Category']),\n",
    "    ('scale',StandardScaler(),[ 'Customer_Age', 'Dependent_count',\n",
    "       'Months_on_book', 'Total_Relationship_Count', 'Months_Inactive_12_mon',\n",
    "       'Contacts_Count_12_mon', 'Credit_Limit', 'Total_Revolving_Bal',\n",
    "       'Avg_Open_To_Buy', 'Total_Amt_Chng_Q4_Q1', 'Total_Trans_Amt',\n",
    "       'Total_Trans_Ct', 'Total_Ct_Chng_Q4_Q1', 'Avg_Utilization_Ratio'])\n",
    "], remainder='passthrough')\n",
    "\n",
    "\n",
    "logit = LogisticRegression(random_state=2020)\n",
    "rfe = RFE(estimator=logit)\n",
    "balance = SMOTE()\n",
    "\n",
    "all_pipe = Pipeline([\n",
    "    ('transformer', lr_transformer),\n",
    "    ('rfe', rfe),\n",
    "    ('clf',logit)\n",
    "])"
   ]
  },
  {
   "cell_type": "code",
   "execution_count": 44,
   "metadata": {},
   "outputs": [],
   "source": [
    "# df.dtypes"
   ]
  },
  {
   "cell_type": "code",
   "execution_count": 24,
   "metadata": {},
   "outputs": [
    {
     "data": {
      "text/plain": [
       "Pipeline(steps=[('transformer',\n",
       "                 ColumnTransformer(remainder='passthrough',\n",
       "                                   transformers=[('one_hot',\n",
       "                                                  OneHotEncoder(drop='first'),\n",
       "                                                  ['Gender', 'Marital_Status']),\n",
       "                                                 ('or_pipe',\n",
       "                                                  OrdinalEncoder(cols=['Education_Level',\n",
       "                                                                       'Income_Category',\n",
       "                                                                       'Card_Category'],\n",
       "                                                                 mapping=[{'col': 'Education_Level',\n",
       "                                                                           'mapping': {'College': 3,\n",
       "                                                                                       'Doctorate': 6,\n",
       "                                                                                       'Graduate': 4,\n",
       "                                                                                       'High School': 2,\n",
       "                                                                                       'Post-Gradu...\n",
       "                                                   'Months_on_book',\n",
       "                                                   'Total_Relationship_Count',\n",
       "                                                   'Months_Inactive_12_mon',\n",
       "                                                   'Contacts_Count_12_mon',\n",
       "                                                   'Credit_Limit',\n",
       "                                                   'Total_Revolving_Bal',\n",
       "                                                   'Avg_Open_To_Buy',\n",
       "                                                   'Total_Amt_Chng_Q4_Q1',\n",
       "                                                   'Total_Trans_Amt',\n",
       "                                                   'Total_Trans_Ct',\n",
       "                                                   'Total_Ct_Chng_Q4_Q1',\n",
       "                                                   'Avg_Utilization_Ratio'])])),\n",
       "                ('rfe', RFE(estimator=LogisticRegression(random_state=2020))),\n",
       "                ('clf', LogisticRegression(random_state=2020))])"
      ]
     },
     "execution_count": 24,
     "metadata": {},
     "output_type": "execute_result"
    }
   ],
   "source": [
    "all_pipe.fit(x_train,y_train)"
   ]
  },
  {
   "cell_type": "code",
   "execution_count": 25,
   "metadata": {},
   "outputs": [],
   "source": [
    "# x_train_pr=pd.DataFrame(lr_transformer.fit_transform(x_train))\n",
    "# x_train_pr.dtypes"
   ]
  },
  {
   "cell_type": "code",
   "execution_count": 26,
   "metadata": {},
   "outputs": [
    {
     "name": "stdout",
     "output_type": "stream",
     "text": [
      "              precision    recall  f1-score   support\n",
      "\n",
      "           0       0.93      0.97      0.95      1701\n",
      "           1       0.77      0.60      0.67       325\n",
      "\n",
      "    accuracy                           0.91      2026\n",
      "   macro avg       0.85      0.78      0.81      2026\n",
      "weighted avg       0.90      0.91      0.90      2026\n",
      "\n",
      "Accuracy: 90.72%\n",
      "Recall: 59.69%\n"
     ]
    }
   ],
   "source": [
    "lr_pred = all_pipe.predict(x_test)\n",
    "lr_proba = all_pipe.predict_proba(x_test)\n",
    "print(classification_report(y_test, lr_pred))\n",
    "print(\"Accuracy: %.2f%%\" % (accuracy_score(y_test, lr_pred)*100.0))\n",
    "print(\"Recall: %.2f%%\" % ((recall_score(y_test,lr_pred))*100.0))"
   ]
  },
  {
   "cell_type": "markdown",
   "metadata": {},
   "source": []
  },
  {
   "cell_type": "code",
   "execution_count": 27,
   "metadata": {},
   "outputs": [
    {
     "name": "stdout",
     "output_type": "stream",
     "text": [
      "[[1644   57]\n",
      " [ 131  194]]\n"
     ]
    }
   ],
   "source": [
    "tn_lr, fp_lr, fn_lr, tp_lr = confusion_matrix(y_test,lr_pred,labels=[0,1]).ravel()\n",
    "print(confusion_matrix(y_test, lr_pred))"
   ]
  },
  {
   "cell_type": "code",
   "execution_count": 28,
   "metadata": {},
   "outputs": [
    {
     "data": {
      "text/plain": [
       "<sklearn.metrics._plot.confusion_matrix.ConfusionMatrixDisplay at 0x243955f2400>"
      ]
     },
     "execution_count": 28,
     "metadata": {},
     "output_type": "execute_result"
    },
    {
     "data": {
      "image/png": "[encoded data removed]",
      "text/plain": [
       "<Figure size 432x288 with 2 Axes>"
      ]
     },
     "metadata": {
      "needs_background": "light"
     },
     "output_type": "display_data"
    }
   ],
   "source": [
    "plot_confusion_matrix(all_pipe, x_test, y_test)"
   ]
  },
  {
   "cell_type": "code",
   "execution_count": 29,
   "metadata": {},
   "outputs": [
    {
     "data": {
      "text/plain": [
       "0.7730054381112682"
      ]
     },
     "execution_count": 29,
     "metadata": {},
     "output_type": "execute_result"
    }
   ],
   "source": [
    "pre_lr, rec_lr, thr_lr = precision_recall_curve(y_test, lr_proba[:,1])\n",
    "auc_lr = auc(rec_lr,pre_lr)\n",
    "auc_lr"
   ]
  },
  {
   "cell_type": "code",
   "execution_count": 30,
   "metadata": {},
   "outputs": [
    {
     "data": {
      "text/plain": [
       "<sklearn.metrics._plot.precision_recall_curve.PrecisionRecallDisplay at 0x243ee786ca0>"
      ]
     },
     "execution_count": 30,
     "metadata": {},
     "output_type": "execute_result"
    },
    {
     "data": {
      "image/png": "[encoded data removed]",
      "text/plain": [
       "<Figure size 432x288 with 1 Axes>"
      ]
     },
     "metadata": {
      "needs_background": "light"
     },
     "output_type": "display_data"
    }
   ],
   "source": [
    "plot_precision_recall_curve(all_pipe, x_test, y_test)\n",
    "# pr untuk 1 class\n",
    "# rox 2 class"
   ]
  },
  {
   "cell_type": "markdown",
   "metadata": {},
   "source": [
    "kita menggunakan pr curve karena akan fokus pada 1 class saja(Churn)"
   ]
  },
  {
   "cell_type": "code",
   "execution_count": 31,
   "metadata": {},
   "outputs": [
    {
     "name": "stdout",
     "output_type": "stream",
     "text": [
      "CV Score: [0.60536398 0.63846154 0.62692308 0.50384615 0.52490421]\n",
      "CV Score Mean: 0.5798997936928971\n",
      "CV Score Std: 0.05495045404107299\n"
     ]
    }
   ],
   "source": [
    "model_cv = cross_val_score(all_pipe, x_train, y_train, scoring='recall')\n",
    "print('CV Score:', model_cv)\n",
    "print('CV Score Mean:', model_cv.mean())\n",
    "print('CV Score Std:', model_cv.std())"
   ]
  },
  {
   "cell_type": "markdown",
   "metadata": {},
   "source": [
    "## LR Model Tunned without Balancing"
   ]
  },
  {
   "cell_type": "code",
   "execution_count": 32,
   "metadata": {},
   "outputs": [],
   "source": [
    "model_lr = logit\n",
    "balance = SMOTE()\n",
    "skfold = StratifiedKFold(n_splits=5)\n",
    "\n",
    "lr_hyper_param = {\n",
    "    'clf__C':[1000, 500, 100, 50, 10, 5, 1, 0.5, 0.1, 0.05, 0.01, 0.005, 0.001, 0.0005, 0.0001],\n",
    "    'clf__max_iter':[100, 200, 300, 400, 500, 1000, 1200],\n",
    "#     'clf__class_weight':['balanced'],\n",
    "    'clf__solver': ['liblinear', 'newton-cg','sag','lbfgs']\n",
    "    \n",
    "}\n",
    "\n",
    "grid_search_lr = GridSearchCV(\n",
    "    all_pipe,\n",
    "    param_grid = lr_hyper_param,\n",
    "    cv = StratifiedKFold(),\n",
    "    scoring ='recall',\n",
    "    n_jobs = -1,\n",
    "    verbose =1\n",
    ")"
   ]
  },
  {
   "cell_type": "code",
   "execution_count": 33,
   "metadata": {},
   "outputs": [],
   "source": [
    "# grid_search_lr.get_params().keys()"
   ]
  },
  {
   "cell_type": "code",
   "execution_count": 34,
   "metadata": {},
   "outputs": [
    {
     "name": "stdout",
     "output_type": "stream",
     "text": [
      "Fitting 5 folds for each of 420 candidates, totalling 2100 fits\n"
     ]
    },
    {
     "data": {
      "text/plain": [
       "GridSearchCV(cv=StratifiedKFold(n_splits=5, random_state=None, shuffle=False),\n",
       "             estimator=Pipeline(steps=[('transformer',\n",
       "                                        ColumnTransformer(remainder='passthrough',\n",
       "                                                          transformers=[('one_hot',\n",
       "                                                                         OneHotEncoder(drop='first'),\n",
       "                                                                         ['Gender',\n",
       "                                                                          'Marital_Status']),\n",
       "                                                                        ('or_pipe',\n",
       "                                                                         OrdinalEncoder(cols=['Education_Level',\n",
       "                                                                                              'Income_Category',\n",
       "                                                                                              'Card_Category'],\n",
       "                                                                                        mapping=[{'col': 'Educati...\n",
       "                                                                          'Avg_Utilization_Ratio'])])),\n",
       "                                       ('rfe',\n",
       "                                        RFE(estimator=LogisticRegression(random_state=2020))),\n",
       "                                       ('clf',\n",
       "                                        LogisticRegression(random_state=2020))]),\n",
       "             n_jobs=-1,\n",
       "             param_grid={'clf__C': [1000, 500, 100, 50, 10, 5, 1, 0.5, 0.1,\n",
       "                                    0.05, 0.01, 0.005, 0.001, 0.0005, 0.0001],\n",
       "                         'clf__max_iter': [100, 200, 300, 400, 500, 1000, 1200],\n",
       "                         'clf__solver': ['liblinear', 'newton-cg', 'sag',\n",
       "                                         'lbfgs']},\n",
       "             scoring='recall', verbose=1)"
      ]
     },
     "execution_count": 34,
     "metadata": {},
     "output_type": "execute_result"
    }
   ],
   "source": [
    "grid_search_lr.fit(x_train,y_train)"
   ]
  },
  {
   "cell_type": "code",
   "execution_count": 35,
   "metadata": {},
   "outputs": [
    {
     "name": "stdout",
     "output_type": "stream",
     "text": [
      "estimator lr tuned score: 0.5829708222811671\n",
      "estimator lr best params: {'clf__C': 5, 'clf__max_iter': 100, 'clf__solver': 'liblinear'}\n"
     ]
    }
   ],
   "source": [
    "print('estimator lr tuned score:', grid_search_lr.best_score_)\n",
    "print('estimator lr best params:', grid_search_lr.best_params_)"
   ]
  },
  {
   "cell_type": "code",
   "execution_count": 36,
   "metadata": {},
   "outputs": [],
   "source": [
    "lr_tuned = grid_search_lr.best_estimator_\n",
    "lr_tuned_pred = lr_tuned.predict(x_test)\n",
    "lr_tuned_prob = lr_tuned.predict_proba(x_test)"
   ]
  },
  {
   "cell_type": "code",
   "execution_count": 37,
   "metadata": {},
   "outputs": [
    {
     "name": "stdout",
     "output_type": "stream",
     "text": [
      "              precision    recall  f1-score   support\n",
      "\n",
      "           0       0.93      0.97      0.95      1701\n",
      "           1       0.77      0.60      0.67       325\n",
      "\n",
      "    accuracy                           0.91      2026\n",
      "   macro avg       0.85      0.78      0.81      2026\n",
      "weighted avg       0.90      0.91      0.90      2026\n",
      "\n",
      "Accuracy: 90.67%\n",
      "Recall: 59.69%\n"
     ]
    }
   ],
   "source": [
    "print(classification_report(y_test, lr_tuned_pred))\n",
    "print(\"Accuracy: %.2f%%\" % (accuracy_score(y_test, lr_tuned_pred)*100.0))\n",
    "print(\"Recall: %.2f%%\" % ((recall_score(y_test,lr_tuned_pred))*100.0))"
   ]
  },
  {
   "cell_type": "code",
   "execution_count": 38,
   "metadata": {},
   "outputs": [
    {
     "name": "stdout",
     "output_type": "stream",
     "text": [
      "[[1643   58]\n",
      " [ 131  194]]\n"
     ]
    }
   ],
   "source": [
    "tn_lr_tn, fp_lr_tn, fn_lr_tn, tp_lr_tn = confusion_matrix(y_test,lr_tuned_pred,labels=[0,1]).ravel()\n",
    "print(confusion_matrix(y_test, lr_tuned_pred))"
   ]
  },
  {
   "cell_type": "code",
   "execution_count": 39,
   "metadata": {},
   "outputs": [
    {
     "data": {
      "text/plain": [
       "<sklearn.metrics._plot.confusion_matrix.ConfusionMatrixDisplay at 0x243ee433e50>"
      ]
     },
     "execution_count": 39,
     "metadata": {},
     "output_type": "execute_result"
    },
    {
     "data": {
      "image/png": "[encoded data removed]",
      "text/plain": [
       "<Figure size 432x288 with 2 Axes>"
      ]
     },
     "metadata": {
      "needs_background": "light"
     },
     "output_type": "display_data"
    }
   ],
   "source": [
    "plot_confusion_matrix(lr_tuned, x_test, y_test)"
   ]
  },
  {
   "cell_type": "markdown",
   "metadata": {},
   "source": [
    "tidak ada perubahan yang signifikan hanay TN bertambah 1"
   ]
  },
  {
   "cell_type": "code",
   "execution_count": 40,
   "metadata": {},
   "outputs": [
    {
     "data": {
      "text/plain": [
       "0.7726082743687935"
      ]
     },
     "execution_count": 40,
     "metadata": {},
     "output_type": "execute_result"
    }
   ],
   "source": [
    "pre_lr_tuned, rec_lr_tuned, thr_lr_tuned = precision_recall_curve(y_test, lr_tuned_prob[:,1])\n",
    "prc_lr = auc(rec_lr_tuned, pre_lr_tuned)\n",
    "prc_lr"
   ]
  },
  {
   "cell_type": "code",
   "execution_count": 41,
   "metadata": {},
   "outputs": [
    {
     "data": {
      "text/plain": [
       "<sklearn.metrics._plot.precision_recall_curve.PrecisionRecallDisplay at 0x243ec145af0>"
      ]
     },
     "execution_count": 41,
     "metadata": {},
     "output_type": "execute_result"
    },
    {
     "data": {
      "image/png": "[encoded data removed]",
      "text/plain": [
       "<Figure size 432x288 with 1 Axes>"
      ]
     },
     "metadata": {
      "needs_background": "light"
     },
     "output_type": "display_data"
    }
   ],
   "source": [
    "plot_precision_recall_curve(lr_tuned,x_test,y_test)"
   ]
  },
  {
   "cell_type": "code",
   "execution_count": 42,
   "metadata": {},
   "outputs": [
    {
     "name": "stderr",
     "output_type": "stream",
     "text": [
      "[Parallel(n_jobs=-1)]: Using backend LokyBackend with 8 concurrent workers.\n"
     ]
    },
    {
     "name": "stdout",
     "output_type": "stream",
     "text": [
      "LR TUNED CV\n",
      "CV Score: [0.60536398 0.64615385 0.62692308 0.50384615 0.53256705]\n",
      "CV Score Mean: 0.5829708222811671\n",
      "CV Score Std: 0.05518442234943423\n"
     ]
    },
    {
     "name": "stderr",
     "output_type": "stream",
     "text": [
      "[Parallel(n_jobs=-1)]: Done   2 out of   5 | elapsed:    1.6s remaining:    2.4s\n",
      "[Parallel(n_jobs=-1)]: Done   5 out of   5 | elapsed:    1.7s finished\n"
     ]
    }
   ],
   "source": [
    "model_lr_tn_cv = cross_val_score(lr_tuned, x_train, y_train, scoring='recall', cv=skfold, n_jobs=-1, verbose=1)\n",
    "print(\"LR TUNED CV\")\n",
    "print('CV Score:', model_lr_tn_cv)\n",
    "print('CV Score Mean:',model_lr_tn_cv.mean())\n",
    "print('CV Score Std:', model_lr_tn_cv.std())"
   ]
  },
  {
   "cell_type": "markdown",
   "metadata": {},
   "source": [
    "## LR Tuned With SMOTE"
   ]
  },
  {
   "cell_type": "code",
   "execution_count": 43,
   "metadata": {},
   "outputs": [],
   "source": [
    "balance = SMOTE()\n",
    "all_pipe_bal = Pipeline([\n",
    "    ('transformer', lr_transformer),\n",
    "    ('rfe', rfe),\n",
    "    ('balance', balance),\n",
    "    ('clf',logit)\n",
    "])\n",
    "\n",
    "grid_search_lr_bal = GridSearchCV(\n",
    "    all_pipe_bal,\n",
    "    param_grid = lr_hyper_param,\n",
    "    cv = StratifiedKFold(),\n",
    "    scoring ='recall',\n",
    "    n_jobs = -1,\n",
    "    verbose =1\n",
    ")"
   ]
  },
  {
   "cell_type": "code",
   "execution_count": 44,
   "metadata": {},
   "outputs": [
    {
     "name": "stdout",
     "output_type": "stream",
     "text": [
      "Fitting 5 folds for each of 420 candidates, totalling 2100 fits\n"
     ]
    },
    {
     "data": {
      "text/plain": [
       "GridSearchCV(cv=StratifiedKFold(n_splits=5, random_state=None, shuffle=False),\n",
       "             estimator=Pipeline(steps=[('transformer',\n",
       "                                        ColumnTransformer(remainder='passthrough',\n",
       "                                                          transformers=[('one_hot',\n",
       "                                                                         OneHotEncoder(drop='first'),\n",
       "                                                                         ['Gender',\n",
       "                                                                          'Marital_Status']),\n",
       "                                                                        ('or_pipe',\n",
       "                                                                         OrdinalEncoder(cols=['Education_Level',\n",
       "                                                                                              'Income_Category',\n",
       "                                                                                              'Card_Category'],\n",
       "                                                                                        mapping=[{'col': 'Educati...\n",
       "                                        RFE(estimator=LogisticRegression(random_state=2020))),\n",
       "                                       ('balance', SMOTE()),\n",
       "                                       ('clf',\n",
       "                                        LogisticRegression(random_state=2020))]),\n",
       "             n_jobs=-1,\n",
       "             param_grid={'clf__C': [1000, 500, 100, 50, 10, 5, 1, 0.5, 0.1,\n",
       "                                    0.05, 0.01, 0.005, 0.001, 0.0005, 0.0001],\n",
       "                         'clf__max_iter': [100, 200, 300, 400, 500, 1000, 1200],\n",
       "                         'clf__solver': ['liblinear', 'newton-cg', 'sag',\n",
       "                                         'lbfgs']},\n",
       "             scoring='recall', verbose=1)"
      ]
     },
     "execution_count": 44,
     "metadata": {},
     "output_type": "execute_result"
    }
   ],
   "source": [
    "grid_search_lr_bal.fit(x_train,y_train)"
   ]
  },
  {
   "cell_type": "code",
   "execution_count": 45,
   "metadata": {},
   "outputs": [
    {
     "name": "stdout",
     "output_type": "stream",
     "text": [
      "estimator lr_balanced tuned score: 0.8802269378131446\n",
      "estimator lr_balanced best params: {'clf__C': 0.0001, 'clf__max_iter': 200, 'clf__solver': 'liblinear'}\n"
     ]
    }
   ],
   "source": [
    "print('estimator lr_balanced tuned score:', grid_search_lr_bal.best_score_)\n",
    "print('estimator lr_balanced best params:', grid_search_lr_bal.best_params_)"
   ]
  },
  {
   "cell_type": "code",
   "execution_count": 46,
   "metadata": {},
   "outputs": [],
   "source": [
    "lr_tuned_bal = grid_search_lr_bal.best_estimator_\n",
    "lr_tuned_bal_pred = lr_tuned_bal.predict(x_test)\n",
    "lr_tuned_bal_prob = lr_tuned_bal.predict_proba(x_test)"
   ]
  },
  {
   "cell_type": "code",
   "execution_count": 47,
   "metadata": {},
   "outputs": [
    {
     "name": "stdout",
     "output_type": "stream",
     "text": [
      "              precision    recall  f1-score   support\n",
      "\n",
      "           0       0.97      0.69      0.81      1701\n",
      "           1       0.35      0.88      0.50       325\n",
      "\n",
      "    accuracy                           0.72      2026\n",
      "   macro avg       0.66      0.79      0.65      2026\n",
      "weighted avg       0.87      0.72      0.76      2026\n",
      "\n",
      "Accuracy: 72.11%\n",
      "Recall: 88.31%\n"
     ]
    }
   ],
   "source": [
    "print(classification_report(y_test, lr_tuned_bal_pred))\n",
    "print(\"Accuracy: %.2f%%\" % (accuracy_score(y_test, lr_tuned_bal_pred)*100.0))\n",
    "print(\"Recall: %.2f%%\" % ((recall_score(y_test,lr_tuned_bal_pred))*100.0))"
   ]
  },
  {
   "cell_type": "code",
   "execution_count": 48,
   "metadata": {},
   "outputs": [
    {
     "name": "stdout",
     "output_type": "stream",
     "text": [
      "[[1174  527]\n",
      " [  38  287]]\n"
     ]
    }
   ],
   "source": [
    "tn_lr_tn_sm, fp_lr_tn_sm, fn_lr_tn_sm, tp_lr_tn_sm = confusion_matrix(y_test,lr_tuned_bal_pred,labels=[0,1]).ravel()\n",
    "print(confusion_matrix(y_test, lr_tuned_bal_pred))"
   ]
  },
  {
   "cell_type": "code",
   "execution_count": 49,
   "metadata": {},
   "outputs": [
    {
     "data": {
      "text/plain": [
       "<sklearn.metrics._plot.confusion_matrix.ConfusionMatrixDisplay at 0x243ed56e5e0>"
      ]
     },
     "execution_count": 49,
     "metadata": {},
     "output_type": "execute_result"
    },
    {
     "data": {
      "image/png": "[encoded data removed]",
      "text/plain": [
       "<Figure size 432x288 with 2 Axes>"
      ]
     },
     "metadata": {
      "needs_background": "light"
     },
     "output_type": "display_data"
    }
   ],
   "source": [
    "plot_confusion_matrix(lr_tuned_bal, x_test, y_test)"
   ]
  },
  {
   "cell_type": "code",
   "execution_count": 50,
   "metadata": {},
   "outputs": [
    {
     "data": {
      "text/plain": [
       "<sklearn.metrics._plot.precision_recall_curve.PrecisionRecallDisplay at 0x243eb351c10>"
      ]
     },
     "execution_count": 50,
     "metadata": {},
     "output_type": "execute_result"
    },
    {
     "data": {
      "image/png": "[encoded data removed]",
      "text/plain": [
       "<Figure size 432x288 with 1 Axes>"
      ]
     },
     "metadata": {
      "needs_background": "light"
     },
     "output_type": "display_data"
    }
   ],
   "source": [
    "plot_precision_recall_curve(lr_tuned_bal,x_test,y_test)"
   ]
  },
  {
   "cell_type": "code",
   "execution_count": 51,
   "metadata": {},
   "outputs": [
    {
     "data": {
      "text/plain": [
       "0.7292097262423882"
      ]
     },
     "execution_count": 51,
     "metadata": {},
     "output_type": "execute_result"
    }
   ],
   "source": [
    "pre_lr_sm, rec_lr_sm, thr_lr_sm = precision_recall_curve(y_test, lr_tuned_bal_prob[:,1])\n",
    "auc_lr_sm = auc(rec_lr_sm,pre_lr_sm)\n",
    "auc_lr_sm"
   ]
  },
  {
   "cell_type": "code",
   "execution_count": 52,
   "metadata": {},
   "outputs": [
    {
     "name": "stderr",
     "output_type": "stream",
     "text": [
      "[Parallel(n_jobs=-1)]: Using backend LokyBackend with 8 concurrent workers.\n",
      "[Parallel(n_jobs=-1)]: Done   2 out of   5 | elapsed:    2.9s remaining:    4.4s\n"
     ]
    },
    {
     "name": "stdout",
     "output_type": "stream",
     "text": [
      "LR TUNED W SMOTE CV\n",
      "CV Score: [0.88122605 0.90769231 0.91538462 0.87307692 0.81992337]\n",
      "CV Score Mean: 0.8794606542882406\n",
      "CV Score Std: 0.03369306729305751\n"
     ]
    },
    {
     "name": "stderr",
     "output_type": "stream",
     "text": [
      "[Parallel(n_jobs=-1)]: Done   5 out of   5 | elapsed:    3.9s finished\n"
     ]
    }
   ],
   "source": [
    "model_lr_bal_cv = cross_val_score(lr_tuned_bal, x_train, y_train, scoring='recall', cv=skfold, n_jobs=-1, verbose=1)\n",
    "print(\"LR TUNED W SMOTE CV\")\n",
    "print('CV Score:', model_lr_bal_cv)\n",
    "print('CV Score Mean:',model_lr_bal_cv.mean())\n",
    "print('CV Score Std:', model_lr_bal_cv.std())"
   ]
  },
  {
   "cell_type": "markdown",
   "metadata": {},
   "source": [
    "## Model Comparison"
   ]
  },
  {
   "cell_type": "code",
   "execution_count": 53,
   "metadata": {},
   "outputs": [
    {
     "data": {
      "text/html": [
       "<div>\n",
       "<style scoped>\n",
       "    .dataframe tbody tr th:only-of-type {\n",
       "        vertical-align: middle;\n",
       "    }\n",
       "\n",
       "    .dataframe tbody tr th {\n",
       "        vertical-align: top;\n",
       "    }\n",
       "\n",
       "    .dataframe thead th {\n",
       "        text-align: right;\n",
       "    }\n",
       "</style>\n",
       "<table border=\"1\" class=\"dataframe\">\n",
       "  <thead>\n",
       "    <tr style=\"text-align: right;\">\n",
       "      <th></th>\n",
       "      <th>LR Default</th>\n",
       "      <th>LR TUNED</th>\n",
       "      <th>LR TUNED SMOTE</th>\n",
       "    </tr>\n",
       "  </thead>\n",
       "  <tbody>\n",
       "    <tr>\n",
       "      <th>Acuracy Score</th>\n",
       "      <td>0.907206</td>\n",
       "      <td>0.906713</td>\n",
       "      <td>0.721125</td>\n",
       "    </tr>\n",
       "    <tr>\n",
       "      <th>precision Score</th>\n",
       "      <td>0.772908</td>\n",
       "      <td>0.769841</td>\n",
       "      <td>0.352580</td>\n",
       "    </tr>\n",
       "    <tr>\n",
       "      <th>recall score</th>\n",
       "      <td>0.596923</td>\n",
       "      <td>0.596923</td>\n",
       "      <td>0.883077</td>\n",
       "    </tr>\n",
       "    <tr>\n",
       "      <th>f1 score</th>\n",
       "      <td>0.673611</td>\n",
       "      <td>0.672444</td>\n",
       "      <td>0.503951</td>\n",
       "    </tr>\n",
       "    <tr>\n",
       "      <th>TP</th>\n",
       "      <td>194.000000</td>\n",
       "      <td>194.000000</td>\n",
       "      <td>287.000000</td>\n",
       "    </tr>\n",
       "    <tr>\n",
       "      <th>TN</th>\n",
       "      <td>1644.000000</td>\n",
       "      <td>1643.000000</td>\n",
       "      <td>1174.000000</td>\n",
       "    </tr>\n",
       "    <tr>\n",
       "      <th>FP</th>\n",
       "      <td>57.000000</td>\n",
       "      <td>58.000000</td>\n",
       "      <td>527.000000</td>\n",
       "    </tr>\n",
       "    <tr>\n",
       "      <th>FN</th>\n",
       "      <td>131.000000</td>\n",
       "      <td>131.000000</td>\n",
       "      <td>38.000000</td>\n",
       "    </tr>\n",
       "  </tbody>\n",
       "</table>\n",
       "</div>"
      ],
      "text/plain": [
       "                  LR Default     LR TUNED  LR TUNED SMOTE\n",
       "Acuracy Score       0.907206     0.906713        0.721125\n",
       "precision Score     0.772908     0.769841        0.352580\n",
       "recall score        0.596923     0.596923        0.883077\n",
       "f1 score            0.673611     0.672444        0.503951\n",
       "TP                194.000000   194.000000      287.000000\n",
       "TN               1644.000000  1643.000000     1174.000000\n",
       "FP                 57.000000    58.000000      527.000000\n",
       "FN                131.000000   131.000000       38.000000"
      ]
     },
     "execution_count": 53,
     "metadata": {},
     "output_type": "execute_result"
    }
   ],
   "source": [
    "lr_comparison = pd.DataFrame({\n",
    "  \"LR Default\":[accuracy_score(y_test,lr_pred),precision_score(y_test,lr_pred),recall_score(y_test,lr_pred),f1_score(y_test,lr_pred),\n",
    "                tp_lr,tn_lr,fp_lr,fn_lr],\n",
    "    \"LR TUNED\":[accuracy_score(y_test,lr_tuned_pred),precision_score(y_test,lr_tuned_pred),recall_score(y_test,lr_tuned_pred),f1_score(y_test,lr_tuned_pred),\n",
    "                tp_lr_tn,tn_lr_tn,fp_lr_tn,fn_lr_tn],\n",
    "    \"LR TUNED SMOTE\":[accuracy_score(y_test,lr_tuned_bal_pred),precision_score(y_test,lr_tuned_bal_pred),recall_score(y_test,lr_tuned_bal_pred),f1_score(y_test,lr_tuned_bal_pred),\n",
    "                 tp_lr_tn_sm,tn_lr_tn_sm,fp_lr_tn_sm,fn_lr_tn_sm]\n",
    "},index = ['Acuracy Score','precision Score','recall score','f1 score','TP','TN','FP','FN'])\n",
    "lr_comparison"
   ]
  },
  {
   "cell_type": "code",
   "execution_count": 54,
   "metadata": {},
   "outputs": [
    {
     "data": {
      "text/plain": [
       "<sklearn.metrics._plot.precision_recall_curve.PrecisionRecallDisplay at 0x243ee6ab4c0>"
      ]
     },
     "execution_count": 54,
     "metadata": {},
     "output_type": "execute_result"
    },
    {
     "data": {
      "image/png": "[encoded data removed]",
      "text/plain": [
       "<Figure size 432x288 with 1 Axes>"
      ]
     },
     "metadata": {
      "needs_background": "light"
     },
     "output_type": "display_data"
    },
    {
     "data": {
      "image/png": "[encoded data removed]",
      "text/plain": [
       "<Figure size 432x288 with 1 Axes>"
      ]
     },
     "metadata": {
      "needs_background": "light"
     },
     "output_type": "display_data"
    },
    {
     "data": {
      "image/png": "[encoded data removed]",
      "text/plain": [
       "<Figure size 432x288 with 1 Axes>"
      ]
     },
     "metadata": {
      "needs_background": "light"
     },
     "output_type": "display_data"
    }
   ],
   "source": [
    "plot_precision_recall_curve(all_pipe, x_test, y_test)\n",
    "plot_precision_recall_curve(lr_tuned, x_test, y_test)\n",
    "plot_precision_recall_curve(lr_tuned_bal, x_test, y_test)"
   ]
  },
  {
   "cell_type": "code",
   "execution_count": null,
   "metadata": {},
   "outputs": [],
   "source": []
  },
  {
   "cell_type": "code",
   "execution_count": null,
   "metadata": {},
   "outputs": [],
   "source": []
  },
  {
   "cell_type": "markdown",
   "metadata": {},
   "source": [
    "## DTC Model"
   ]
  },
  {
   "cell_type": "markdown",
   "metadata": {},
   "source": [
    "pada model DTC one-hot column tidak di sarankan karena dapat menambah banyak kolom sehingga dapat menggangu performa dari mode\n",
    "<br>\n",
    "maka pada di model ini akan melakuna encoding ulang dengan menggunakan binary encoder untuk kolom one-hotsebelumnya"
   ]
  },
  {
   "cell_type": "markdown",
   "metadata": {},
   "source": [
    "### Withou Scaling"
   ]
  },
  {
   "cell_type": "code",
   "execution_count": 55,
   "metadata": {},
   "outputs": [],
   "source": [
    "ordinal_mapping = [\n",
    "    {\n",
    "        'col':'Education_Level',\n",
    "        'mapping':{'Unknown':0,'Uneducated':1,'High School':2,'College':3,'Graduate':4,'Post-Graduate':5,'Doctorate':6}\n",
    "    },\n",
    "    {\n",
    "        'col':'Income_Category',\n",
    "        'mapping':{'Unknown':0,'Less than $40K':1, '$40K - $60K':2,'$60K - $80K':3,'$80K - $120K':4,'$120K +':5}\n",
    "    },\n",
    "    {\n",
    "        'col':'Card_Category',\n",
    "        'mapping':{'Blue':1,'Silver':2,'Gold':3,'Platinum':4}\n",
    "    }\n",
    "]\n",
    "\n",
    "ordinal_encoder = ce.OrdinalEncoder(cols = ['Education_Level','Income_Category','Card_Category'],mapping= ordinal_mapping)\n",
    "\n",
    "# Column Transfo\n",
    "# scaling column pur numweric\n",
    "dtc_transformer = ColumnTransformer([\n",
    "    ('binary',ce.BinaryEncoder(),['Gender','Marital_Status']),\n",
    "    ('or_pipe', ordinal_encoder, ['Education_Level','Income_Category','Card_Category'])\n",
    "], remainder='passthrough')\n",
    "\n",
    "\n",
    "dtc = DecisionTreeClassifier(max_depth=10, min_samples_split=8, random_state=2021, class_weight='balanced')\n",
    "rfe = RFE(estimator=dtc)\n",
    "\n",
    "\n",
    "all_pipe_dtc = Pipeline([\n",
    "    ('transformer', dtc_transformer),\n",
    "    ('rfe', rfe),\n",
    "    ('clf',dtc)\n",
    "])"
   ]
  },
  {
   "cell_type": "code",
   "execution_count": 56,
   "metadata": {},
   "outputs": [
    {
     "data": {
      "text/plain": [
       "Pipeline(steps=[('transformer',\n",
       "                 ColumnTransformer(remainder='passthrough',\n",
       "                                   transformers=[('binary', BinaryEncoder(),\n",
       "                                                  ['Gender', 'Marital_Status']),\n",
       "                                                 ('or_pipe',\n",
       "                                                  OrdinalEncoder(cols=['Education_Level',\n",
       "                                                                       'Income_Category',\n",
       "                                                                       'Card_Category'],\n",
       "                                                                 mapping=[{'col': 'Education_Level',\n",
       "                                                                           'mapping': {'College': 3,\n",
       "                                                                                       'Doctorate': 6,\n",
       "                                                                                       'Graduate': 4,\n",
       "                                                                                       'High School': 2,\n",
       "                                                                                       'Post-Graduate': 5,\n",
       "                                                                                       'Unedu...\n",
       "                                                                          {'col': 'Card_Category',\n",
       "                                                                           'mapping': {'Blue': 1,\n",
       "                                                                                       'Gold': 3,\n",
       "                                                                                       'Platinum': 4,\n",
       "                                                                                       'Silver': 2}}]),\n",
       "                                                  ['Education_Level',\n",
       "                                                   'Income_Category',\n",
       "                                                   'Card_Category'])])),\n",
       "                ('rfe',\n",
       "                 RFE(estimator=DecisionTreeClassifier(class_weight='balanced',\n",
       "                                                      max_depth=10,\n",
       "                                                      min_samples_split=8,\n",
       "                                                      random_state=2021))),\n",
       "                ('clf',\n",
       "                 DecisionTreeClassifier(class_weight='balanced', max_depth=10,\n",
       "                                        min_samples_split=8,\n",
       "                                        random_state=2021))])"
      ]
     },
     "execution_count": 56,
     "metadata": {},
     "output_type": "execute_result"
    }
   ],
   "source": [
    "all_pipe_dtc.fit(x_train,y_train)"
   ]
  },
  {
   "cell_type": "code",
   "execution_count": 57,
   "metadata": {},
   "outputs": [],
   "source": [
    "# x_train_prepro = pd.DataFrame(dtc_transformer.fit_transform(x_train))\n",
    "# x_train_prepro"
   ]
  },
  {
   "cell_type": "code",
   "execution_count": 58,
   "metadata": {},
   "outputs": [],
   "source": [
    "dtc_pred = all_pipe_dtc.predict(x_test)\n",
    "dtc_proba = all_pipe_dtc.predict_proba(x_test)"
   ]
  },
  {
   "cell_type": "code",
   "execution_count": 59,
   "metadata": {},
   "outputs": [
    {
     "name": "stdout",
     "output_type": "stream",
     "text": [
      "              precision    recall  f1-score   support\n",
      "\n",
      "           0       0.98      0.93      0.95      1701\n",
      "           1       0.72      0.88      0.79       325\n",
      "\n",
      "    accuracy                           0.92      2026\n",
      "   macro avg       0.85      0.91      0.87      2026\n",
      "weighted avg       0.93      0.92      0.93      2026\n",
      "\n",
      "Accuracy: 92.45%\n",
      "Recall: 87.69%\n"
     ]
    }
   ],
   "source": [
    "print(classification_report(y_test,dtc_pred))\n",
    "print(\"Accuracy: %.2f%%\" % (accuracy_score(y_test, dtc_pred)*100.0))\n",
    "print(\"Recall: %.2f%%\" % ((recall_score(y_test,dtc_pred))*100.0))"
   ]
  },
  {
   "cell_type": "code",
   "execution_count": 60,
   "metadata": {},
   "outputs": [
    {
     "name": "stdout",
     "output_type": "stream",
     "text": [
      "[[1588  113]\n",
      " [  40  285]]\n"
     ]
    }
   ],
   "source": [
    "tn_dtc, fp_dtc, fn_dtc, tp_dtc = confusion_matrix(y_test,dtc_pred,labels=[0,1]).ravel()\n",
    "print(confusion_matrix(y_test,dtc_pred))"
   ]
  },
  {
   "cell_type": "code",
   "execution_count": 61,
   "metadata": {},
   "outputs": [
    {
     "data": {
      "text/plain": [
       "<sklearn.metrics._plot.confusion_matrix.ConfusionMatrixDisplay at 0x243ed594af0>"
      ]
     },
     "execution_count": 61,
     "metadata": {},
     "output_type": "execute_result"
    },
    {
     "data": {
      "image/png": "[encoded data removed]",
      "text/plain": [
       "<Figure size 432x288 with 2 Axes>"
      ]
     },
     "metadata": {
      "needs_background": "light"
     },
     "output_type": "display_data"
    }
   ],
   "source": [
    "plot_confusion_matrix(all_pipe_dtc, x_test, y_test)"
   ]
  },
  {
   "cell_type": "code",
   "execution_count": 62,
   "metadata": {},
   "outputs": [
    {
     "data": {
      "text/plain": [
       "0.8225359949895803"
      ]
     },
     "execution_count": 62,
     "metadata": {},
     "output_type": "execute_result"
    }
   ],
   "source": [
    "pre_dtc, rec_dtc, thr_dtc = precision_recall_curve(y_test, dtc_proba[:,1])\n",
    "auc_dtc = auc(rec_dtc,pre_dtc)\n",
    "auc_dtc"
   ]
  },
  {
   "cell_type": "code",
   "execution_count": 63,
   "metadata": {},
   "outputs": [
    {
     "data": {
      "text/plain": [
       "<sklearn.metrics._plot.precision_recall_curve.PrecisionRecallDisplay at 0x2439558f730>"
      ]
     },
     "execution_count": 63,
     "metadata": {},
     "output_type": "execute_result"
    },
    {
     "data": {
      "image/png": "[encoded data removed]",
      "text/plain": [
       "<Figure size 432x288 with 1 Axes>"
      ]
     },
     "metadata": {
      "needs_background": "light"
     },
     "output_type": "display_data"
    }
   ],
   "source": [
    "plot_precision_recall_curve(all_pipe_dtc, x_test, y_test)"
   ]
  },
  {
   "cell_type": "code",
   "execution_count": 64,
   "metadata": {},
   "outputs": [
    {
     "name": "stderr",
     "output_type": "stream",
     "text": [
      "[Parallel(n_jobs=-1)]: Using backend LokyBackend with 8 concurrent workers.\n",
      "[Parallel(n_jobs=-1)]: Done   2 out of   5 | elapsed:    3.6s remaining:    5.5s\n"
     ]
    },
    {
     "name": "stdout",
     "output_type": "stream",
     "text": [
      "DTC CV\n",
      "CV Score: [0.87356322 0.88846154 0.86923077 0.87307692 0.85823755]\n",
      "CV Score Mean: 0.8725139994105511\n",
      "CV Score Std: 0.009698849557136702\n"
     ]
    },
    {
     "name": "stderr",
     "output_type": "stream",
     "text": [
      "[Parallel(n_jobs=-1)]: Done   5 out of   5 | elapsed:    5.0s finished\n"
     ]
    }
   ],
   "source": [
    "model_dtc_cv = cross_val_score(all_pipe_dtc, x_train, y_train, scoring='recall', cv=skfold, n_jobs=-1, verbose=1)\n",
    "print(\"DTC CV\")\n",
    "print('CV Score:', model_dtc_cv)\n",
    "print('CV Score Mean:',model_dtc_cv.mean())\n",
    "print('CV Score Std:', model_dtc_cv.std())"
   ]
  },
  {
   "cell_type": "markdown",
   "metadata": {},
   "source": [
    "# DTC Tuned"
   ]
  },
  {
   "cell_type": "code",
   "execution_count": 65,
   "metadata": {},
   "outputs": [],
   "source": [
    "# grid_search_dtc.get_params().keys()"
   ]
  },
  {
   "cell_type": "code",
   "execution_count": 66,
   "metadata": {},
   "outputs": [],
   "source": [
    "\n",
    "skfold = StratifiedKFold(n_splits=5)\n",
    "\n",
    "\n",
    "dtc_hyper_param = {\n",
    "    'clf__criterion': ['gini', 'entropy'],\n",
    "    'clf__max_depth': [5,10,15,20,25,30],\n",
    "    'clf__min_samples_split': [5,6,7,8,9,10],\n",
    "    'rfe__n_features_to_select': [None,5,6,7,8],\n",
    "    'clf__random_state':[2021],\n",
    "    'clf__class_weight':['balanced']\n",
    "}\n",
    "\n",
    "grid_search_dtc = GridSearchCV(\n",
    "    all_pipe_dtc,\n",
    "    param_grid = dtc_hyper_param,\n",
    "    cv = StratifiedKFold(),\n",
    "    scoring = 'recall',\n",
    "    n_jobs = -1,\n",
    "    verbose = 1\n",
    ")"
   ]
  },
  {
   "cell_type": "code",
   "execution_count": 67,
   "metadata": {},
   "outputs": [
    {
     "name": "stdout",
     "output_type": "stream",
     "text": [
      "Fitting 5 folds for each of 360 candidates, totalling 1800 fits\n"
     ]
    },
    {
     "data": {
      "text/plain": [
       "GridSearchCV(cv=StratifiedKFold(n_splits=5, random_state=None, shuffle=False),\n",
       "             estimator=Pipeline(steps=[('transformer',\n",
       "                                        ColumnTransformer(remainder='passthrough',\n",
       "                                                          transformers=[('binary',\n",
       "                                                                         BinaryEncoder(),\n",
       "                                                                         ['Gender',\n",
       "                                                                          'Marital_Status']),\n",
       "                                                                        ('or_pipe',\n",
       "                                                                         OrdinalEncoder(cols=['Education_Level',\n",
       "                                                                                              'Income_Category',\n",
       "                                                                                              'Card_Category'],\n",
       "                                                                                        mapping=[{'col': 'Education_Level',\n",
       "                                                                                                  'ma...\n",
       "                                        DecisionTreeClassifier(class_weight='balanced',\n",
       "                                                               max_depth=10,\n",
       "                                                               min_samples_split=8,\n",
       "                                                               random_state=2021))]),\n",
       "             n_jobs=-1,\n",
       "             param_grid={'clf__class_weight': ['balanced'],\n",
       "                         'clf__criterion': ['gini', 'entropy'],\n",
       "                         'clf__max_depth': [5, 10, 15, 20, 25, 30],\n",
       "                         'clf__min_samples_split': [5, 6, 7, 8, 9, 10],\n",
       "                         'clf__random_state': [2021],\n",
       "                         'rfe__n_features_to_select': [None, 5, 6, 7, 8]},\n",
       "             scoring='recall', verbose=1)"
      ]
     },
     "execution_count": 67,
     "metadata": {},
     "output_type": "execute_result"
    }
   ],
   "source": [
    "grid_search_dtc.fit(x_train,y_train)"
   ]
  },
  {
   "cell_type": "code",
   "execution_count": 68,
   "metadata": {},
   "outputs": [
    {
     "name": "stdout",
     "output_type": "stream",
     "text": [
      "estimator dtc tuned score: 0.9139728853521956\n",
      "estimator dtc best params: {'clf__class_weight': 'balanced', 'clf__criterion': 'entropy', 'clf__max_depth': 5, 'clf__min_samples_split': 5, 'clf__random_state': 2021, 'rfe__n_features_to_select': None}\n"
     ]
    }
   ],
   "source": [
    "print('estimator dtc tuned score:', grid_search_dtc.best_score_)\n",
    "print('estimator dtc best params:', grid_search_dtc.best_params_)"
   ]
  },
  {
   "cell_type": "code",
   "execution_count": 69,
   "metadata": {},
   "outputs": [],
   "source": [
    "dtc_tuned = grid_search_dtc.best_estimator_\n",
    "dtc_tuned_pred = dtc_tuned.predict(x_test)\n",
    "dtc_tuned_prob = dtc_tuned.predict_proba(x_test)"
   ]
  },
  {
   "cell_type": "code",
   "execution_count": 70,
   "metadata": {},
   "outputs": [
    {
     "name": "stdout",
     "output_type": "stream",
     "text": [
      "              precision    recall  f1-score   support\n",
      "\n",
      "           0       0.98      0.90      0.94      1701\n",
      "           1       0.63      0.88      0.74       325\n",
      "\n",
      "    accuracy                           0.90      2026\n",
      "   macro avg       0.80      0.89      0.84      2026\n",
      "weighted avg       0.92      0.90      0.91      2026\n",
      "\n",
      "Accuracy: 89.93%\n",
      "Recall: 88.31%\n"
     ]
    }
   ],
   "source": [
    "print(classification_report(y_test, dtc_tuned_pred))\n",
    "print(\"Accuracy: %.2f%%\"% (accuracy_score(y_test, dtc_tuned_pred)*100.0))\n",
    "print(\"Recall: %.2f%%\"% (recall_score(y_test, dtc_tuned_pred)*100.0))"
   ]
  },
  {
   "cell_type": "code",
   "execution_count": 71,
   "metadata": {},
   "outputs": [
    {
     "name": "stdout",
     "output_type": "stream",
     "text": [
      "[[1535  166]\n",
      " [  38  287]]\n"
     ]
    }
   ],
   "source": [
    "tn_dtc_tune, fp_dtc_tune, fn_dtc_tune, tp_dtc_tune = confusion_matrix(y_test,dtc_tuned_pred,labels=[0,1]).ravel()\n",
    "print(confusion_matrix(y_test,dtc_tuned_pred))"
   ]
  },
  {
   "cell_type": "code",
   "execution_count": 72,
   "metadata": {},
   "outputs": [
    {
     "data": {
      "text/plain": [
       "<sklearn.metrics._plot.confusion_matrix.ConfusionMatrixDisplay at 0x243ed62d610>"
      ]
     },
     "execution_count": 72,
     "metadata": {},
     "output_type": "execute_result"
    },
    {
     "data": {
      "image/png": "[encoded data removed]",
      "text/plain": [
       "<Figure size 432x288 with 2 Axes>"
      ]
     },
     "metadata": {
      "needs_background": "light"
     },
     "output_type": "display_data"
    }
   ],
   "source": [
    "plot_confusion_matrix(dtc_tuned, x_test,y_test)"
   ]
  },
  {
   "cell_type": "code",
   "execution_count": 73,
   "metadata": {},
   "outputs": [
    {
     "data": {
      "text/plain": [
       "0.8179710035140944"
      ]
     },
     "execution_count": 73,
     "metadata": {},
     "output_type": "execute_result"
    }
   ],
   "source": [
    "pre_dtc_tune, rec_dtc_tune, thr_dtc_tune = precision_recall_curve(y_test,dtc_tuned_prob[:,1])\n",
    "dtc_tune_auc = auc(rec_dtc_tune,pre_dtc_tune)\n",
    "dtc_tune_auc"
   ]
  },
  {
   "cell_type": "code",
   "execution_count": 74,
   "metadata": {},
   "outputs": [
    {
     "data": {
      "text/plain": [
       "<sklearn.metrics._plot.precision_recall_curve.PrecisionRecallDisplay at 0x243ee135af0>"
      ]
     },
     "execution_count": 74,
     "metadata": {},
     "output_type": "execute_result"
    },
    {
     "data": {
      "image/png": "[encoded data removed]",
      "text/plain": [
       "<Figure size 432x288 with 1 Axes>"
      ]
     },
     "metadata": {
      "needs_background": "light"
     },
     "output_type": "display_data"
    }
   ],
   "source": [
    "plot_precision_recall_curve(dtc_tuned, x_test, y_test)"
   ]
  },
  {
   "cell_type": "code",
   "execution_count": 75,
   "metadata": {},
   "outputs": [
    {
     "name": "stderr",
     "output_type": "stream",
     "text": [
      "[Parallel(n_jobs=-1)]: Using backend LokyBackend with 8 concurrent workers.\n",
      "[Parallel(n_jobs=-1)]: Done   2 out of   5 | elapsed:    2.7s remaining:    4.0s\n"
     ]
    },
    {
     "name": "stdout",
     "output_type": "stream",
     "text": [
      "DTC TUNED\n",
      "CV Score: [0.94252874 0.91538462 0.92692308 0.89230769 0.89272031]\n",
      "CV Score Mean: 0.9139728853521956\n",
      "CV Score Std: 0.019525315493350986\n"
     ]
    },
    {
     "name": "stderr",
     "output_type": "stream",
     "text": [
      "[Parallel(n_jobs=-1)]: Done   5 out of   5 | elapsed:    4.3s finished\n"
     ]
    }
   ],
   "source": [
    "model_dtc_tn_cv = cross_val_score(dtc_tuned, x_train, y_train, scoring='recall', cv=skfold, n_jobs=-1, verbose=1)\n",
    "print(\"DTC TUNED\")\n",
    "print('CV Score:', model_dtc_tn_cv)\n",
    "print('CV Score Mean:',model_dtc_tn_cv.mean())\n",
    "print('CV Score Std:', model_dtc_tn_cv.std())"
   ]
  },
  {
   "cell_type": "markdown",
   "metadata": {},
   "source": [
    "## With balancing smote"
   ]
  },
  {
   "cell_type": "code",
   "execution_count": 76,
   "metadata": {},
   "outputs": [],
   "source": [
    "balance = SMOTE()\n",
    "all_pipe_dtc = Pipeline([\n",
    "    ('transformer', lr_transformer),\n",
    "    ('rfe', rfe),\n",
    "    ('balance', balance),\n",
    "    ('clf',dtc)\n",
    "])\n",
    "\n",
    "grid_search_dtc_sm = GridSearchCV(\n",
    "    all_pipe_dtc,\n",
    "    param_grid = dtc_hyper_param,\n",
    "    cv = StratifiedKFold(),\n",
    "    scoring = 'recall',\n",
    "    n_jobs = -1,\n",
    "    verbose = 1\n",
    ")"
   ]
  },
  {
   "cell_type": "code",
   "execution_count": 77,
   "metadata": {},
   "outputs": [
    {
     "name": "stdout",
     "output_type": "stream",
     "text": [
      "Fitting 5 folds for each of 360 candidates, totalling 1800 fits\n"
     ]
    },
    {
     "data": {
      "text/plain": [
       "GridSearchCV(cv=StratifiedKFold(n_splits=5, random_state=None, shuffle=False),\n",
       "             estimator=Pipeline(steps=[('transformer',\n",
       "                                        ColumnTransformer(remainder='passthrough',\n",
       "                                                          transformers=[('one_hot',\n",
       "                                                                         OneHotEncoder(drop='first'),\n",
       "                                                                         ['Gender',\n",
       "                                                                          'Marital_Status']),\n",
       "                                                                        ('or_pipe',\n",
       "                                                                         OrdinalEncoder(cols=['Education_Level',\n",
       "                                                                                              'Income_Category',\n",
       "                                                                                              'Card_Category'],\n",
       "                                                                                        mapping=[{'col': 'Educati...\n",
       "                                        DecisionTreeClassifier(class_weight='balanced',\n",
       "                                                               max_depth=10,\n",
       "                                                               min_samples_split=8,\n",
       "                                                               random_state=2021))]),\n",
       "             n_jobs=-1,\n",
       "             param_grid={'clf__class_weight': ['balanced'],\n",
       "                         'clf__criterion': ['gini', 'entropy'],\n",
       "                         'clf__max_depth': [5, 10, 15, 20, 25, 30],\n",
       "                         'clf__min_samples_split': [5, 6, 7, 8, 9, 10],\n",
       "                         'clf__random_state': [2021],\n",
       "                         'rfe__n_features_to_select': [None, 5, 6, 7, 8]},\n",
       "             scoring='recall', verbose=1)"
      ]
     },
     "execution_count": 77,
     "metadata": {},
     "output_type": "execute_result"
    }
   ],
   "source": [
    "grid_search_dtc_sm.fit(x_train,y_train)"
   ]
  },
  {
   "cell_type": "code",
   "execution_count": 78,
   "metadata": {},
   "outputs": [
    {
     "name": "stdout",
     "output_type": "stream",
     "text": [
      "estimator dtc tuned score: 0.89552608311229\n",
      "estimator dtc best params: {'clf__class_weight': 'balanced', 'clf__criterion': 'entropy', 'clf__max_depth': 5, 'clf__min_samples_split': 5, 'clf__random_state': 2021, 'rfe__n_features_to_select': 5}\n"
     ]
    }
   ],
   "source": [
    "print('estimator dtc tuned score:', grid_search_dtc_sm.best_score_)\n",
    "print('estimator dtc best params:', grid_search_dtc_sm.best_params_)"
   ]
  },
  {
   "cell_type": "code",
   "execution_count": 79,
   "metadata": {},
   "outputs": [],
   "source": [
    "dtc_sm = grid_search_dtc_sm.best_estimator_\n",
    "dtc_sm_pred = dtc_sm.predict(x_test)\n",
    "dtc_sm_prob = dtc_sm.predict_proba(x_test)"
   ]
  },
  {
   "cell_type": "code",
   "execution_count": 80,
   "metadata": {},
   "outputs": [
    {
     "name": "stdout",
     "output_type": "stream",
     "text": [
      "              precision    recall  f1-score   support\n",
      "\n",
      "           0       0.97      0.91      0.94      1701\n",
      "           1       0.66      0.85      0.74       325\n",
      "\n",
      "    accuracy                           0.90      2026\n",
      "   macro avg       0.81      0.88      0.84      2026\n",
      "weighted avg       0.92      0.90      0.91      2026\n",
      "\n",
      "Accuracy: 90.42%\n",
      "Recall: 84.92%\n"
     ]
    }
   ],
   "source": [
    "print(classification_report(y_test,dtc_sm_pred))\n",
    "print(\"Accuracy: %.2f%%\" % (accuracy_score(y_test, dtc_sm_pred)*100.0))\n",
    "print(\"Recall: %.2f%%\" % ((recall_score(y_test,dtc_sm_pred))*100.0))"
   ]
  },
  {
   "cell_type": "code",
   "execution_count": 81,
   "metadata": {},
   "outputs": [
    {
     "name": "stdout",
     "output_type": "stream",
     "text": [
      "[[1556  145]\n",
      " [  49  276]]\n"
     ]
    }
   ],
   "source": [
    "tn_dtc_sm, fp_dtc_sm, fn_dtc_sm, tp_dtc_sm = confusion_matrix(y_test,dtc_sm_pred,labels=[0,1]).ravel()\n",
    "print(confusion_matrix(y_test,dtc_sm_pred))"
   ]
  },
  {
   "cell_type": "code",
   "execution_count": 82,
   "metadata": {},
   "outputs": [
    {
     "data": {
      "text/plain": [
       "<sklearn.metrics._plot.confusion_matrix.ConfusionMatrixDisplay at 0x243ed86c820>"
      ]
     },
     "execution_count": 82,
     "metadata": {},
     "output_type": "execute_result"
    },
    {
     "data": {
      "image/png": "[encoded data removed]",
      "text/plain": [
       "<Figure size 432x288 with 2 Axes>"
      ]
     },
     "metadata": {
      "needs_background": "light"
     },
     "output_type": "display_data"
    }
   ],
   "source": [
    "plot_confusion_matrix(dtc_sm, x_test,y_test)\n"
   ]
  },
  {
   "cell_type": "code",
   "execution_count": 83,
   "metadata": {},
   "outputs": [
    {
     "data": {
      "text/plain": [
       "0.8113107070330922"
      ]
     },
     "execution_count": 83,
     "metadata": {},
     "output_type": "execute_result"
    }
   ],
   "source": [
    "pre_dtc_sm, rec_dtc_sm, yht_dtc_sm = precision_recall_curve(y_test,dtc_sm_prob[:,1])\n",
    "dtc_sm_auc = auc(rec_dtc_sm,pre_dtc_sm)\n",
    "dtc_sm_auc"
   ]
  },
  {
   "cell_type": "code",
   "execution_count": 84,
   "metadata": {},
   "outputs": [
    {
     "data": {
      "text/plain": [
       "<sklearn.metrics._plot.precision_recall_curve.PrecisionRecallDisplay at 0x243eb446880>"
      ]
     },
     "execution_count": 84,
     "metadata": {},
     "output_type": "execute_result"
    },
    {
     "data": {
      "image/png": "[encoded data removed]",
      "text/plain": [
       "<Figure size 432x288 with 1 Axes>"
      ]
     },
     "metadata": {
      "needs_background": "light"
     },
     "output_type": "display_data"
    }
   ],
   "source": [
    "plot_precision_recall_curve(dtc_sm,x_test,y_test)"
   ]
  },
  {
   "cell_type": "markdown",
   "metadata": {},
   "source": [
    "model pada dtc tidak mengalami improvement"
   ]
  },
  {
   "cell_type": "code",
   "execution_count": 85,
   "metadata": {},
   "outputs": [
    {
     "name": "stderr",
     "output_type": "stream",
     "text": [
      "[Parallel(n_jobs=-1)]: Using backend LokyBackend with 8 concurrent workers.\n",
      "[Parallel(n_jobs=-1)]: Done   2 out of   5 | elapsed:    3.2s remaining:    4.8s\n"
     ]
    },
    {
     "name": "stdout",
     "output_type": "stream",
     "text": [
      "DTC TUNED SMOTE CV\n",
      "CV Score: [0.89655172 0.89615385 0.94615385 0.85769231 0.88122605]\n",
      "CV Score Mean: 0.8955555555555555\n",
      "CV Score Std: 0.028984469906691842\n"
     ]
    },
    {
     "name": "stderr",
     "output_type": "stream",
     "text": [
      "[Parallel(n_jobs=-1)]: Done   5 out of   5 | elapsed:    5.1s finished\n"
     ]
    }
   ],
   "source": [
    "model_dtc_sm_cv = cross_val_score(dtc_sm, x_train, y_train, scoring='recall', cv=skfold, n_jobs=-1, verbose=1)\n",
    "print(\"DTC TUNED SMOTE CV\")\n",
    "print('CV Score:', model_dtc_sm_cv)\n",
    "print('CV Score Mean:',model_dtc_sm_cv.mean())\n",
    "print('CV Score Std:', model_dtc_sm_cv.std())"
   ]
  },
  {
   "cell_type": "markdown",
   "metadata": {},
   "source": [
    "### DTC Model comparison"
   ]
  },
  {
   "cell_type": "code",
   "execution_count": 86,
   "metadata": {},
   "outputs": [
    {
     "data": {
      "text/html": [
       "<div>\n",
       "<style scoped>\n",
       "    .dataframe tbody tr th:only-of-type {\n",
       "        vertical-align: middle;\n",
       "    }\n",
       "\n",
       "    .dataframe tbody tr th {\n",
       "        vertical-align: top;\n",
       "    }\n",
       "\n",
       "    .dataframe thead th {\n",
       "        text-align: right;\n",
       "    }\n",
       "</style>\n",
       "<table border=\"1\" class=\"dataframe\">\n",
       "  <thead>\n",
       "    <tr style=\"text-align: right;\">\n",
       "      <th></th>\n",
       "      <th>DTC Default</th>\n",
       "      <th>DTC Tuned</th>\n",
       "      <th>DTC Tuned smote</th>\n",
       "    </tr>\n",
       "  </thead>\n",
       "  <tbody>\n",
       "    <tr>\n",
       "      <th>Acuracy Score</th>\n",
       "      <td>0.924482</td>\n",
       "      <td>0.899309</td>\n",
       "      <td>0.904245</td>\n",
       "    </tr>\n",
       "    <tr>\n",
       "      <th>precision Score</th>\n",
       "      <td>0.716080</td>\n",
       "      <td>0.633554</td>\n",
       "      <td>0.655582</td>\n",
       "    </tr>\n",
       "    <tr>\n",
       "      <th>recall score</th>\n",
       "      <td>0.876923</td>\n",
       "      <td>0.883077</td>\n",
       "      <td>0.849231</td>\n",
       "    </tr>\n",
       "    <tr>\n",
       "      <th>AUC</th>\n",
       "      <td>0.822536</td>\n",
       "      <td>0.817971</td>\n",
       "      <td>0.811311</td>\n",
       "    </tr>\n",
       "    <tr>\n",
       "      <th>f1 score</th>\n",
       "      <td>0.788382</td>\n",
       "      <td>0.737789</td>\n",
       "      <td>0.739946</td>\n",
       "    </tr>\n",
       "    <tr>\n",
       "      <th>TP</th>\n",
       "      <td>285.000000</td>\n",
       "      <td>287.000000</td>\n",
       "      <td>276.000000</td>\n",
       "    </tr>\n",
       "    <tr>\n",
       "      <th>TN</th>\n",
       "      <td>1588.000000</td>\n",
       "      <td>1535.000000</td>\n",
       "      <td>1556.000000</td>\n",
       "    </tr>\n",
       "    <tr>\n",
       "      <th>FP</th>\n",
       "      <td>113.000000</td>\n",
       "      <td>166.000000</td>\n",
       "      <td>145.000000</td>\n",
       "    </tr>\n",
       "    <tr>\n",
       "      <th>FN</th>\n",
       "      <td>40.000000</td>\n",
       "      <td>38.000000</td>\n",
       "      <td>49.000000</td>\n",
       "    </tr>\n",
       "  </tbody>\n",
       "</table>\n",
       "</div>"
      ],
      "text/plain": [
       "                 DTC Default    DTC Tuned  DTC Tuned smote\n",
       "Acuracy Score       0.924482     0.899309         0.904245\n",
       "precision Score     0.716080     0.633554         0.655582\n",
       "recall score        0.876923     0.883077         0.849231\n",
       "AUC                 0.822536     0.817971         0.811311\n",
       "f1 score            0.788382     0.737789         0.739946\n",
       "TP                285.000000   287.000000       276.000000\n",
       "TN               1588.000000  1535.000000      1556.000000\n",
       "FP                113.000000   166.000000       145.000000\n",
       "FN                 40.000000    38.000000        49.000000"
      ]
     },
     "execution_count": 86,
     "metadata": {},
     "output_type": "execute_result"
    }
   ],
   "source": [
    "dtc_comparison = pd.DataFrame({\n",
    "    \"DTC Default\":[accuracy_score(y_test,dtc_pred),precision_score(y_test,dtc_pred),recall_score(y_test,dtc_pred),auc_dtc,f1_score(y_test,dtc_pred),\n",
    "                tp_dtc,tn_dtc,fp_dtc,fn_dtc],\n",
    "    \"DTC Tuned\":[accuracy_score(y_test,dtc_tuned_pred),precision_score(y_test,dtc_tuned_pred),recall_score(y_test,dtc_tuned_pred),dtc_tune_auc,f1_score(y_test,dtc_tuned_pred),\n",
    "                tp_dtc_tune,tn_dtc_tune,fp_dtc_tune,fn_dtc_tune],\n",
    "    \"DTC Tuned smote\":[accuracy_score(y_test,dtc_sm_pred),precision_score(y_test,dtc_sm_pred),recall_score(y_test,dtc_sm_pred),dtc_sm_auc,f1_score(y_test,dtc_sm_pred),\n",
    "                tp_dtc_sm,tn_dtc_sm,fp_dtc_sm,fn_dtc_sm],\n",
    "\n",
    "},index = ['Acuracy Score','precision Score','recall score','AUC','f1 score','TP','TN','FP','FN'])\n",
    "dtc_comparison"
   ]
  },
  {
   "cell_type": "code",
   "execution_count": 87,
   "metadata": {},
   "outputs": [
    {
     "name": "stdout",
     "output_type": "stream",
     "text": [
      "<sklearn.metrics._plot.precision_recall_curve.PrecisionRecallDisplay object at 0x00000243ED77BAC0>\n",
      "<sklearn.metrics._plot.precision_recall_curve.PrecisionRecallDisplay object at 0x00000243ED9AE1C0>\n"
     ]
    },
    {
     "data": {
      "image/png": "[encoded data removed]",
      "text/plain": [
       "<Figure size 432x288 with 1 Axes>"
      ]
     },
     "metadata": {
      "needs_background": "light"
     },
     "output_type": "display_data"
    },
    {
     "data": {
      "image/png": "[encoded data removed]",
      "text/plain": [
       "<Figure size 432x288 with 1 Axes>"
      ]
     },
     "metadata": {
      "needs_background": "light"
     },
     "output_type": "display_data"
    }
   ],
   "source": [
    "# print(plot_precision_recall_curve(all_pipe_dtc, x_test, y_test))\n",
    "print(plot_precision_recall_curve(dtc_tuned, x_test, y_test))\n",
    "print(plot_precision_recall_curve(dtc_sm,x_test,y_test))"
   ]
  },
  {
   "cell_type": "markdown",
   "metadata": {},
   "source": [
    "# KNN"
   ]
  },
  {
   "cell_type": "code",
   "execution_count": 88,
   "metadata": {},
   "outputs": [
    {
     "data": {
      "text/plain": [
       "KNeighborsClassifier()"
      ]
     },
     "execution_count": 88,
     "metadata": {},
     "output_type": "execute_result"
    }
   ],
   "source": [
    "knn = KNeighborsClassifier()\n",
    "knn"
   ]
  },
  {
   "cell_type": "markdown",
   "metadata": {},
   "source": [
    "## KNN Pipeline"
   ]
  },
  {
   "cell_type": "code",
   "execution_count": 89,
   "metadata": {},
   "outputs": [],
   "source": [
    "## Object column\n",
    "# lr_pipe_obj = Pipeline([\n",
    "\n",
    "#     ('onehot', OneHotEncoder(drop='first')),\n",
    "# ])\n",
    "# Mapping column\n",
    "ordinal_mapping = [\n",
    "    {\n",
    "        'col':'Education_Level',\n",
    "        'mapping':{'Unknown':0,'Uneducated':1,'High School':2,'College':3,'Graduate':4,'Post-Graduate':5,'Doctorate':6}\n",
    "    },\n",
    "    {\n",
    "        'col':'Income_Category',\n",
    "        'mapping':{'Unknown':0,'Less than $40K':1, '$40K - $60K':2,'$60K - $80K':3,'$80K - $120K':4,'$120K +':5}\n",
    "    },\n",
    "    {\n",
    "        'col':'Card_Category',\n",
    "        'mapping':{'Blue':1,'Silver':2,'Gold':3,'Platinum':4}\n",
    "    }\n",
    "]\n",
    "\n",
    "ordinal_encoder = ce.OrdinalEncoder(cols = ['Education_Level','Income_Category','Card_Category'],mapping= ordinal_mapping)\n",
    "\n",
    "# Column Transfo\n",
    "# scaling column pur numweric\n",
    "knn_transformer = ColumnTransformer([\n",
    "    ('one_hot', OneHotEncoder(drop='first'),['Gender','Marital_Status']),\n",
    "    ('or_pipe', ordinal_encoder, ['Education_Level','Income_Category','Card_Category']),\n",
    "    ('scale',RobustScaler(),[ 'Customer_Age', 'Dependent_count',\n",
    "       'Months_on_book', 'Total_Relationship_Count', 'Months_Inactive_12_mon',\n",
    "       'Contacts_Count_12_mon', 'Credit_Limit', 'Total_Revolving_Bal',\n",
    "       'Avg_Open_To_Buy', 'Total_Amt_Chng_Q4_Q1', 'Total_Trans_Amt',\n",
    "       'Total_Trans_Ct', 'Total_Ct_Chng_Q4_Q1', 'Avg_Utilization_Ratio'])\n",
    "], remainder='passthrough')\n",
    "\n",
    "\n",
    "knn = KNeighborsClassifier(n_neighbors=5)\n",
    "balance = SMOTE()\n",
    "\n",
    "knn_all_pipe = Pipeline([\n",
    "    ('transformer', knn_transformer),\n",
    "    ('balance', balance),\n",
    "    ('clf',knn)\n",
    "])"
   ]
  },
  {
   "cell_type": "code",
   "execution_count": 90,
   "metadata": {},
   "outputs": [
    {
     "data": {
      "text/plain": [
       "Pipeline(steps=[('transformer',\n",
       "                 ColumnTransformer(remainder='passthrough',\n",
       "                                   transformers=[('one_hot',\n",
       "                                                  OneHotEncoder(drop='first'),\n",
       "                                                  ['Gender', 'Marital_Status']),\n",
       "                                                 ('or_pipe',\n",
       "                                                  OrdinalEncoder(cols=['Education_Level',\n",
       "                                                                       'Income_Category',\n",
       "                                                                       'Card_Category'],\n",
       "                                                                 mapping=[{'col': 'Education_Level',\n",
       "                                                                           'mapping': {'College': 3,\n",
       "                                                                                       'Doctorate': 6,\n",
       "                                                                                       'Graduate': 4,\n",
       "                                                                                       'High School': 2,\n",
       "                                                                                       'Post-Gradu...\n",
       "                                                 ('scale', RobustScaler(),\n",
       "                                                  ['Customer_Age',\n",
       "                                                   'Dependent_count',\n",
       "                                                   'Months_on_book',\n",
       "                                                   'Total_Relationship_Count',\n",
       "                                                   'Months_Inactive_12_mon',\n",
       "                                                   'Contacts_Count_12_mon',\n",
       "                                                   'Credit_Limit',\n",
       "                                                   'Total_Revolving_Bal',\n",
       "                                                   'Avg_Open_To_Buy',\n",
       "                                                   'Total_Amt_Chng_Q4_Q1',\n",
       "                                                   'Total_Trans_Amt',\n",
       "                                                   'Total_Trans_Ct',\n",
       "                                                   'Total_Ct_Chng_Q4_Q1',\n",
       "                                                   'Avg_Utilization_Ratio'])])),\n",
       "                ('balance', SMOTE()), ('clf', KNeighborsClassifier())])"
      ]
     },
     "execution_count": 90,
     "metadata": {},
     "output_type": "execute_result"
    }
   ],
   "source": [
    "knn_all_pipe.fit(x_train,y_train)"
   ]
  },
  {
   "cell_type": "code",
   "execution_count": 91,
   "metadata": {},
   "outputs": [],
   "source": [
    "knn_pred = knn_all_pipe.predict(x_test)\n",
    "knn_prob = knn_all_pipe.predict_proba(x_test)"
   ]
  },
  {
   "cell_type": "code",
   "execution_count": 92,
   "metadata": {},
   "outputs": [
    {
     "name": "stdout",
     "output_type": "stream",
     "text": [
      "              precision    recall  f1-score   support\n",
      "\n",
      "           0       0.96      0.86      0.91      1701\n",
      "           1       0.54      0.83      0.65       325\n",
      "\n",
      "    accuracy                           0.86      2026\n",
      "   macro avg       0.75      0.85      0.78      2026\n",
      "weighted avg       0.89      0.86      0.87      2026\n",
      "\n",
      "Accuracy: 85.78%\n",
      "Recall: 82.77%\n"
     ]
    }
   ],
   "source": [
    "print(classification_report(y_test,knn_pred))\n",
    "print(\"Accuracy: %.2f%%\" % (accuracy_score(y_test, knn_pred)*100.0))\n",
    "print(\"Recall: %.2f%%\" % ((recall_score(y_test,knn_pred))*100.0))"
   ]
  },
  {
   "cell_type": "code",
   "execution_count": 93,
   "metadata": {},
   "outputs": [
    {
     "name": "stdout",
     "output_type": "stream",
     "text": [
      "[[1469  232]\n",
      " [  56  269]]\n"
     ]
    }
   ],
   "source": [
    "tn_knn, fp_knn, fn_knn, tp_knn = confusion_matrix(y_test,knn_pred,labels=[0,1]).ravel()\n",
    "print(confusion_matrix(y_test,knn_pred))"
   ]
  },
  {
   "cell_type": "code",
   "execution_count": 94,
   "metadata": {},
   "outputs": [
    {
     "data": {
      "text/plain": [
       "<sklearn.metrics._plot.confusion_matrix.ConfusionMatrixDisplay at 0x243ee2cfc10>"
      ]
     },
     "execution_count": 94,
     "metadata": {},
     "output_type": "execute_result"
    },
    {
     "data": {
      "image/png": "[encoded data removed]",
      "text/plain": [
       "<Figure size 432x288 with 2 Axes>"
      ]
     },
     "metadata": {
      "needs_background": "light"
     },
     "output_type": "display_data"
    }
   ],
   "source": [
    "plot_confusion_matrix(knn_all_pipe, x_test,y_test)"
   ]
  },
  {
   "cell_type": "code",
   "execution_count": 95,
   "metadata": {},
   "outputs": [
    {
     "data": {
      "text/plain": [
       "0.7032254872025698"
      ]
     },
     "execution_count": 95,
     "metadata": {},
     "output_type": "execute_result"
    }
   ],
   "source": [
    "pre_knn, rec_knn, thr_knn = precision_recall_curve(y_test,knn_prob[:,1])\n",
    "knn_auc = auc(rec_knn,pre_knn)\n",
    "knn_auc"
   ]
  },
  {
   "cell_type": "code",
   "execution_count": 96,
   "metadata": {},
   "outputs": [
    {
     "data": {
      "text/plain": [
       "<sklearn.metrics._plot.precision_recall_curve.PrecisionRecallDisplay at 0x243ed77b8e0>"
      ]
     },
     "execution_count": 96,
     "metadata": {},
     "output_type": "execute_result"
    },
    {
     "data": {
      "image/png": "[encoded data removed]",
      "text/plain": [
       "<Figure size 432x288 with 1 Axes>"
      ]
     },
     "metadata": {
      "needs_background": "light"
     },
     "output_type": "display_data"
    }
   ],
   "source": [
    "plot_precision_recall_curve(knn_all_pipe,x_test,y_test)"
   ]
  },
  {
   "cell_type": "code",
   "execution_count": 97,
   "metadata": {},
   "outputs": [
    {
     "name": "stderr",
     "output_type": "stream",
     "text": [
      "[Parallel(n_jobs=-1)]: Using backend LokyBackend with 8 concurrent workers.\n",
      "[Parallel(n_jobs=-1)]: Done   2 out of   5 | elapsed:    4.3s remaining:    6.5s\n",
      "[Parallel(n_jobs=-1)]: Done   5 out of   5 | elapsed:    4.6s finished\n"
     ]
    },
    {
     "name": "stdout",
     "output_type": "stream",
     "text": [
      "KNN CV\n",
      "CV Score: [0.82758621 0.88076923 0.89615385 0.83076923 0.80076628]\n",
      "CV Score Mean: 0.8472089596227527\n",
      "CV Score Std: 0.03559250760884195\n"
     ]
    }
   ],
   "source": [
    "model_knn_cv = cross_val_score(knn_all_pipe, x_train, y_train, scoring='recall', cv=skfold, n_jobs=-1, verbose=1)\n",
    "print(\"KNN CV\")\n",
    "print('CV Score:', model_knn_cv)\n",
    "print('CV Score Mean:', model_knn_cv.mean())\n",
    "print('CV Score Std:', model_knn_cv.std())"
   ]
  },
  {
   "cell_type": "markdown",
   "metadata": {},
   "source": [
    "## KNN Tuned"
   ]
  },
  {
   "cell_type": "code",
   "execution_count": 98,
   "metadata": {},
   "outputs": [],
   "source": [
    "skfold = StratifiedKFold(n_splits=5)\n",
    "leaf_size = list(range(1,50))\n",
    "n_neighbors = list(range(1,30))\n",
    "p=[1,2]\n",
    "knn_hyper_param = {\n",
    "    'clf__n_neighbors':[1,2,3,4,5,6,7,8,9,10],\n",
    "    'clf__leaf_size':[1,2,3,5,6,7,8],\n",
    "    'clf__weights':['uniform', 'distance'],\n",
    "    'clf__algorithm':['auto', 'ball_tree','kd_tree','brute']   \n",
    "}\n",
    "\n",
    "grid_search_knn = GridSearchCV(\n",
    "    knn_all_pipe,\n",
    "    param_grid = knn_hyper_param,\n",
    "    cv = skfold,\n",
    "    scoring='recall',\n",
    "    n_jobs = -1,\n",
    "    verbose = 1\n",
    ")"
   ]
  },
  {
   "cell_type": "code",
   "execution_count": 99,
   "metadata": {},
   "outputs": [
    {
     "name": "stdout",
     "output_type": "stream",
     "text": [
      "Fitting 5 folds for each of 560 candidates, totalling 2800 fits\n"
     ]
    },
    {
     "data": {
      "text/plain": [
       "GridSearchCV(cv=StratifiedKFold(n_splits=5, random_state=None, shuffle=False),\n",
       "             estimator=Pipeline(steps=[('transformer',\n",
       "                                        ColumnTransformer(remainder='passthrough',\n",
       "                                                          transformers=[('one_hot',\n",
       "                                                                         OneHotEncoder(drop='first'),\n",
       "                                                                         ['Gender',\n",
       "                                                                          'Marital_Status']),\n",
       "                                                                        ('or_pipe',\n",
       "                                                                         OrdinalEncoder(cols=['Education_Level',\n",
       "                                                                                              'Income_Category',\n",
       "                                                                                              'Card_Category'],\n",
       "                                                                                        mapping=[{'col': 'Educati...\n",
       "                                                                          'Total_Trans_Amt',\n",
       "                                                                          'Total_Trans_Ct',\n",
       "                                                                          'Total_Ct_Chng_Q4_Q1',\n",
       "                                                                          'Avg_Utilization_Ratio'])])),\n",
       "                                       ('balance', SMOTE()),\n",
       "                                       ('clf', KNeighborsClassifier())]),\n",
       "             n_jobs=-1,\n",
       "             param_grid={'clf__algorithm': ['auto', 'ball_tree', 'kd_tree',\n",
       "                                            'brute'],\n",
       "                         'clf__leaf_size': [1, 2, 3, 5, 6, 7, 8],\n",
       "                         'clf__n_neighbors': [1, 2, 3, 4, 5, 6, 7, 8, 9, 10],\n",
       "                         'clf__weights': ['uniform', 'distance']},\n",
       "             scoring='recall', verbose=1)"
      ]
     },
     "execution_count": 99,
     "metadata": {},
     "output_type": "execute_result"
    }
   ],
   "source": [
    "grid_search_knn.fit(x_train,y_train)"
   ]
  },
  {
   "cell_type": "code",
   "execution_count": 100,
   "metadata": {},
   "outputs": [],
   "source": [
    "knn_tuned = grid_search_knn.best_estimator_\n",
    "knn_pred_tn = knn_tuned.predict(x_test)\n",
    "knn_prob_tn = knn_tuned.predict_proba(x_test)"
   ]
  },
  {
   "cell_type": "code",
   "execution_count": 101,
   "metadata": {},
   "outputs": [
    {
     "name": "stdout",
     "output_type": "stream",
     "text": [
      "              precision    recall  f1-score   support\n",
      "\n",
      "           0       0.96      0.86      0.91      1701\n",
      "           1       0.54      0.83      0.65       325\n",
      "\n",
      "    accuracy                           0.86      2026\n",
      "   macro avg       0.75      0.85      0.78      2026\n",
      "weighted avg       0.89      0.86      0.87      2026\n",
      "\n",
      "Accuracy: 85.78%\n",
      "Recall: 82.77%\n"
     ]
    }
   ],
   "source": [
    "print(classification_report(y_test,knn_pred))\n",
    "print(\"Accuracy: %.2f%%\" % (accuracy_score(y_test, knn_pred)*100.0))\n",
    "print(\"Recall: %.2f%%\" % ((recall_score(y_test,knn_pred))*100.0))"
   ]
  },
  {
   "cell_type": "code",
   "execution_count": 102,
   "metadata": {},
   "outputs": [
    {
     "data": {
      "text/plain": [
       "array([[1437,  264],\n",
       "       [  47,  278]], dtype=int64)"
      ]
     },
     "execution_count": 102,
     "metadata": {},
     "output_type": "execute_result"
    }
   ],
   "source": [
    "tn_knn_tn, fp_knn_tn, fn_knn_tn,  tp_knn_tn = confusion_matrix(y_test,knn_pred_tn, labels=[0,1]).ravel()\n",
    "(confusion_matrix(y_test,knn_pred_tn))"
   ]
  },
  {
   "cell_type": "code",
   "execution_count": 103,
   "metadata": {},
   "outputs": [
    {
     "data": {
      "text/plain": [
       "<sklearn.metrics._plot.confusion_matrix.ConfusionMatrixDisplay at 0x243ec21c310>"
      ]
     },
     "execution_count": 103,
     "metadata": {},
     "output_type": "execute_result"
    },
    {
     "data": {
      "image/png": "[encoded data removed]",
      "text/plain": [
       "<Figure size 432x288 with 2 Axes>"
      ]
     },
     "metadata": {
      "needs_background": "light"
     },
     "output_type": "display_data"
    }
   ],
   "source": [
    "plot_confusion_matrix(knn_tuned,x_test,y_test)"
   ]
  },
  {
   "cell_type": "code",
   "execution_count": 104,
   "metadata": {},
   "outputs": [
    {
     "data": {
      "text/plain": [
       "0.7032254872025698"
      ]
     },
     "execution_count": 104,
     "metadata": {},
     "output_type": "execute_result"
    }
   ],
   "source": [
    "pre_knn_tn, rec_knn_tn, thr_knn_tn = precision_recall_curve(y_test,knn_prob[:,1])\n",
    "knn_auc = auc(rec_knn_tn,pre_knn_tn)\n",
    "knn_auc"
   ]
  },
  {
   "cell_type": "code",
   "execution_count": 105,
   "metadata": {},
   "outputs": [
    {
     "data": {
      "text/plain": [
       "<sklearn.metrics._plot.precision_recall_curve.PrecisionRecallDisplay at 0x243ed7f5ac0>"
      ]
     },
     "execution_count": 105,
     "metadata": {},
     "output_type": "execute_result"
    },
    {
     "data": {
      "image/png": "[encoded data removed]",
      "text/plain": [
       "<Figure size 432x288 with 1 Axes>"
      ]
     },
     "metadata": {
      "needs_background": "light"
     },
     "output_type": "display_data"
    }
   ],
   "source": [
    "plot_precision_recall_curve(knn_tuned,x_test,y_test)"
   ]
  },
  {
   "cell_type": "code",
   "execution_count": 107,
   "metadata": {},
   "outputs": [
    {
     "name": "stderr",
     "output_type": "stream",
     "text": [
      "[Parallel(n_jobs=-1)]: Using backend LokyBackend with 8 concurrent workers.\n",
      "[Parallel(n_jobs=-1)]: Done   2 out of   5 | elapsed:   26.6s remaining:   40.0s\n"
     ]
    },
    {
     "name": "stdout",
     "output_type": "stream",
     "text": [
      "KNN TUNED CV\n",
      "CV Score: [0.85440613 0.93076923 0.89230769 0.83846154 0.84291188]\n",
      "CV Score Mean: 0.8717712938402593\n",
      "CV Score Std: 0.03506124598682887\n"
     ]
    },
    {
     "name": "stderr",
     "output_type": "stream",
     "text": [
      "[Parallel(n_jobs=-1)]: Done   5 out of   5 | elapsed:   27.3s finished\n"
     ]
    }
   ],
   "source": [
    "model_knn_tn_cv = cross_val_score(knn_tuned, x_train, y_train, scoring='recall', cv=skfold, n_jobs=-1, verbose=1)\n",
    "print(\"KNN TUNED CV\")\n",
    "print('CV Score:', model_knn_tn_cv)\n",
    "print('CV Score Mean:',model_knn_tn_cv.mean())\n",
    "print('CV Score Std:', model_knn_tn_cv.std())"
   ]
  },
  {
   "cell_type": "markdown",
   "metadata": {},
   "source": [
    "## Model Compare"
   ]
  },
  {
   "cell_type": "code",
   "execution_count": 108,
   "metadata": {},
   "outputs": [
    {
     "data": {
      "text/html": [
       "<div>\n",
       "<style scoped>\n",
       "    .dataframe tbody tr th:only-of-type {\n",
       "        vertical-align: middle;\n",
       "    }\n",
       "\n",
       "    .dataframe tbody tr th {\n",
       "        vertical-align: top;\n",
       "    }\n",
       "\n",
       "    .dataframe thead th {\n",
       "        text-align: right;\n",
       "    }\n",
       "</style>\n",
       "<table border=\"1\" class=\"dataframe\">\n",
       "  <thead>\n",
       "    <tr style=\"text-align: right;\">\n",
       "      <th></th>\n",
       "      <th>KNN Default</th>\n",
       "      <th>KNN Tuned</th>\n",
       "    </tr>\n",
       "  </thead>\n",
       "  <tbody>\n",
       "    <tr>\n",
       "      <th>Acuracy Score</th>\n",
       "      <td>0.857848</td>\n",
       "      <td>0.846496</td>\n",
       "    </tr>\n",
       "    <tr>\n",
       "      <th>precision Score</th>\n",
       "      <td>0.536926</td>\n",
       "      <td>0.512915</td>\n",
       "    </tr>\n",
       "    <tr>\n",
       "      <th>recall score</th>\n",
       "      <td>0.827692</td>\n",
       "      <td>0.855385</td>\n",
       "    </tr>\n",
       "    <tr>\n",
       "      <th>AUC</th>\n",
       "      <td>0.822536</td>\n",
       "      <td>0.822536</td>\n",
       "    </tr>\n",
       "    <tr>\n",
       "      <th>f1 score</th>\n",
       "      <td>0.651332</td>\n",
       "      <td>0.641292</td>\n",
       "    </tr>\n",
       "    <tr>\n",
       "      <th>TP</th>\n",
       "      <td>269.000000</td>\n",
       "      <td>278.000000</td>\n",
       "    </tr>\n",
       "    <tr>\n",
       "      <th>TN</th>\n",
       "      <td>1469.000000</td>\n",
       "      <td>1437.000000</td>\n",
       "    </tr>\n",
       "    <tr>\n",
       "      <th>FP</th>\n",
       "      <td>232.000000</td>\n",
       "      <td>264.000000</td>\n",
       "    </tr>\n",
       "    <tr>\n",
       "      <th>FN</th>\n",
       "      <td>56.000000</td>\n",
       "      <td>47.000000</td>\n",
       "    </tr>\n",
       "  </tbody>\n",
       "</table>\n",
       "</div>"
      ],
      "text/plain": [
       "                 KNN Default    KNN Tuned\n",
       "Acuracy Score       0.857848     0.846496\n",
       "precision Score     0.536926     0.512915\n",
       "recall score        0.827692     0.855385\n",
       "AUC                 0.822536     0.822536\n",
       "f1 score            0.651332     0.641292\n",
       "TP                269.000000   278.000000\n",
       "TN               1469.000000  1437.000000\n",
       "FP                232.000000   264.000000\n",
       "FN                 56.000000    47.000000"
      ]
     },
     "execution_count": 108,
     "metadata": {},
     "output_type": "execute_result"
    }
   ],
   "source": [
    "dtc_comparison = pd.DataFrame({\n",
    "    \"KNN Default\":[accuracy_score(y_test,knn_pred),precision_score(y_test,knn_pred),recall_score(y_test,knn_pred),auc_dtc,f1_score(y_test,knn_pred),\n",
    "                tp_knn,tn_knn,fp_knn,fn_knn],\n",
    "    \"KNN Tuned\":[accuracy_score(y_test,knn_pred_tn),precision_score(y_test,knn_pred_tn),recall_score(y_test,knn_pred_tn),auc_dtc,f1_score(y_test,knn_pred_tn),\n",
    "                tp_knn_tn,tn_knn_tn,fp_knn_tn,fn_knn_tn]\n",
    "\n",
    "},index = ['Acuracy Score','precision Score','recall score','AUC','f1 score','TP','TN','FP','FN'])\n",
    "dtc_comparison"
   ]
  },
  {
   "cell_type": "code",
   "execution_count": 109,
   "metadata": {},
   "outputs": [
    {
     "name": "stdout",
     "output_type": "stream",
     "text": [
      "<sklearn.metrics._plot.precision_recall_curve.PrecisionRecallDisplay object at 0x00000243ED6649D0>\n",
      "<sklearn.metrics._plot.precision_recall_curve.PrecisionRecallDisplay object at 0x00000243EBFE8D30>\n"
     ]
    },
    {
     "data": {
      "image/png": "[encoded data removed]",
      "text/plain": [
       "<Figure size 432x288 with 1 Axes>"
      ]
     },
     "metadata": {
      "needs_background": "light"
     },
     "output_type": "display_data"
    },
    {
     "data": {
      "image/png": "[encoded data removed]",
      "text/plain": [
       "<Figure size 432x288 with 1 Axes>"
      ]
     },
     "metadata": {
      "needs_background": "light"
     },
     "output_type": "display_data"
    }
   ],
   "source": [
    "print(plot_precision_recall_curve(knn_all_pipe,x_test,y_test))\n",
    "print(plot_precision_recall_curve(knn_tuned,x_test,y_test))"
   ]
  },
  {
   "cell_type": "code",
   "execution_count": null,
   "metadata": {},
   "outputs": [],
   "source": []
  },
  {
   "cell_type": "markdown",
   "metadata": {},
   "source": [
    "## Random Forest"
   ]
  },
  {
   "cell_type": "code",
   "execution_count": 110,
   "metadata": {},
   "outputs": [],
   "source": [
    "rf = RandomForestClassifier()"
   ]
  },
  {
   "cell_type": "markdown",
   "metadata": {},
   "source": [
    "## Random Foresst PipeLine"
   ]
  },
  {
   "cell_type": "markdown",
   "metadata": {},
   "source": [
    "karena random forest bukan merupakan distance based maka tidak di perlukan scaling pada model ini dan juga tidak mengunakan one hot encoder"
   ]
  },
  {
   "cell_type": "code",
   "execution_count": 22,
   "metadata": {},
   "outputs": [],
   "source": [
    "ordinal_mapping = [\n",
    "    {\n",
    "        'col':'Education_Level',\n",
    "        'mapping':{'Unknown':0,'Uneducated':1,'High School':2,'College':3,'Graduate':4,'Post-Graduate':5,'Doctorate':6}\n",
    "    },\n",
    "    {\n",
    "        'col':'Income_Category',\n",
    "        'mapping':{'Unknown':0,'Less than $40K':1, '$40K - $60K':2,'$60K - $80K':3,'$80K - $120K':4,'$120K +':5}\n",
    "    },\n",
    "    {\n",
    "        'col':'Card_Category',\n",
    "        'mapping':{'Blue':1,'Silver':2,'Gold':3,'Platinum':4}\n",
    "    }\n",
    "]\n",
    "\n",
    "ordinal_encoder = ce.OrdinalEncoder(cols = ['Education_Level','Income_Category','Card_Category'],mapping= ordinal_mapping)\n",
    "\n",
    "# Column Transfo\n",
    "# scaling column pur numweric\n",
    "rf_transformer = ColumnTransformer([\n",
    "    ('binary',ce.BinaryEncoder(),['Gender','Marital_Status']),\n",
    "    ('or_pipe', ordinal_encoder, ['Education_Level','Income_Category','Card_Category'])\n",
    "], remainder='passthrough')\n",
    "\n",
    "skfold = StratifiedKFold(n_splits=5)\n",
    "rf = RandomForestClassifier(bootstrap=True, criterion='gini',max_depth=20,min_samples_split=10, n_estimators=200)\n",
    "rfe = RFE(estimator=rf)\n",
    "\n",
    "\n",
    "all_pipe_rf = Pipeline([\n",
    "    ('transformer', rf_transformer),\n",
    "    ('rfe', rfe),\n",
    "    ('clf',rf)\n",
    "])"
   ]
  },
  {
   "cell_type": "code",
   "execution_count": 112,
   "metadata": {},
   "outputs": [
    {
     "data": {
      "text/plain": [
       "Pipeline(steps=[('transformer',\n",
       "                 ColumnTransformer(remainder='passthrough',\n",
       "                                   transformers=[('binary', BinaryEncoder(),\n",
       "                                                  ['Gender', 'Marital_Status']),\n",
       "                                                 ('or_pipe',\n",
       "                                                  OrdinalEncoder(cols=['Education_Level',\n",
       "                                                                       'Income_Category',\n",
       "                                                                       'Card_Category'],\n",
       "                                                                 mapping=[{'col': 'Education_Level',\n",
       "                                                                           'mapping': {'College': 3,\n",
       "                                                                                       'Doctorate': 6,\n",
       "                                                                                       'Graduate': 4,\n",
       "                                                                                       'High School': 2,\n",
       "                                                                                       'Post-Graduate': 5,\n",
       "                                                                                       'Unedu...\n",
       "                                                                                       'Less than $40K': 1,\n",
       "                                                                                       'Unknown': 0}},\n",
       "                                                                          {'col': 'Card_Category',\n",
       "                                                                           'mapping': {'Blue': 1,\n",
       "                                                                                       'Gold': 3,\n",
       "                                                                                       'Platinum': 4,\n",
       "                                                                                       'Silver': 2}}]),\n",
       "                                                  ['Education_Level',\n",
       "                                                   'Income_Category',\n",
       "                                                   'Card_Category'])])),\n",
       "                ('rfe',\n",
       "                 RFE(estimator=RandomForestClassifier(max_depth=20,\n",
       "                                                      min_samples_split=10,\n",
       "                                                      n_estimators=200))),\n",
       "                ('clf',\n",
       "                 RandomForestClassifier(max_depth=20, min_samples_split=10,\n",
       "                                        n_estimators=200))])"
      ]
     },
     "execution_count": 112,
     "metadata": {},
     "output_type": "execute_result"
    }
   ],
   "source": [
    "all_pipe_rf.fit(x_train,y_train)"
   ]
  },
  {
   "cell_type": "code",
   "execution_count": 46,
   "metadata": {},
   "outputs": [],
   "source": [
    "rf_pred = all_pipe_rf.predict(x_test)\n",
    "rf_prob = all_pipe_rf.predict_proba(x_test)"
   ]
  },
  {
   "cell_type": "code",
   "execution_count": null,
   "metadata": {},
   "outputs": [],
   "source": []
  },
  {
   "cell_type": "code",
   "execution_count": 114,
   "metadata": {},
   "outputs": [
    {
     "name": "stdout",
     "output_type": "stream",
     "text": [
      "              precision    recall  f1-score   support\n",
      "\n",
      "           0       0.97      0.99      0.98      1701\n",
      "           1       0.93      0.83      0.87       325\n",
      "\n",
      "    accuracy                           0.96      2026\n",
      "   macro avg       0.95      0.91      0.93      2026\n",
      "weighted avg       0.96      0.96      0.96      2026\n",
      "\n",
      "Accuracy: 96.20%\n",
      "Recall: 82.77%\n"
     ]
    }
   ],
   "source": [
    "print(classification_report(y_test,rf_pred))\n",
    "print('Accuracy: %.2f%%' % (accuracy_score(y_test, rf_pred)*100.0))\n",
    "print('Recall: %.2f%%' % (recall_score(y_test, rf_pred)*100.0))"
   ]
  },
  {
   "cell_type": "code",
   "execution_count": null,
   "metadata": {},
   "outputs": [],
   "source": []
  },
  {
   "cell_type": "code",
   "execution_count": 48,
   "metadata": {},
   "outputs": [
    {
     "data": {
      "text/plain": [
       "<sklearn.metrics._plot.confusion_matrix.ConfusionMatrixDisplay at 0x17357305af0>"
      ]
     },
     "execution_count": 48,
     "metadata": {},
     "output_type": "execute_result"
    },
    {
     "data": {
      "image/png": "[encoded data removed]",
      "text/plain": [
       "<Figure size 432x288 with 2 Axes>"
      ]
     },
     "metadata": {
      "needs_background": "light"
     },
     "output_type": "display_data"
    }
   ],
   "source": [
    "tn_rf, fp_rf, fn_rf, tp_rf = confusion_matrix(y_test, rf_pred, labels=[0,1]).ravel()\n",
    "plot_confusion_matrix(all_pipe_rf,x_test,y_test)"
   ]
  },
  {
   "cell_type": "code",
   "execution_count": 49,
   "metadata": {},
   "outputs": [
    {
     "data": {
      "text/plain": [
       "0.9483094771336928"
      ]
     },
     "execution_count": 49,
     "metadata": {},
     "output_type": "execute_result"
    }
   ],
   "source": [
    "prec_rf, rec_rf, thr_rf = precision_recall_curve(y_test,rf_prob[:,1])\n",
    "auc_rf = auc(rec_rf,prec_rf)\n",
    "auc_rf"
   ]
  },
  {
   "cell_type": "code",
   "execution_count": 117,
   "metadata": {},
   "outputs": [
    {
     "data": {
      "text/plain": [
       "<sklearn.metrics._plot.precision_recall_curve.PrecisionRecallDisplay at 0x243ed9859d0>"
      ]
     },
     "execution_count": 117,
     "metadata": {},
     "output_type": "execute_result"
    },
    {
     "data": {
      "image/png": "[encoded data removed]",
      "text/plain": [
       "<Figure size 432x288 with 1 Axes>"
      ]
     },
     "metadata": {
      "needs_background": "light"
     },
     "output_type": "display_data"
    }
   ],
   "source": [
    "plot_precision_recall_curve(all_pipe_rf,x_test,y_test)"
   ]
  },
  {
   "cell_type": "code",
   "execution_count": 118,
   "metadata": {},
   "outputs": [
    {
     "data": {
      "text/plain": [
       "StratifiedKFold(n_splits=5, random_state=None, shuffle=False)"
      ]
     },
     "execution_count": 118,
     "metadata": {},
     "output_type": "execute_result"
    }
   ],
   "source": [
    "skfold"
   ]
  },
  {
   "cell_type": "code",
   "execution_count": 119,
   "metadata": {},
   "outputs": [
    {
     "name": "stderr",
     "output_type": "stream",
     "text": [
      "[Parallel(n_jobs=-1)]: Using backend LokyBackend with 8 concurrent workers.\n",
      "[Parallel(n_jobs=-1)]: Done   2 out of   5 | elapsed:  2.4min remaining:  3.7min\n"
     ]
    },
    {
     "name": "stdout",
     "output_type": "stream",
     "text": [
      "Random Forest CV\n",
      "CV Score: [0.84291188 0.85       0.85       0.77307692 0.78927203]\n",
      "CV Score Mean: 0.82105216622458\n",
      "CV Score Std: 0.0330617667560196\n"
     ]
    },
    {
     "name": "stderr",
     "output_type": "stream",
     "text": [
      "[Parallel(n_jobs=-1)]: Done   5 out of   5 | elapsed:  4.0min finished\n"
     ]
    }
   ],
   "source": [
    "skfold = StratifiedKFold(n_splits=5)\n",
    "model_rf_cv = cross_val_score(all_pipe_rf, x_train, y_train, scoring='recall', cv=skfold, n_jobs=-1, verbose=1)\n",
    "print(\"Random Forest CV\")\n",
    "print('CV Score:', model_rf_cv)\n",
    "print('CV Score Mean:', model_rf_cv.mean())\n",
    "print('CV Score Std:', model_rf_cv.std())"
   ]
  },
  {
   "cell_type": "markdown",
   "metadata": {},
   "source": [
    "## Random forest with Smote"
   ]
  },
  {
   "cell_type": "code",
   "execution_count": 24,
   "metadata": {},
   "outputs": [
    {
     "data": {
      "text/plain": [
       "Pipeline(steps=[('transformer',\n",
       "                 ColumnTransformer(remainder='passthrough',\n",
       "                                   transformers=[('binary', BinaryEncoder(),\n",
       "                                                  ['Gender', 'Marital_Status']),\n",
       "                                                 ('or_pipe',\n",
       "                                                  OrdinalEncoder(cols=['Education_Level',\n",
       "                                                                       'Income_Category',\n",
       "                                                                       'Card_Category'],\n",
       "                                                                 mapping=[{'col': 'Education_Level',\n",
       "                                                                           'mapping': {'College': 3,\n",
       "                                                                                       'Doctorate': 6,\n",
       "                                                                                       'Graduate': 4,\n",
       "                                                                                       'High School': 2,\n",
       "                                                                                       'Post-Graduate': 5,\n",
       "                                                                                       'Unedu...\n",
       "                                                                                       'Unknown': 0}},\n",
       "                                                                          {'col': 'Card_Category',\n",
       "                                                                           'mapping': {'Blue': 1,\n",
       "                                                                                       'Gold': 3,\n",
       "                                                                                       'Platinum': 4,\n",
       "                                                                                       'Silver': 2}}]),\n",
       "                                                  ['Education_Level',\n",
       "                                                   'Income_Category',\n",
       "                                                   'Card_Category'])])),\n",
       "                ('rfe',\n",
       "                 RFE(estimator=RandomForestClassifier(max_depth=20,\n",
       "                                                      min_samples_split=10,\n",
       "                                                      n_estimators=200))),\n",
       "                ('balance', SMOTE()),\n",
       "                ('clf',\n",
       "                 RandomForestClassifier(max_depth=20, min_samples_split=10,\n",
       "                                        n_estimators=200))])"
      ]
     },
     "execution_count": 24,
     "metadata": {},
     "output_type": "execute_result"
    }
   ],
   "source": [
    "balance = SMOTE()\n",
    "all_pipe_rf_sm = Pipeline([\n",
    "    ('transformer', rf_transformer),\n",
    "    ('rfe', rfe),\n",
    "    ('balance',balance),\n",
    "    ('clf',rf)\n",
    "])\n",
    "all_pipe_rf_sm.fit(x_train,y_train)"
   ]
  },
  {
   "cell_type": "code",
   "execution_count": 25,
   "metadata": {},
   "outputs": [],
   "source": [
    "rf_sm_pred = all_pipe_rf_sm.predict(x_test)\n",
    "rf_sm_prob = all_pipe_rf_sm.predict_proba(x_test)"
   ]
  },
  {
   "cell_type": "code",
   "execution_count": 26,
   "metadata": {},
   "outputs": [
    {
     "name": "stdout",
     "output_type": "stream",
     "text": [
      "              precision    recall  f1-score   support\n",
      "\n",
      "           0       0.97      0.98      0.98      1701\n",
      "           1       0.88      0.86      0.87       325\n",
      "\n",
      "    accuracy                           0.96      2026\n",
      "   macro avg       0.93      0.92      0.92      2026\n",
      "weighted avg       0.96      0.96      0.96      2026\n",
      "\n",
      "Accuracy: 95.95%\n",
      "Recall: 86.46%\n"
     ]
    }
   ],
   "source": [
    "print(classification_report(y_test, rf_sm_pred))\n",
    "print('Accuracy: %.2f%%' % (accuracy_score(y_test, rf_sm_pred)*100.0))\n",
    "print('Recall: %.2f%%' % (recall_score(y_test, rf_sm_pred)*100.0))"
   ]
  },
  {
   "cell_type": "code",
   "execution_count": 27,
   "metadata": {},
   "outputs": [
    {
     "data": {
      "text/plain": [
       "<sklearn.metrics._plot.confusion_matrix.ConfusionMatrixDisplay at 0x1732d457850>"
      ]
     },
     "execution_count": 27,
     "metadata": {},
     "output_type": "execute_result"
    },
    {
     "data": {
      "image/png": "[encoded data removed]",
      "text/plain": [
       "<Figure size 432x288 with 2 Axes>"
      ]
     },
     "metadata": {
      "needs_background": "light"
     },
     "output_type": "display_data"
    }
   ],
   "source": [
    "tn_rf_sm, fp_rf_sm, fn_rf_sm, tp_rf_sm = confusion_matrix(y_test,rf_sm_pred, labels=[1,0]).ravel()\n",
    "plot_confusion_matrix(all_pipe_rf_sm,x_test,y_test)"
   ]
  },
  {
   "cell_type": "code",
   "execution_count": 28,
   "metadata": {},
   "outputs": [
    {
     "data": {
      "text/plain": [
       "0.9483094771336928"
      ]
     },
     "execution_count": 28,
     "metadata": {},
     "output_type": "execute_result"
    }
   ],
   "source": [
    "prec_rf_sm, rec_rf_sm, thr_rf_sm = precision_recall_curve(y_test,rf_sm_prob[:,1])\n",
    "rf_sm_auc = auc(rec_rf_sm,prec_rf_sm)\n",
    "rf_sm_auc"
   ]
  },
  {
   "cell_type": "code",
   "execution_count": 29,
   "metadata": {},
   "outputs": [
    {
     "data": {
      "text/plain": [
       "<sklearn.metrics._plot.precision_recall_curve.PrecisionRecallDisplay at 0x1732d464df0>"
      ]
     },
     "execution_count": 29,
     "metadata": {},
     "output_type": "execute_result"
    },
    {
     "data": {
      "image/png": "[encoded data removed]",
      "text/plain": [
       "<Figure size 432x288 with 1 Axes>"
      ]
     },
     "metadata": {
      "needs_background": "light"
     },
     "output_type": "display_data"
    }
   ],
   "source": [
    "plot_precision_recall_curve(all_pipe_rf_sm,x_test,y_test)"
   ]
  },
  {
   "cell_type": "code",
   "execution_count": null,
   "metadata": {},
   "outputs": [],
   "source": []
  },
  {
   "cell_type": "code",
   "execution_count": 30,
   "metadata": {},
   "outputs": [
    {
     "name": "stderr",
     "output_type": "stream",
     "text": [
      "[Parallel(n_jobs=-1)]: Using backend LokyBackend with 8 concurrent workers.\n",
      "[Parallel(n_jobs=-1)]: Done   2 out of   5 | elapsed:  1.3min remaining:  1.9min\n"
     ]
    },
    {
     "name": "stdout",
     "output_type": "stream",
     "text": [
      "Random Forest (SMOTE)CV\n",
      "CV Score: [0.88122605 0.90384615 0.90769231 0.83461538 0.85823755]\n",
      "CV Score Mean: 0.8771234895372826\n",
      "CV Score Std: 0.027673099715168004\n"
     ]
    },
    {
     "name": "stderr",
     "output_type": "stream",
     "text": [
      "[Parallel(n_jobs=-1)]: Done   5 out of   5 | elapsed:  1.3min finished\n"
     ]
    }
   ],
   "source": [
    "model_rf_sm_cv = cross_val_score(all_pipe_rf_sm, x_train, y_train, scoring='recall', cv=skfold, n_jobs=-1, verbose=1)\n",
    "print(\"Random Forest (SMOTE)CV\")\n",
    "print('CV Score:', model_rf_sm_cv)\n",
    "print('CV Score Mean:', model_rf_sm_cv.mean())\n",
    "print('CV Score Std:', model_rf_sm_cv.std())"
   ]
  },
  {
   "cell_type": "markdown",
   "metadata": {},
   "source": [
    "model lebih baik saat menggunakan smote maka kita akamn melkukan tuned mengunkan smote sekaligus"
   ]
  },
  {
   "cell_type": "markdown",
   "metadata": {},
   "source": [
    "## Random Forest Tuned"
   ]
  },
  {
   "cell_type": "code",
   "execution_count": 31,
   "metadata": {},
   "outputs": [],
   "source": [
    "balance = SMOTE()\n",
    "skfold = StratifiedKFold(n_splits=5)\n",
    "rf_hyper_param2 = {\n",
    "    'clf__bootstrap': [True, False],\n",
    "    'clf__criterion': ['gini', 'entropy'],\n",
    "    'clf__max_depth': [10,15,20],\n",
    "    'clf__min_samples_split': [2,5,10,20],\n",
    "    'clf__n_estimators': [100,200]\n",
    "}\n",
    "\n",
    "grid_search_rf2 = GridSearchCV(\n",
    "    all_pipe_rf_sm,\n",
    "    param_grid = rf_hyper_param2,\n",
    "    cv = skfold,\n",
    "    scoring = 'recall',\n",
    "    n_jobs=-1,\n",
    "    verbose = 1\n",
    ")"
   ]
  },
  {
   "cell_type": "code",
   "execution_count": 32,
   "metadata": {},
   "outputs": [
    {
     "name": "stdout",
     "output_type": "stream",
     "text": [
      "Fitting 5 folds for each of 96 candidates, totalling 480 fits\n"
     ]
    },
    {
     "data": {
      "text/plain": [
       "GridSearchCV(cv=StratifiedKFold(n_splits=5, random_state=None, shuffle=False),\n",
       "             estimator=Pipeline(steps=[('transformer',\n",
       "                                        ColumnTransformer(remainder='passthrough',\n",
       "                                                          transformers=[('binary',\n",
       "                                                                         BinaryEncoder(),\n",
       "                                                                         ['Gender',\n",
       "                                                                          'Marital_Status']),\n",
       "                                                                        ('or_pipe',\n",
       "                                                                         OrdinalEncoder(cols=['Education_Level',\n",
       "                                                                                              'Income_Category',\n",
       "                                                                                              'Card_Category'],\n",
       "                                                                                        mapping=[{'col': 'Education_Level',\n",
       "                                                                                                  'ma...\n",
       "                                                                             min_samples_split=10,\n",
       "                                                                             n_estimators=200))),\n",
       "                                       ('balance', SMOTE()),\n",
       "                                       ('clf',\n",
       "                                        RandomForestClassifier(max_depth=20,\n",
       "                                                               min_samples_split=10,\n",
       "                                                               n_estimators=200))]),\n",
       "             n_jobs=-1,\n",
       "             param_grid={'clf__bootstrap': [True, False],\n",
       "                         'clf__criterion': ['gini', 'entropy'],\n",
       "                         'clf__max_depth': [10, 15, 20],\n",
       "                         'clf__min_samples_split': [2, 5, 10, 20],\n",
       "                         'clf__n_estimators': [100, 200]},\n",
       "             scoring='recall', verbose=1)"
      ]
     },
     "execution_count": 32,
     "metadata": {},
     "output_type": "execute_result"
    }
   ],
   "source": [
    "grid_search_rf2.fit(x_train,y_train)"
   ]
  },
  {
   "cell_type": "code",
   "execution_count": null,
   "metadata": {},
   "outputs": [],
   "source": []
  },
  {
   "cell_type": "code",
   "execution_count": 33,
   "metadata": {},
   "outputs": [],
   "source": [
    "rf_tuned2 = grid_search_rf2.best_estimator_"
   ]
  },
  {
   "cell_type": "code",
   "execution_count": 34,
   "metadata": {},
   "outputs": [
    {
     "data": {
      "text/plain": [
       "{'clf__bootstrap': True,\n",
       " 'clf__criterion': 'gini',\n",
       " 'clf__max_depth': 10,\n",
       " 'clf__min_samples_split': 10,\n",
       " 'clf__n_estimators': 100}"
      ]
     },
     "execution_count": 34,
     "metadata": {},
     "output_type": "execute_result"
    }
   ],
   "source": [
    "grid_search_rf2.best_params_"
   ]
  },
  {
   "cell_type": "code",
   "execution_count": 35,
   "metadata": {},
   "outputs": [],
   "source": [
    "rf_tn2_pred = rf_tuned2.predict(x_test)\n",
    "rf_tn2_prob = rf_tuned2.predict_proba(x_test)"
   ]
  },
  {
   "cell_type": "code",
   "execution_count": 36,
   "metadata": {},
   "outputs": [
    {
     "name": "stdout",
     "output_type": "stream",
     "text": [
      "              precision    recall  f1-score   support\n",
      "\n",
      "           0       0.98      0.97      0.97      1701\n",
      "           1       0.86      0.88      0.87       325\n",
      "\n",
      "    accuracy                           0.96      2026\n",
      "   macro avg       0.92      0.93      0.92      2026\n",
      "weighted avg       0.96      0.96      0.96      2026\n",
      "\n",
      "Accuracy: 95.71%\n",
      "Recall: 88.00%\n"
     ]
    }
   ],
   "source": [
    "print(classification_report(y_test,rf_tn2_pred))\n",
    "print('Accuracy: %.2f%%' % (accuracy_score(y_test, rf_tn2_pred)*100.0))\n",
    "print('Recall: %.2f%%' % (recall_score(y_test, rf_tn2_pred)*100.0))"
   ]
  },
  {
   "cell_type": "code",
   "execution_count": 37,
   "metadata": {},
   "outputs": [
    {
     "name": "stdout",
     "output_type": "stream",
     "text": [
      "Train ACC: 0.979\n",
      "Test ACC: 0.957\n"
     ]
    }
   ],
   "source": [
    "print(f'Train ACC: {rf_tuned2.score(x_train,y_train):.3f}')\n",
    "print(f'Test ACC: {rf_tuned2.score(x_test,y_test):.3f}')"
   ]
  },
  {
   "cell_type": "code",
   "execution_count": null,
   "metadata": {},
   "outputs": [],
   "source": []
  },
  {
   "cell_type": "code",
   "execution_count": null,
   "metadata": {},
   "outputs": [],
   "source": []
  },
  {
   "cell_type": "markdown",
   "metadata": {},
   "source": [
    "Overfitting: Good performance on the training data, poor generliazation to other data.\n",
    "<br>\n",
    "Underfitting: Poor performance on the training data and poor generalization to other data"
   ]
  },
  {
   "cell_type": "code",
   "execution_count": 38,
   "metadata": {},
   "outputs": [
    {
     "data": {
      "text/plain": [
       "<sklearn.metrics._plot.confusion_matrix.ConfusionMatrixDisplay at 0x1732e2a10a0>"
      ]
     },
     "execution_count": 38,
     "metadata": {},
     "output_type": "execute_result"
    },
    {
     "data": {
      "image/png": "[encoded data removed]",
      "text/plain": [
       "<Figure size 432x288 with 2 Axes>"
      ]
     },
     "metadata": {
      "needs_background": "light"
     },
     "output_type": "display_data"
    }
   ],
   "source": [
    "tn_rf2, fp_rf2, fn_rf2, tp_rf2 = confusion_matrix(y_test,rf_tn2_pred,labels=[1,0]).ravel()\n",
    "plot_confusion_matrix(rf_tuned2,x_test,y_test)"
   ]
  },
  {
   "cell_type": "code",
   "execution_count": 39,
   "metadata": {},
   "outputs": [
    {
     "data": {
      "text/plain": [
       "0.9433960441740259"
      ]
     },
     "execution_count": 39,
     "metadata": {},
     "output_type": "execute_result"
    }
   ],
   "source": [
    "pre_rf2, rec_rf2, thr_rf2 = precision_recall_curve(y_test, rf_tn2_prob[:,1])\n",
    "rf2_tn_auc = auc(rec_rf2, pre_rf2)\n",
    "rf2_tn_auc"
   ]
  },
  {
   "cell_type": "code",
   "execution_count": 40,
   "metadata": {},
   "outputs": [
    {
     "data": {
      "text/plain": [
       "<sklearn.metrics._plot.precision_recall_curve.PrecisionRecallDisplay at 0x1732e313fd0>"
      ]
     },
     "execution_count": 40,
     "metadata": {},
     "output_type": "execute_result"
    },
    {
     "data": {
      "image/png": "[encoded data removed]",
      "text/plain": [
       "<Figure size 432x288 with 1 Axes>"
      ]
     },
     "metadata": {
      "needs_background": "light"
     },
     "output_type": "display_data"
    }
   ],
   "source": [
    "plot_precision_recall_curve(rf_tuned2,x_test,y_test)"
   ]
  },
  {
   "cell_type": "code",
   "execution_count": 41,
   "metadata": {},
   "outputs": [
    {
     "name": "stderr",
     "output_type": "stream",
     "text": [
      "[Parallel(n_jobs=-1)]: Using backend LokyBackend with 8 concurrent workers.\n",
      "[Parallel(n_jobs=-1)]: Done   2 out of   5 | elapsed:  1.3min remaining:  1.9min\n",
      "[Parallel(n_jobs=-1)]: Done   5 out of   5 | elapsed:  1.3min finished\n"
     ]
    },
    {
     "name": "stdout",
     "output_type": "stream",
     "text": [
      "Random Forest (SMOTE)CV\n",
      "CV Score: [0.87356322 0.90769231 0.89230769 0.87307692 0.8697318 ]\n",
      "CV Score Mean: 0.8832743884468023\n",
      "CV Score Std: 0.014557006311973101\n"
     ]
    }
   ],
   "source": [
    "model_rf_tn_cv = cross_val_score(rf_tuned2, x_train, y_train, scoring='recall', cv=skfold, n_jobs=-1, verbose=1)\n",
    "print(\"Random Forest (SMOTE)CV\")\n",
    "print('CV Score:', model_rf_tn_cv)\n",
    "print('CV Score Mean:', model_rf_tn_cv.mean())\n",
    "print('CV Score Std:', model_rf_tn_cv.std())"
   ]
  },
  {
   "cell_type": "markdown",
   "metadata": {},
   "source": [
    "## Model Compare"
   ]
  },
  {
   "cell_type": "code",
   "execution_count": 51,
   "metadata": {},
   "outputs": [
    {
     "data": {
      "text/html": [
       "<div>\n",
       "<style scoped>\n",
       "    .dataframe tbody tr th:only-of-type {\n",
       "        vertical-align: middle;\n",
       "    }\n",
       "\n",
       "    .dataframe tbody tr th {\n",
       "        vertical-align: top;\n",
       "    }\n",
       "\n",
       "    .dataframe thead th {\n",
       "        text-align: right;\n",
       "    }\n",
       "</style>\n",
       "<table border=\"1\" class=\"dataframe\">\n",
       "  <thead>\n",
       "    <tr style=\"text-align: right;\">\n",
       "      <th></th>\n",
       "      <th>Random FOrest Default</th>\n",
       "      <th>Random Forest SMOTE</th>\n",
       "      <th>Random Forest Tuned</th>\n",
       "    </tr>\n",
       "  </thead>\n",
       "  <tbody>\n",
       "    <tr>\n",
       "      <th>Acuracy Score</th>\n",
       "      <td>0.959526</td>\n",
       "      <td>0.959526</td>\n",
       "      <td>0.957058</td>\n",
       "    </tr>\n",
       "    <tr>\n",
       "      <th>precision Score</th>\n",
       "      <td>0.880878</td>\n",
       "      <td>0.880878</td>\n",
       "      <td>0.856287</td>\n",
       "    </tr>\n",
       "    <tr>\n",
       "      <th>recall score</th>\n",
       "      <td>0.864615</td>\n",
       "      <td>0.864615</td>\n",
       "      <td>0.880000</td>\n",
       "    </tr>\n",
       "    <tr>\n",
       "      <th>AUC</th>\n",
       "      <td>0.948309</td>\n",
       "      <td>0.948309</td>\n",
       "      <td>0.943396</td>\n",
       "    </tr>\n",
       "    <tr>\n",
       "      <th>f1 score</th>\n",
       "      <td>0.872671</td>\n",
       "      <td>0.872671</td>\n",
       "      <td>0.867982</td>\n",
       "    </tr>\n",
       "    <tr>\n",
       "      <th>TP</th>\n",
       "      <td>281.000000</td>\n",
       "      <td>1663.000000</td>\n",
       "      <td>1653.000000</td>\n",
       "    </tr>\n",
       "    <tr>\n",
       "      <th>TN</th>\n",
       "      <td>1663.000000</td>\n",
       "      <td>281.000000</td>\n",
       "      <td>286.000000</td>\n",
       "    </tr>\n",
       "    <tr>\n",
       "      <th>FP</th>\n",
       "      <td>38.000000</td>\n",
       "      <td>44.000000</td>\n",
       "      <td>39.000000</td>\n",
       "    </tr>\n",
       "    <tr>\n",
       "      <th>FN</th>\n",
       "      <td>44.000000</td>\n",
       "      <td>38.000000</td>\n",
       "      <td>48.000000</td>\n",
       "    </tr>\n",
       "  </tbody>\n",
       "</table>\n",
       "</div>"
      ],
      "text/plain": [
       "                 Random FOrest Default  Random Forest SMOTE  \\\n",
       "Acuracy Score                 0.959526             0.959526   \n",
       "precision Score               0.880878             0.880878   \n",
       "recall score                  0.864615             0.864615   \n",
       "AUC                           0.948309             0.948309   \n",
       "f1 score                      0.872671             0.872671   \n",
       "TP                          281.000000          1663.000000   \n",
       "TN                         1663.000000           281.000000   \n",
       "FP                           38.000000            44.000000   \n",
       "FN                           44.000000            38.000000   \n",
       "\n",
       "                 Random Forest Tuned  \n",
       "Acuracy Score               0.957058  \n",
       "precision Score             0.856287  \n",
       "recall score                0.880000  \n",
       "AUC                         0.943396  \n",
       "f1 score                    0.867982  \n",
       "TP                       1653.000000  \n",
       "TN                        286.000000  \n",
       "FP                         39.000000  \n",
       "FN                         48.000000  "
      ]
     },
     "execution_count": 51,
     "metadata": {},
     "output_type": "execute_result"
    }
   ],
   "source": [
    "rf_comparison = pd.DataFrame({\n",
    "    \"Random FOrest Default\":[accuracy_score(y_test,rf_pred),precision_score(y_test,rf_pred),recall_score(y_test,rf_pred),auc_rf,f1_score(y_test,rf_pred),\n",
    "                tp_rf,tn_rf,fp_rf,fn_rf],\n",
    "    \"Random Forest SMOTE\":[accuracy_score(y_test,rf_sm_pred),precision_score(y_test,rf_sm_pred),recall_score(y_test,rf_sm_pred),rf_sm_auc,f1_score(y_test,rf_sm_pred),\n",
    "                tp_rf_sm,tn_rf_sm,fp_rf_sm,fn_rf_sm],\n",
    "    \"Random Forest Tuned\":[accuracy_score(y_test,rf_tn2_pred),precision_score(y_test,rf_tn2_pred),recall_score(y_test,rf_tn2_pred),rf2_tn_auc,f1_score(y_test,rf_tn2_pred),\n",
    "                tp_rf2,tn_rf2,fp_rf2,fn_rf2]\n",
    "},index = ['Acuracy Score','precision Score','recall score','AUC','f1 score','TP','TN','FP','FN'])\n",
    "rf_comparison"
   ]
  },
  {
   "cell_type": "markdown",
   "metadata": {},
   "source": [
    "<h1> Chosen Model"
   ]
  },
  {
   "cell_type": "markdown",
   "metadata": {},
   "source": [
    "dari ke-4 model yang sudah di coba Random forest memiliki precision_recall_curve yang paling baik di bandingkan model yang lain sehingga kita akan fokus pada RandomForesst"
   ]
  },
  {
   "cell_type": "code",
   "execution_count": 52,
   "metadata": {},
   "outputs": [
    {
     "data": {
      "text/html": [
       "<div>\n",
       "<style scoped>\n",
       "    .dataframe tbody tr th:only-of-type {\n",
       "        vertical-align: middle;\n",
       "    }\n",
       "\n",
       "    .dataframe tbody tr th {\n",
       "        vertical-align: top;\n",
       "    }\n",
       "\n",
       "    .dataframe thead th {\n",
       "        text-align: right;\n",
       "    }\n",
       "</style>\n",
       "<table border=\"1\" class=\"dataframe\">\n",
       "  <thead>\n",
       "    <tr style=\"text-align: right;\">\n",
       "      <th></th>\n",
       "      <th>Random FOrest Default</th>\n",
       "      <th>Random Forest SMOTE</th>\n",
       "      <th>Random Forest Tuned</th>\n",
       "    </tr>\n",
       "  </thead>\n",
       "  <tbody>\n",
       "    <tr>\n",
       "      <th>Acuracy Score</th>\n",
       "      <td>0.959526</td>\n",
       "      <td>0.959526</td>\n",
       "      <td>0.957058</td>\n",
       "    </tr>\n",
       "    <tr>\n",
       "      <th>precision Score</th>\n",
       "      <td>0.880878</td>\n",
       "      <td>0.880878</td>\n",
       "      <td>0.856287</td>\n",
       "    </tr>\n",
       "    <tr>\n",
       "      <th>recall score</th>\n",
       "      <td>0.864615</td>\n",
       "      <td>0.864615</td>\n",
       "      <td>0.880000</td>\n",
       "    </tr>\n",
       "    <tr>\n",
       "      <th>AUC</th>\n",
       "      <td>0.948309</td>\n",
       "      <td>0.948309</td>\n",
       "      <td>0.943396</td>\n",
       "    </tr>\n",
       "    <tr>\n",
       "      <th>f1 score</th>\n",
       "      <td>0.872671</td>\n",
       "      <td>0.872671</td>\n",
       "      <td>0.867982</td>\n",
       "    </tr>\n",
       "    <tr>\n",
       "      <th>TP</th>\n",
       "      <td>281.000000</td>\n",
       "      <td>1663.000000</td>\n",
       "      <td>1653.000000</td>\n",
       "    </tr>\n",
       "    <tr>\n",
       "      <th>TN</th>\n",
       "      <td>1663.000000</td>\n",
       "      <td>281.000000</td>\n",
       "      <td>286.000000</td>\n",
       "    </tr>\n",
       "    <tr>\n",
       "      <th>FP</th>\n",
       "      <td>38.000000</td>\n",
       "      <td>44.000000</td>\n",
       "      <td>39.000000</td>\n",
       "    </tr>\n",
       "    <tr>\n",
       "      <th>FN</th>\n",
       "      <td>44.000000</td>\n",
       "      <td>38.000000</td>\n",
       "      <td>48.000000</td>\n",
       "    </tr>\n",
       "  </tbody>\n",
       "</table>\n",
       "</div>"
      ],
      "text/plain": [
       "                 Random FOrest Default  Random Forest SMOTE  \\\n",
       "Acuracy Score                 0.959526             0.959526   \n",
       "precision Score               0.880878             0.880878   \n",
       "recall score                  0.864615             0.864615   \n",
       "AUC                           0.948309             0.948309   \n",
       "f1 score                      0.872671             0.872671   \n",
       "TP                          281.000000          1663.000000   \n",
       "TN                         1663.000000           281.000000   \n",
       "FP                           38.000000            44.000000   \n",
       "FN                           44.000000            38.000000   \n",
       "\n",
       "                 Random Forest Tuned  \n",
       "Acuracy Score               0.957058  \n",
       "precision Score             0.856287  \n",
       "recall score                0.880000  \n",
       "AUC                         0.943396  \n",
       "f1 score                    0.867982  \n",
       "TP                       1653.000000  \n",
       "TN                        286.000000  \n",
       "FP                         39.000000  \n",
       "FN                         48.000000  "
      ]
     },
     "execution_count": 52,
     "metadata": {},
     "output_type": "execute_result"
    }
   ],
   "source": [
    "rf_comparison"
   ]
  },
  {
   "cell_type": "code",
   "execution_count": 53,
   "metadata": {},
   "outputs": [
    {
     "data": {
      "text/plain": [
       "<sklearn.metrics._plot.precision_recall_curve.PrecisionRecallDisplay at 0x1732e357940>"
      ]
     },
     "execution_count": 53,
     "metadata": {},
     "output_type": "execute_result"
    },
    {
     "data": {
      "image/png": "[encoded data removed]",
      "text/plain": [
       "<Figure size 432x288 with 1 Axes>"
      ]
     },
     "metadata": {
      "needs_background": "light"
     },
     "output_type": "display_data"
    },
    {
     "data": {
      "image/png": "[encoded data removed]",
      "text/plain": [
       "<Figure size 432x288 with 1 Axes>"
      ]
     },
     "metadata": {
      "needs_background": "light"
     },
     "output_type": "display_data"
    },
    {
     "data": {
      "image/png": "[encoded data removed]",
      "text/plain": [
       "<Figure size 432x288 with 1 Axes>"
      ]
     },
     "metadata": {
      "needs_background": "light"
     },
     "output_type": "display_data"
    }
   ],
   "source": [
    "plot_precision_recall_curve(all_pipe_rf,x_test,y_test)\n",
    "plot_precision_recall_curve(all_pipe_rf_sm,x_test,y_test)\n",
    "plot_precision_recall_curve(rf_tuned2,x_test,y_test)"
   ]
  },
  {
   "cell_type": "markdown",
   "metadata": {},
   "source": [
    "dari hasil compare di atas nilai Precision_recall curve paling tinngi ada pada model default tanpa smote dan dengan smote yaitu 0.95<br>\n",
    "pada model tuned nilai precision_recall_curve berbeda sedikit tetapi memiliki nialiaccuracy dan recall yang lebih tinggi di bandingkan model tanpa di tunning"
   ]
  },
  {
   "cell_type": "code",
   "execution_count": 56,
   "metadata": {
    "jupyter": {
     "source_hidden": true
    }
   },
   "outputs": [
    {
     "data": {
      "text/html": [
       "<div>\n",
       "<style scoped>\n",
       "    .dataframe tbody tr th:only-of-type {\n",
       "        vertical-align: middle;\n",
       "    }\n",
       "\n",
       "    .dataframe tbody tr th {\n",
       "        vertical-align: top;\n",
       "    }\n",
       "\n",
       "    .dataframe thead th {\n",
       "        text-align: right;\n",
       "    }\n",
       "</style>\n",
       "<table border=\"1\" class=\"dataframe\">\n",
       "  <thead>\n",
       "    <tr style=\"text-align: right;\">\n",
       "      <th></th>\n",
       "      <th>Random FOrest Default</th>\n",
       "      <th>Random Forest SMOTE</th>\n",
       "      <th>Random Forest Tuned</th>\n",
       "    </tr>\n",
       "  </thead>\n",
       "  <tbody>\n",
       "    <tr>\n",
       "      <th>Acuracy Score</th>\n",
       "      <td>0.959526</td>\n",
       "      <td>0.959526</td>\n",
       "      <td>0.957058</td>\n",
       "    </tr>\n",
       "    <tr>\n",
       "      <th>precision Score</th>\n",
       "      <td>0.880878</td>\n",
       "      <td>0.880878</td>\n",
       "      <td>0.856287</td>\n",
       "    </tr>\n",
       "    <tr>\n",
       "      <th>recall score</th>\n",
       "      <td>0.864615</td>\n",
       "      <td>0.864615</td>\n",
       "      <td>0.880000</td>\n",
       "    </tr>\n",
       "  </tbody>\n",
       "</table>\n",
       "</div>"
      ],
      "text/plain": [
       "                 Random FOrest Default  Random Forest SMOTE  \\\n",
       "Acuracy Score                 0.959526             0.959526   \n",
       "precision Score               0.880878             0.880878   \n",
       "recall score                  0.864615             0.864615   \n",
       "\n",
       "                 Random Forest Tuned  \n",
       "Acuracy Score               0.957058  \n",
       "precision Score             0.856287  \n",
       "recall score                0.880000  "
      ]
     },
     "execution_count": 56,
     "metadata": {},
     "output_type": "execute_result"
    }
   ],
   "source": [
    "disp = pd.DataFrame({\n",
    "    \"Random FOrest Default\":[accuracy_score(y_test,rf_pred),precision_score(y_test,rf_pred),recall_score(y_test,rf_pred)],\n",
    "    \"Random Forest SMOTE\":[accuracy_score(y_test,rf_sm_pred),precision_score(y_test,rf_sm_pred),recall_score(y_test,rf_sm_pred)],\n",
    "    \"Random Forest Tuned\":[accuracy_score(y_test,rf_tn2_pred),precision_score(y_test,rf_tn2_pred),recall_score(y_test,rf_tn2_pred)]\n",
    "},index = ['Acuracy Score','precision Score','recall score'])\n",
    "disp"
   ]
  },
  {
   "cell_type": "markdown",
   "metadata": {},
   "source": [
    "sehinga pada deployment kita akan mengguanakn RandomForest dengan hyperparameter tunning untuk di lakukan deployment untuk melakukan pedit data baru pada flask yang telah di buat"
   ]
  },
  {
   "cell_type": "code",
   "execution_count": null,
   "metadata": {
    "jupyter": {
     "source_hidden": true
    }
   },
   "outputs": [],
   "source": [
    "\n",
    "# X_train2 = pd.DataFrame(rf_transformer.fit_transform(x_train))\n",
    "# x_test2 = pd.DataFrame(rf_transformer.transform(x_test))\n",
    "\n",
    "# depths = range(1,50)\n",
    "# testing_accuracies = []\n",
    "# training_accuracies = []\n",
    "# score = 0\n",
    "# smote = SMOTE()\n",
    "# X_smo, y_smo = smote.fit_resample(X_train2, y_train)\n",
    "\n",
    "# for i in depths:\n",
    "#     dtc_i = RandomForestClassifier(bootstrap=True, criterion='gini',min_samples_split=5, n_estimators=200,max_depth=i)\n",
    "   \n",
    "#     dtc_i.fit(X_smo, y_smo)\n",
    "    \n",
    "#     y_pred_train = dtc_i.predict(X_smo)\n",
    "#     training_accuracies.append(accuracy_score(y_smo, y_pred_train))\n",
    "    \n",
    "#     y_pred_test = dtc_i.predict(x_test2)\n",
    "#     acc_score = accuracy_score(y_test, y_pred_test)\n",
    "#     testing_accuracies.append(acc_score)\n",
    "    \n",
    "#     if score < acc_score:\n",
    "#         score = acc_score\n",
    "#         best_depth = i"
   ]
  },
  {
   "cell_type": "code",
   "execution_count": null,
   "metadata": {
    "jupyter": {
     "source_hidden": true
    }
   },
   "outputs": [],
   "source": [
    "# plt.figure(figsize=(10,7))\n",
    "# sns.lineplot(depths, testing_accuracies)\n",
    "# sns.lineplot(depths, training_accuracies)\n",
    "# plt.axvline(best_depth, color='red')\n",
    "# plt.legend(['testing accuracy', 'training accuracy', best_depth])\n",
    "# plt.show()"
   ]
  },
  {
   "cell_type": "markdown",
   "metadata": {},
   "source": [
    "# Deployment"
   ]
  },
  {
   "cell_type": "code",
   "execution_count": null,
   "metadata": {},
   "outputs": [],
   "source": [
    "import pickle\n",
    "import joblib"
   ]
  },
  {
   "cell_type": "code",
   "execution_count": null,
   "metadata": {},
   "outputs": [],
   "source": [
    "rf_tuned2.fit(x,y)"
   ]
  },
  {
   "cell_type": "code",
   "execution_count": null,
   "metadata": {},
   "outputs": [],
   "source": [
    "filename = 'rf_tuned.sav'\n",
    "pickle.dump(dtc_tuned, open(filename, 'wb'))"
   ]
  },
  {
   "cell_type": "code",
   "execution_count": null,
   "metadata": {},
   "outputs": [],
   "source": [
    "filename = 'rf_tuned.sav'\n",
    "loaded_model = pickle.load((open(filename, 'rb')))"
   ]
  },
  {
   "cell_type": "code",
   "execution_count": null,
   "metadata": {},
   "outputs": [],
   "source": [
    "loaded_model"
   ]
  }
 ],
 "metadata": {
  "kernelspec": {
   "display_name": "Python 3",
   "language": "python",
   "name": "python3"
  },
  "language_info": {
   "codemirror_mode": {
    "name": "ipython",
    "version": 3
   },
   "file_extension": ".py",
   "mimetype": "text/x-python",
   "name": "python",
   "nbconvert_exporter": "python",
   "pygments_lexer": "ipython3",
   "version": "3.8.5"
  }
 },
 "nbformat": 4,
 "nbformat_minor": 4
}
